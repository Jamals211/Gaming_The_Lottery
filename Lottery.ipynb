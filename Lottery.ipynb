{
 "cells": [
  {
   "cell_type": "code",
   "execution_count": 1,
   "metadata": {},
   "outputs": [],
   "source": [
    "import numpy as np\n",
    "import pandas as pd\n",
    "#import time dependencies\n",
    "from datetime import datetime\n",
    "import time\n",
    "from datetime import date, timedelta\n",
    "import datetime\n",
    "#import statistics dependencies\n",
    "from scipy.stats import linregress\n",
    "#import matplotlib dependencies\n",
    "import matplotlib.pyplot as plt\n",
    "import matplotlib.dates as mdates\n",
    "import matplotlib.lines as mlines\n",
    "import matplotlib.ticker as mticker\n",
    "import matplotlib as mpl\n",
    "\n",
    "\n",
    "\n",
    "\n",
    "import statistics as st\n",
    "import seaborn as sns"
   ]
  },
  {
   "cell_type": "code",
   "execution_count": 2,
   "metadata": {},
   "outputs": [],
   "source": [
    "data='9.4.csv'\n",
    "data_df=pd.read_csv(data,header=None)\n",
    "data_df=data_df[1:38]\n",
    "data_df.columns=[\"Date\",\"1\",\"2\",\"3\",\"4\",\"5\",\"6\"]\n",
    "data_df=pd.DataFrame(data_df)\n",
    "data_df['Date']=pd.to_datetime(data_df[\"Date\"], format='%m/%d/%Y')\n",
    "#need to set the index to avoid view limit minimum\n",
    "data_df.set_index('Date', inplace=True)\n",
    "# df_google.set_index('datetime', inplace=True)"
   ]
  },
  {
   "cell_type": "code",
   "execution_count": 3,
   "metadata": {},
   "outputs": [],
   "source": [
    "# data_df"
   ]
  },
  {
   "cell_type": "markdown",
   "metadata": {},
   "source": [
    "# Winning Numbers"
   ]
  },
  {
   "cell_type": "code",
   "execution_count": 4,
   "metadata": {},
   "outputs": [],
   "source": [
    "#create a data set that contains all the winning numbers\n",
    "data=[\n",
    "[7,10,15,31,57],\n",
    "[19,22,24,28,53],\n",
    "[15,25,26,38,47],\n",
    "[3,9,50,53,64],\n",
    "[8,10,15,17,57],\n",
    "[11,15,31,42,63],\n",
    "[4,18,26,27,58],\n",
    "[3,24,29,42,47],\n",
    "[8,22,29,43,56],\n",
    "[4,44,53,64,70],\n",
    "[2,22,30,42,62],\n",
    "[12,35,46,48,69],\n",
    "[17,20,27,31,34],\n",
    "[8,33,39,54,58],\n",
    "[14,25,26,41,43],\n",
    "[12,13,21,46,57],\n",
    "[6,26,55,56,64],\n",
    "[10,15,20,49,53],\n",
    "[16,20,25,30,43],\n",
    "[20,40,44,45,50],\n",
    "[9,16,29,37,53],\n",
    "[6,20,37,40,48],\n",
    "[11,34,36,52,66],\n",
    "[21,23,33,35,42],\n",
    "[9,14,57,67,70],\n",
    "[1,5,9,10,23],\n",
    "[32,35,37,47,55],\n",
    "[9,20,23,26,29],\n",
    "[10,13,32,41,51],\n",
    "[34,52,58,59,62],\n",
    "[8,10,20,44,46],\n",
    "[8,19,25,36,66],\n",
    "[11,17,32,33,46],\n",
    "[7,16,27,44,52],\n",
    "[5,20,22,61,70],\n",
    "[7,13,17,21,45],\n",
    "[28,30,31,35,66],\n",
    "[13,19,53,54,63],\n",
    "[1,27,32,60,67],\n",
    "     ]"
   ]
  },
  {
   "cell_type": "code",
   "execution_count": 5,
   "metadata": {},
   "outputs": [],
   "source": [
    "#need to concatonate all the lists of numbers \n",
    "#list=list+x is the same as list+=x\n",
    "#create an empty list and then loop through a sample of 30\n",
    "# sample of 30 is enough for the central limit theorem(large data set normalizes the numbers) \n",
    "#could use ''.join()\n",
    "lst=[]\n",
    "for x in data[0:30]:\n",
    "    lst+=x\n",
    "#count the number of times a # occurs in lst\n",
    "#then sort them\n",
    "d={}\n",
    "[ d.update( {i:d.get(i, 0)+1} ) for i in lst ]\n",
    "sorted_d = sorted(d.items())\n",
    "# sorted_d"
   ]
  },
  {
   "cell_type": "code",
   "execution_count": 6,
   "metadata": {},
   "outputs": [
    {
     "data": {
      "image/png": "[encoded data removed]",
      "text/plain": [
       "<Figure size 1440x720 with 1 Axes>"
      ]
     },
     "metadata": {
      "needs_background": "light"
     },
     "output_type": "display_data"
    },
    {
     "data": {
      "text/plain": [
       "<Figure size 432x288 with 0 Axes>"
      ]
     },
     "metadata": {},
     "output_type": "display_data"
    }
   ],
   "source": [
    "#unpack the list ofr x and y values using zip(data)\n",
    "x, y = zip(*sorted_d)\n",
    "#plot the # vs the number of occurces\n",
    "# x=list(range(1, 71))\n",
    "fig = plt.figure(figsize = (20, 10))\n",
    "plt.scatter(*zip(*sorted_d))\n",
    "plt.xticks(np.arange(min(x), max(x)+1, 1.0))\n",
    "plt.xticks(rotation=70)\n",
    "\n",
    "plt.xlabel(\"Mega Millions Number\") \n",
    "plt.ylabel(\"No. of Occurences\") \n",
    "plt.title(\"Mega Millions Winning Numbers\") \n",
    "plt.grid()\n",
    "plt.show() \n",
    "plt.savefig(\"MegaMillions.png\", bbox_inches='tight')"
   ]
  },
  {
   "cell_type": "markdown",
   "metadata": {},
   "source": [
    "### Bins and Quartiles"
   ]
  },
  {
   "cell_type": "code",
   "execution_count": 7,
   "metadata": {},
   "outputs": [
    {
     "data": {
      "text/plain": [
       "(0.999, 16.25]    38\n",
       "(16.25, 30.5]     37\n",
       "(30.5, 47.0]      38\n",
       "(47.0, 70.0]      37\n",
       "dtype: int64"
      ]
     },
     "execution_count": 7,
     "metadata": {},
     "output_type": "execute_result"
    }
   ],
   "source": [
    "#Quartile cut to 25%, 50%, and 75%\n",
    "#dont define the bins\n",
    "# define the number of quantiles and let pandas figure out how to divide up the data.\n",
    "# lst = pd.qcut(df['ext price'], q=4) #save it back in the original df\n",
    "Qcuts=pd.qcut(lst, q=4)\n",
    "Qcuts.value_counts()\n",
    "#there should be an equal amount of observations per bin bc Pandas is doing the math to figure out width\n",
    "#this is not the case because the numbers are different"
   ]
  },
  {
   "cell_type": "code",
   "execution_count": 8,
   "metadata": {},
   "outputs": [
    {
     "data": {
      "text/plain": [
       "(0.931, 18.25]    41\n",
       "(18.25, 35.5]     47\n",
       "(35.5, 52.75]     33\n",
       "(52.75, 70.0]     29\n",
       "dtype: int64"
      ]
     },
     "execution_count": 8,
     "metadata": {},
     "output_type": "execute_result"
    }
   ],
   "source": [
    "# cut and bin\n",
    "#define the bins\n",
    "pd.cut(lst, bins=4).value_counts()"
   ]
  },
  {
   "cell_type": "code",
   "execution_count": 9,
   "metadata": {},
   "outputs": [
    {
     "data": {
      "text/plain": [
       "[(0, 10], (0, 10], (10, 20], (30, 40], (50, 60], ..., (30, 40], (50, 60], (50, 60], (50, 60], (60, 70]]\n",
       "Length: 150\n",
       "Categories (7, interval[int64]): [(0, 10] < (10, 20] < (20, 30] < (30, 40] < (40, 50] < (50, 60] < (60, 70]]"
      ]
     },
     "execution_count": 9,
     "metadata": {},
     "output_type": "execute_result"
    }
   ],
   "source": [
    "cut_bins = [0, 10, 20, 30, 40,50,60,70]\n",
    "Cut_lst = pd.cut(lst, bins=cut_bins)\n",
    "Cut_lst"
   ]
  },
  {
   "cell_type": "code",
   "execution_count": 10,
   "metadata": {
    "scrolled": true
   },
   "outputs": [
    {
     "data": {
      "text/plain": [
       "[(0.0, 10.0], (0.0, 10.0], (10.0, 20.0], (30.0, 40.0], (50.0, 60.0], ..., (30.0, 40.0], (50.0, 60.0], (50.0, 60.0], (50.0, 60.0], (60.0, 70.0]]\n",
       "Length: 150\n",
       "Categories (7, interval[float64]): [(0.0, 10.0] < (10.0, 20.0] < (20.0, 30.0] < (30.0, 40.0] < (40.0, 50.0] < (50.0, 60.0] < (60.0, 70.0]]"
      ]
     },
     "execution_count": 10,
     "metadata": {},
     "output_type": "execute_result"
    }
   ],
   "source": [
    "#linespace to provide an array of evenly spaced bins over a specified range\n",
    "pd.cut(lst, bins=np.linspace(0, 70, 8))"
   ]
  },
  {
   "cell_type": "code",
   "execution_count": 11,
   "metadata": {},
   "outputs": [
    {
     "data": {
      "text/plain": [
       "[(0, 10], (0, 10], (10, 20], (30, 40], (50, 60], ..., (30, 40], (50, 60], (50, 60], (50, 60], (60, 70]]\n",
       "Length: 150\n",
       "Categories (7, interval[int64]): [(0, 10] < (10, 20] < (20, 30] < (30, 40] < (40, 50] < (50, 60] < (60, 70]]"
      ]
     },
     "execution_count": 11,
     "metadata": {},
     "output_type": "execute_result"
    }
   ],
   "source": [
    "#use interval range for numbers and date ranges but cannot label bins\n",
    "interval_range = pd.interval_range(start=0, freq=10, end=70)\n",
    "lst_interval = pd.cut(lst, bins=interval_range, labels=[1,2,3])\n",
    "lst_interval"
   ]
  },
  {
   "cell_type": "markdown",
   "metadata": {},
   "source": [
    "### Statistics"
   ]
  },
  {
   "cell_type": "code",
   "execution_count": 12,
   "metadata": {},
   "outputs": [
    {
     "data": {
      "text/plain": [
       "18.378726832944658"
      ]
     },
     "execution_count": 12,
     "metadata": {},
     "output_type": "execute_result"
    }
   ],
   "source": [
    "stdev = st.pstdev(lst)\n",
    "stdev"
   ]
  },
  {
   "cell_type": "code",
   "execution_count": 13,
   "metadata": {},
   "outputs": [
    {
     "data": {
      "text/plain": [
       "337.7776"
      ]
     },
     "execution_count": 13,
     "metadata": {},
     "output_type": "execute_result"
    }
   ],
   "source": [
    "variance = st.pvariance(lst)\n",
    "variance"
   ]
  },
  {
   "cell_type": "markdown",
   "metadata": {},
   "source": [
    "# Gold Number"
   ]
  },
  {
   "cell_type": "code",
   "execution_count": 14,
   "metadata": {},
   "outputs": [],
   "source": [
    "gold=[21,25,22,1,12,14,23,13,9,3,20,23,19,17,15,21,22,22,18,24,11,15,7,6,2,22,22,8,3,4,18,9,25,5,4,14,14,17,18]\n",
    "#gold_list is 30 samples of winning numbers\n",
    "gold_list=gold[0:30]\n",
    "#create a dictionary and count occurances in gold_list\n",
    "g={}\n",
    "[ g.update( {i:g.get(i, 0)+1} ) for i in gold_list ]\n",
    "#sort the list\n",
    "sorted_g=sorted(g.items())"
   ]
  },
  {
   "cell_type": "code",
   "execution_count": 15,
   "metadata": {},
   "outputs": [
    {
     "data": {
      "image/png": "[encoded data removed]",
      "text/plain": [
       "<Figure size 1080x360 with 1 Axes>"
      ]
     },
     "metadata": {
      "needs_background": "light"
     },
     "output_type": "display_data"
    },
    {
     "data": {
      "text/plain": [
       "<Figure size 432x288 with 0 Axes>"
      ]
     },
     "metadata": {},
     "output_type": "display_data"
    }
   ],
   "source": [
    "#unpack the list ofr x and y values using zip(data)\n",
    "x, y = zip(*sorted_g)\n",
    "#plot the # vs the number of occurces\n",
    "fig = plt.figure(figsize = (15, 5))\n",
    "plt.scatter(*zip(*sorted_g))\n",
    "plt.xticks(np.arange(min(x), max(x)+1, 1.0))\n",
    "# plt.yticks(0,5)\n",
    "# plt.xticks(rotation=70)\n",
    "\n",
    "plt.xlabel(\"Mega Millions Number\") \n",
    "plt.ylabel(\"Gold Number\") \n",
    "plt.title(\"Mega Millions Winning Numbers\") \n",
    "plt.grid()\n",
    "plt.show() \n",
    "plt.savefig(\"MegaMillionsGold.png\", bbox_inches='tight')"
   ]
  },
  {
   "cell_type": "code",
   "execution_count": null,
   "metadata": {},
   "outputs": [],
   "source": []
  },
  {
   "cell_type": "code",
   "execution_count": null,
   "metadata": {},
   "outputs": [],
   "source": []
  }
 ],
 "metadata": {
  "kernelspec": {
   "display_name": "PythonData",
   "language": "python",
   "name": "pythondata"
  },
  "language_info": {
   "codemirror_mode": {
    "name": "ipython",
    "version": 3
   },
   "file_extension": ".py",
   "mimetype": "text/x-python",
   "name": "python",
   "nbconvert_exporter": "python",
   "pygments_lexer": "ipython3",
   "version": "3.7.7"
  }
 },
 "nbformat": 4,
 "nbformat_minor": 4
}
