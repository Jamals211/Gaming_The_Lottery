{
 "cells": [
  {
   "cell_type": "code",
   "execution_count": 1,
   "metadata": {},
   "outputs": [],
   "source": [
    "import numpy as np\n",
    "import pandas as pd\n",
    "#import time dependencies\n",
    "from datetime import datetime\n",
    "import time\n",
    "from datetime import date, timedelta\n",
    "import datetime\n",
    "#import statistics dependencies\n",
    "from scipy.stats import linregress\n",
    "from scipy import stats\n",
    "#import matplotlib dependencies\n",
    "import matplotlib.pyplot as plt\n",
    "import matplotlib.dates as mdates\n",
    "import matplotlib.lines as mlines\n",
    "import matplotlib.ticker as mticker\n",
    "import matplotlib as mpl\n",
    "\n",
    "from scipy.stats import chi2\n",
    "import collections\n",
    "from matplotlib import colors\n",
    "\n",
    "import seaborn as sns"
   ]
  },
  {
   "cell_type": "code",
   "execution_count": 2,
   "metadata": {},
   "outputs": [],
   "source": [
    "#the data in this script is Discrete Data\n",
    "#-Data can be counted but cannot be divided.\n",
    "#-Data can be categorized into bins \n",
    "#probability mass function-assigns a probability to each possible value\n",
    "#https://towardsdatascience.com/plotting-probabilities-for-discrete-and-continuous-random-variables-353c5bb62336"
   ]
  },
  {
   "cell_type": "markdown",
   "metadata": {},
   "source": [
    "# Winning Numbers"
   ]
  },
  {
   "cell_type": "code",
   "execution_count": 3,
   "metadata": {},
   "outputs": [],
   "source": [
    "#create a data set that contains all the winning numbers\n",
    "data=[\n",
    "[15,16,18,39,59],\n",
    "[9,38,47,49,68],\n",
    "[14,39,43,44,67],\n",
    "[20,36,37,48,67],\n",
    "[26,29,41,52,64],\n",
    "[25,28,38,59,62],\n",
    "[3,15,42,48,56],\n",
    "[7,10,15,31,57],\n",
    "[19,22,24,28,53],\n",
    "[15,25,26,38,47],\n",
    "[3,9,50,53,64],\n",
    "[8,10,15,17,57],\n",
    "[11,15,31,42,63],\n",
    "[4,18,26,27,58],\n",
    "[3,24,29,42,47],\n",
    "[8,22,29,43,56],\n",
    "[4,44,53,64,70],\n",
    "[2,22,30,42,62],\n",
    "[12,35,46,48,69],\n",
    "[17,20,27,31,34],\n",
    "[8,33,39,54,58],\n",
    "[14,25,26,41,43],\n",
    "[12,13,21,46,57],\n",
    "[6,26,55,56,64],\n",
    "[10,15,20,49,53],\n",
    "[16,20,25,30,43],\n",
    "[20,40,44,45,50],\n",
    "[9,16,29,37,53],\n",
    "[6,20,37,40,48],\n",
    "[11,34,36,52,66],\n",
    "[21,23,33,35,42],\n",
    "[9,14,57,67,70],\n",
    "[1,5,9,10,23],\n",
    "[32,35,37,47,55],\n",
    "[9,20,23,26,29],\n",
    "[10,13,32,41,51],\n",
    "[34,52,58,59,62],\n",
    "[8,10,20,44,46],\n",
    "[8,19,25,36,66],\n",
    "[11,17,32,33,46],\n",
    "[7,16,27,44,52],\n",
    "[5,20,22,61,70],\n",
    "[7,13,17,21,45],\n",
    "[28,30,31,35,66],\n",
    "[13,19,53,54,63],\n",
    "[1,27,32,60,67],\n",
    "     ]"
   ]
  },
  {
   "cell_type": "code",
   "execution_count": 4,
   "metadata": {},
   "outputs": [
    {
     "name": "stdout",
     "output_type": "stream",
     "text": [
      "Numbers have not been choosen\n",
      "[5, 23, 32, 51, 60, 61, 65]\n",
      "Numbers that have been choosen only twice\n",
      "[4, 6, 11, 12, 14, 17, 18, 24, 27, 28, 30, 34, 36, 40, 41, 46, 49, 50, 52, 58, 59, 62, 67]\n"
     ]
    }
   ],
   "source": [
    "#need to concatonate all the lists of numbers \n",
    "#list=list+x is the same as list+=x\n",
    "#create an empty list and then loop through a sample of 30\n",
    "# sample of 30 is enough for the central limit theorem(large data set normalizes the numbers) \n",
    "#could use ''.join()\n",
    "lst=[]\n",
    "for x in data[0:30]:\n",
    "    lst+=x\n",
    "#count the number of times a # occurs in lst\n",
    "#then sort them\n",
    "d={}\n",
    "[ d.update( {i:d.get(i, 0)+1} ) for i in lst ]\n",
    "sorted_d = sorted(d.items())\n",
    "# sorted_d\n",
    "\n",
    "###find the numbers that have not been called in the data set\n",
    "#sort the list, and then look through a range from index 0 to 71\n",
    "#Then if not in list return those numbers\n",
    "lst.sort()\n",
    "def find_missing(lst): \n",
    "    return [x for x in range(lst[0], lst[-1]+1)  if x not in lst]\n",
    "print(\"Numbers have not been choosen\")\n",
    "print(find_missing(lst))\n",
    "\n",
    "###Finding numbers that are repeated exactly twice \n",
    "##there is an initial assumption that numbers repeated only twice are more likely to be called again than any other repetition\n",
    "repeats = [\n",
    "    item \n",
    "    for item, count in collections.Counter(lst).items() \n",
    "    if count == 2\n",
    "]\n",
    "print(\"Numbers that have been choosen only twice\")\n",
    "print(repeats)"
   ]
  },
  {
   "cell_type": "markdown",
   "metadata": {},
   "source": [
    "## Statisitics Examples"
   ]
  },
  {
   "cell_type": "code",
   "execution_count": 5,
   "metadata": {},
   "outputs": [
    {
     "name": "stdout",
     "output_type": "stream",
     "text": [
      "14.932203389830509\n",
      "15\n",
      "47.54704850964348\n",
      "6.8954367888947745\n"
     ]
    }
   ],
   "source": [
    "lst_sixty=lst[0:59]\n",
    "print(st.mean(lst_sixty))\n",
    "print(st.median(lst_sixty))\n",
    "print(st.variance(lst_sixty))\n",
    "print(st.stdev(lst_sixty))"
   ]
  },
  {
   "cell_type": "code",
   "execution_count": 6,
   "metadata": {},
   "outputs": [
    {
     "name": "stdout",
     "output_type": "stream",
     "text": [
      "33.766666666666666\n",
      "33.5\n",
      "336.596196868009\n",
      "18.346558174982277\n"
     ]
    }
   ],
   "source": [
    "lst\n",
    "print(st.mean(lst))\n",
    "print(st.median(lst))\n",
    "print(st.variance(lst))\n",
    "print(st.stdev(lst))"
   ]
  },
  {
   "cell_type": "code",
   "execution_count": 7,
   "metadata": {},
   "outputs": [
    {
     "data": {
      "text/plain": [
       "Ttest_indResult(statistic=10.784835439130747, pvalue=8.390122097130418e-22)"
      ]
     },
     "execution_count": 7,
     "metadata": {},
     "output_type": "execute_result"
    }
   ],
   "source": [
    "#null hyp: removing the numbers 60 to 70 will not effect the study\n",
    "#alt hyp: removing the numbers 60 to 70 will have a positive effect on the study\n",
    "#                                  I am playing with the numbers\n",
    "#two independent samples from the same or different populations\n",
    "#test measures whether the average (expected) value differs significantly across samples\n",
    "#if p-value is below 0.05 then we can reject the null hypothesis\n",
    "stats.ttest_ind(lst, lst_sixty, equal_var = False)"
   ]
  },
  {
   "cell_type": "code",
   "execution_count": 8,
   "metadata": {},
   "outputs": [],
   "source": [
    "# t = observed difference between sample means / standard error of the difference between the means\n",
    "# t = (mean(X1) - mean(X2)) / sed\n",
    "# sed = sqrt(se1^2 + se2^2)\n",
    "# se = std / sqrt(n)"
   ]
  },
  {
   "cell_type": "code",
   "execution_count": 9,
   "metadata": {},
   "outputs": [],
   "source": [
    "#example of how to calculate probablility\n",
    "probabilitiz=[]\n",
    "for x in lst:\n",
    "    probabilitiz.append(x/len(lst))"
   ]
  },
  {
   "cell_type": "code",
   "execution_count": 10,
   "metadata": {},
   "outputs": [
    {
     "data": {
      "image/png": "[encoded data removed]",
      "text/plain": [
       "<Figure size 1440x720 with 1 Axes>"
      ]
     },
     "metadata": {
      "needs_background": "light"
     },
     "output_type": "display_data"
    }
   ],
   "source": [
    "def frequencies(values):\n",
    "    frequencies = {}\n",
    "    for v in values:\n",
    "        if v in frequencies:\n",
    "            frequencies[v] += 1\n",
    "        else:\n",
    "            frequencies[v] = 1\n",
    "    return frequencies\n",
    "def probabilities(sample, freqs):\n",
    "    probs = []\n",
    "    for k,v in freqs.items():\n",
    "        probs.append(round(v/len(sample),3))\n",
    "    return probs\n",
    "sample = lst                                    #lst is the list of numbers that are sorted\n",
    "freqs = frequencies(sample)                     # frequency is how often the number occurs\n",
    "probs = probabilities(sample, freqs)            #probabilility appends (#/length of the sample) to three decimal\n",
    "x_axis = list(set(sample))                      # x_axis just counts the numbers from 1 to 70\n",
    "fig = plt.figure(figsize = (20, 10))\n",
    "plt.bar(x_axis, probs)\n",
    "# plt.xticks(np.arange(min(x), max(x)+1, 1.0))\n",
    "\n",
    "\n",
    "plt.xlabel(\"Mega Millions Number\") \n",
    "plt.ylabel(\"No. of Occurences\") \n",
    "plt.title(\"Bar Char of Mega Millions Winning Numbers\") \n",
    "plt.grid()\n",
    "plt.savefig(\"Images/MegaMillionsProbabilityBar.png\", bbox_inches='tight')\n",
    "plt.show()"
   ]
  },
  {
   "cell_type": "code",
   "execution_count": 11,
   "metadata": {},
   "outputs": [],
   "source": [
    "# dict(zip(x_axis, probs))"
   ]
  },
  {
   "cell_type": "code",
   "execution_count": 12,
   "metadata": {
    "scrolled": false
   },
   "outputs": [
    {
     "data": {
      "image/png": "[encoded data removed]",
      "text/plain": [
       "<Figure size 1440x720 with 1 Axes>"
      ]
     },
     "metadata": {
      "needs_background": "light"
     },
     "output_type": "display_data"
    }
   ],
   "source": [
    "#unpack the list ofr x and y values using zip(data)\n",
    "x, y = zip(*sorted_d)\n",
    "#plot the # vs the number of occurces\n",
    "# x=list(range(1, 71))\n",
    "fig = plt.figure(figsize = (20, 10))\n",
    "plt.scatter(*zip(*sorted_d))\n",
    "plt.xticks(np.arange(min(x), max(x)+1, 1.0))\n",
    "# plt.xticks(rotation=70)\n",
    "\n",
    "plt.xlabel(\"Mega Millions Number\") \n",
    "plt.ylabel(\"No. of Occurences\") \n",
    "plt.title(\"Scatter Plot of Mega Millions Winning Numbers\") \n",
    "plt.grid()\n",
    " # Call save fig beforee plt.show \n",
    "plt.savefig(\"Images/MegaMillions_Scatter.png\", bbox_inches='tight')\n",
    "plt.show()"
   ]
  },
  {
   "cell_type": "markdown",
   "metadata": {},
   "source": [
    "### Bins and Quartiles"
   ]
  },
  {
   "cell_type": "code",
   "execution_count": 13,
   "metadata": {},
   "outputs": [
    {
     "data": {
      "text/plain": [
       "(1.999, 18.0]    39\n",
       "(18.0, 33.5]     36\n",
       "(33.5, 48.0]     39\n",
       "(48.0, 70.0]     36\n",
       "dtype: int64"
      ]
     },
     "execution_count": 13,
     "metadata": {},
     "output_type": "execute_result"
    }
   ],
   "source": [
    "#Quartile cut to 25%, 50%, and 75%\n",
    "#dont define the bins\n",
    "# define the number of quantiles and let pandas figure out how to divide up the data.\n",
    "# lst = pd.qcut(df['ext price'], q=4) #save it back in the original df\n",
    "Qcuts=pd.qcut(lst, q=4)\n",
    "Qcuts.value_counts()\n",
    "#there should be an equal amount of observations per bin bc Pandas is doing the math to figure out width"
   ]
  },
  {
   "cell_type": "code",
   "execution_count": 14,
   "metadata": {},
   "outputs": [
    {
     "data": {
      "text/plain": [
       "(1.932, 19.0]    40\n",
       "(19.0, 36.0]     40\n",
       "(36.0, 53.0]     45\n",
       "(53.0, 70.0]     25\n",
       "dtype: int64"
      ]
     },
     "execution_count": 14,
     "metadata": {},
     "output_type": "execute_result"
    }
   ],
   "source": [
    "# cut and bin\n",
    "#define the bins\n",
    "pd.cut(lst, bins=4).value_counts()"
   ]
  },
  {
   "cell_type": "code",
   "execution_count": 15,
   "metadata": {},
   "outputs": [
    {
     "data": {
      "text/plain": [
       "[(0, 10], (0, 10], (0, 10], (0, 10], (0, 10], ..., (60, 70], (60, 70], (60, 70], (60, 70], (60, 70]]\n",
       "Length: 150\n",
       "Categories (7, interval[int64]): [(0, 10] < (10, 20] < (20, 30] < (30, 40] < (40, 50] < (50, 60] < (60, 70]]"
      ]
     },
     "execution_count": 15,
     "metadata": {},
     "output_type": "execute_result"
    }
   ],
   "source": [
    "cut_bins = [0, 10, 20, 30, 40,50,60,70]\n",
    "Cut_lst = pd.cut(lst, bins=cut_bins)\n",
    "Cut_lst"
   ]
  },
  {
   "cell_type": "code",
   "execution_count": 16,
   "metadata": {
    "scrolled": true
   },
   "outputs": [
    {
     "data": {
      "text/plain": [
       "[(0.0, 10.0], (0.0, 10.0], (0.0, 10.0], (0.0, 10.0], (0.0, 10.0], ..., (60.0, 70.0], (60.0, 70.0], (60.0, 70.0], (60.0, 70.0], (60.0, 70.0]]\n",
       "Length: 150\n",
       "Categories (7, interval[float64]): [(0.0, 10.0] < (10.0, 20.0] < (20.0, 30.0] < (30.0, 40.0] < (40.0, 50.0] < (50.0, 60.0] < (60.0, 70.0]]"
      ]
     },
     "execution_count": 16,
     "metadata": {},
     "output_type": "execute_result"
    }
   ],
   "source": [
    "#linespace to provide an array of evenly spaced bins over a specified range\n",
    "pd.cut(lst, bins=np.linspace(0, 70, 8))"
   ]
  },
  {
   "cell_type": "code",
   "execution_count": 17,
   "metadata": {},
   "outputs": [
    {
     "data": {
      "text/plain": [
       "[(0, 10], (0, 10], (0, 10], (0, 10], (0, 10], ..., (60, 70], (60, 70], (60, 70], (60, 70], (60, 70]]\n",
       "Length: 150\n",
       "Categories (7, interval[int64]): [(0, 10] < (10, 20] < (20, 30] < (30, 40] < (40, 50] < (50, 60] < (60, 70]]"
      ]
     },
     "execution_count": 17,
     "metadata": {},
     "output_type": "execute_result"
    }
   ],
   "source": [
    "#use interval range for numbers and date ranges but cannot label bins\n",
    "interval_range = pd.interval_range(start=0, freq=10, end=70)\n",
    "lst_interval = pd.cut(lst, bins=interval_range, labels=[1,2,3])\n",
    "lst_interval"
   ]
  },
  {
   "cell_type": "markdown",
   "metadata": {},
   "source": [
    "### Statistics"
   ]
  },
  {
   "cell_type": "code",
   "execution_count": 18,
   "metadata": {},
   "outputs": [
    {
     "data": {
      "text/plain": [
       "18.28530071456913"
      ]
     },
     "execution_count": 18,
     "metadata": {},
     "output_type": "execute_result"
    }
   ],
   "source": [
    "stdev = st.pstdev(lst)\n",
    "stdev"
   ]
  },
  {
   "cell_type": "code",
   "execution_count": 19,
   "metadata": {},
   "outputs": [
    {
     "data": {
      "text/plain": [
       "334.3522222222222"
      ]
     },
     "execution_count": 19,
     "metadata": {},
     "output_type": "execute_result"
    }
   ],
   "source": [
    "variance = st.pvariance(lst)\n",
    "variance"
   ]
  },
  {
   "cell_type": "code",
   "execution_count": 20,
   "metadata": {},
   "outputs": [
    {
     "data": {
      "text/plain": [
       "[2,\n",
       " 3,\n",
       " 3,\n",
       " 3,\n",
       " 4,\n",
       " 4,\n",
       " 6,\n",
       " 6,\n",
       " 7,\n",
       " 8,\n",
       " 8,\n",
       " 8,\n",
       " 9,\n",
       " 9,\n",
       " 9,\n",
       " 10,\n",
       " 10,\n",
       " 10,\n",
       " 11,\n",
       " 11,\n",
       " 12,\n",
       " 12,\n",
       " 13,\n",
       " 14,\n",
       " 14,\n",
       " 15,\n",
       " 15,\n",
       " 15,\n",
       " 15,\n",
       " 15,\n",
       " 15,\n",
       " 15,\n",
       " 16,\n",
       " 16,\n",
       " 16,\n",
       " 17,\n",
       " 17,\n",
       " 18,\n",
       " 18,\n",
       " 19,\n",
       " 20,\n",
       " 20,\n",
       " 20,\n",
       " 20,\n",
       " 20,\n",
       " 20,\n",
       " 21,\n",
       " 22,\n",
       " 22,\n",
       " 22,\n",
       " 24,\n",
       " 24,\n",
       " 25,\n",
       " 25,\n",
       " 25,\n",
       " 25,\n",
       " 26,\n",
       " 26,\n",
       " 26,\n",
       " 26,\n",
       " 26,\n",
       " 27,\n",
       " 27,\n",
       " 28,\n",
       " 28,\n",
       " 29,\n",
       " 29,\n",
       " 29,\n",
       " 29,\n",
       " 30,\n",
       " 30,\n",
       " 31,\n",
       " 31,\n",
       " 31,\n",
       " 33,\n",
       " 34,\n",
       " 34,\n",
       " 35,\n",
       " 36,\n",
       " 36,\n",
       " 37,\n",
       " 37,\n",
       " 37,\n",
       " 38,\n",
       " 38,\n",
       " 38,\n",
       " 39,\n",
       " 39,\n",
       " 39,\n",
       " 40,\n",
       " 40,\n",
       " 41,\n",
       " 41,\n",
       " 42,\n",
       " 42,\n",
       " 42,\n",
       " 42,\n",
       " 43,\n",
       " 43,\n",
       " 43,\n",
       " 43,\n",
       " 44,\n",
       " 44,\n",
       " 44,\n",
       " 45,\n",
       " 46,\n",
       " 46,\n",
       " 47,\n",
       " 47,\n",
       " 47,\n",
       " 48,\n",
       " 48,\n",
       " 48,\n",
       " 48,\n",
       " 49,\n",
       " 49,\n",
       " 50,\n",
       " 50,\n",
       " 52,\n",
       " 52,\n",
       " 53,\n",
       " 53,\n",
       " 53,\n",
       " 53,\n",
       " 53,\n",
       " 54,\n",
       " 55,\n",
       " 56,\n",
       " 56,\n",
       " 56,\n",
       " 57,\n",
       " 57,\n",
       " 57,\n",
       " 58,\n",
       " 58,\n",
       " 59,\n",
       " 59,\n",
       " 62,\n",
       " 62,\n",
       " 63,\n",
       " 64,\n",
       " 64,\n",
       " 64,\n",
       " 64,\n",
       " 66,\n",
       " 67,\n",
       " 67,\n",
       " 68,\n",
       " 69,\n",
       " 70]"
      ]
     },
     "execution_count": 20,
     "metadata": {},
     "output_type": "execute_result"
    }
   ],
   "source": [
    "lst"
   ]
  },
  {
   "cell_type": "code",
   "execution_count": 21,
   "metadata": {},
   "outputs": [
    {
     "data": {
      "image/png": "[encoded data removed]",
      "text/plain": [
       "<Figure size 1080x360 with 1 Axes>"
      ]
     },
     "metadata": {
      "needs_background": "light"
     },
     "output_type": "display_data"
    }
   ],
   "source": [
    "#frequency\n",
    "fig = plt.figure(figsize = (15, 5))\n",
    "plt.hist(lst, bins=[0,10,20,30,40,50,60,70])   \n",
    "plt.grid()\n",
    "plt.savefig(\"Images/MegaMillions_BinFrequency.png\", bbox_inches='tight')"
   ]
  },
  {
   "cell_type": "code",
   "execution_count": 22,
   "metadata": {},
   "outputs": [
    {
     "data": {
      "image/png": "[encoded data removed]",
      "text/plain": [
       "<Figure size 1080x360 with 1 Axes>"
      ]
     },
     "metadata": {
      "needs_background": "light"
     },
     "output_type": "display_data"
    }
   ],
   "source": [
    "#Probablility\n",
    "#The probability adds up to 100% because we have to multiply the probability of each of the bins by 5\n",
    "fig = plt.figure(figsize = (15, 5))\n",
    "plt.hist(lst, bins=[0,10,20,30,40,50,60,70], density=True )    #density=True to convert to probablilities\n",
    "plt.grid()\n",
    "plt.savefig(\"Images/MegaMillionsBinProbability.png\", bbox_inches='tight')"
   ]
  },
  {
   "cell_type": "markdown",
   "metadata": {},
   "source": [
    "# Gold Number"
   ]
  },
  {
   "cell_type": "code",
   "execution_count": 23,
   "metadata": {},
   "outputs": [
    {
     "name": "stdout",
     "output_type": "stream",
     "text": [
      "[2, 4, 5, 6, 7, 8, 10]\n",
      "[11, 12, 13, 15, 17, 19, 21, 23, 25]\n"
     ]
    }
   ],
   "source": [
    "gold=[17,25,19,16,12,11,22,13,21,25,22,1,12,14,23,13,9,3,20,23,19,17,15,21,22,22,18,24,11,15,7,6,2,22,22,8,3,4,18,9,25,5,4,14,14,17,18]\n",
    "#gold_list is 30 samples of winning numbers\n",
    "gold_list=gold[0:30]\n",
    "#create a dictionary and count occurances in gold_list\n",
    "g={}\n",
    "[ g.update( {i:g.get(i, 0)+1} ) for i in gold_list ]\n",
    "#sort the list\n",
    "sorted_g=sorted(g.items())\n",
    "\n",
    "gold_list.sort()\n",
    "def find_missing(gold_list): \n",
    "    return [x for x in range(gold_list[0], gold_list[-1]+1)  if x not in gold_list]\n",
    "print(find_missing(gold_list))\n",
    "\n",
    "###Finding numbers that are repeated exactly twice \n",
    "##there is an initial assumption that numbers repeated only twice are more likely to be called again than any other repetition\n",
    "repeats = [\n",
    "    item \n",
    "    for item, count in collections.Counter(gold_list).items() \n",
    "    if count == 2\n",
    "]\n",
    "print(repeats)"
   ]
  },
  {
   "cell_type": "code",
   "execution_count": 24,
   "metadata": {},
   "outputs": [
    {
     "data": {
      "image/png": "[encoded data removed]",
      "text/plain": [
       "<Figure size 1080x360 with 1 Axes>"
      ]
     },
     "metadata": {
      "needs_background": "light"
     },
     "output_type": "display_data"
    }
   ],
   "source": [
    "def frequencies(values):\n",
    "    frequencies = {}\n",
    "    for v in values:\n",
    "        if v in frequencies:\n",
    "            frequencies[v] += 1\n",
    "        else:\n",
    "            frequencies[v] = 1\n",
    "    return frequencies\n",
    "def probabilities(samp, freqs):\n",
    "    probs = []\n",
    "    for k,v in freqs.items():\n",
    "        probs.append(round(v/len(samp),3))\n",
    "    return probs\n",
    "samp = gold_list                              #lst is the list of numbers that are sorted\n",
    "freqs = frequencies(samp)                     # frequency is how often the number occurs\n",
    "probs = probabilities(samp, freqs)            #probabilility appends (#/length of the sample) to three decimal\n",
    "x_axis = list(set(samp))                      # x_axis just counts the numbers from 1 to 70\n",
    "fig = plt.figure(figsize = (15, 5))\n",
    "plt.bar(x_axis, probs)\n",
    "plt.xticks(np.arange(min(x), max(x)+1, 1.0))\n",
    "plt.savefig(\"Images/GoldBar.png\", bbox_inches='tight')\n",
    "plt.show()"
   ]
  },
  {
   "cell_type": "code",
   "execution_count": 25,
   "metadata": {
    "scrolled": false
   },
   "outputs": [
    {
     "data": {
      "image/png": "[encoded data removed]",
      "text/plain": [
       "<Figure size 1080x360 with 1 Axes>"
      ]
     },
     "metadata": {
      "needs_background": "light"
     },
     "output_type": "display_data"
    },
    {
     "data": {
      "text/plain": [
       "<Figure size 432x288 with 0 Axes>"
      ]
     },
     "metadata": {},
     "output_type": "display_data"
    }
   ],
   "source": [
    "#unpack the list ofr x and y values using zip(data)\n",
    "x, y = zip(*sorted_g)\n",
    "#plot the # vs the number of occurces\n",
    "fig = plt.figure(figsize = (15, 5))\n",
    "plt.scatter(*zip(*sorted_g))\n",
    "plt.xticks(np.arange(min(x), max(x)+1, 1.0))\n",
    "# plt.yticks(0,5)\n",
    "# plt.xticks(rotation=70)\n",
    "\n",
    "plt.xlabel(\"Mega Millions Number\") \n",
    "plt.ylabel(\"Gold Number\") \n",
    "plt.title(\"Mega Millions Winning Numbers\") \n",
    "plt.grid()\n",
    "plt.show() \n",
    "plt.savefig(\"MegaMillionsGold.png\", bbox_inches='tight')\n",
    "plt.savefig(\"Images/GoldScatter.png\", bbox_inches='tight')\n",
    "plt.show()"
   ]
  },
  {
   "cell_type": "code",
   "execution_count": 26,
   "metadata": {},
   "outputs": [
    {
     "data": {
      "text/plain": [
       "(0.999, 13.0]     9\n",
       "(13.0, 17.5]      6\n",
       "(17.5, 22.0]     10\n",
       "(22.0, 25.0]      5\n",
       "dtype: int64"
      ]
     },
     "execution_count": 26,
     "metadata": {},
     "output_type": "execute_result"
    }
   ],
   "source": [
    "Qcutsg=pd.qcut(gold_list, q=4)\n",
    "Qcutsg.value_counts()"
   ]
  },
  {
   "cell_type": "code",
   "execution_count": 27,
   "metadata": {},
   "outputs": [
    {
     "data": {
      "text/plain": [
       "(0.976, 7.0]     2\n",
       "(7.0, 13.0]      7\n",
       "(13.0, 19.0]     9\n",
       "(19.0, 25.0]    12\n",
       "dtype: int64"
      ]
     },
     "execution_count": 27,
     "metadata": {},
     "output_type": "execute_result"
    }
   ],
   "source": [
    "#define the bins\n",
    "pd.cut(gold_list, bins=4).value_counts()"
   ]
  },
  {
   "cell_type": "code",
   "execution_count": 28,
   "metadata": {},
   "outputs": [
    {
     "data": {
      "text/plain": [
       "[(0, 10], (0, 10], (0, 10], (10, 20], (10, 20], ..., (20, 30], (20, 30], (20, 30], (20, 30], (20, 30]]\n",
       "Length: 30\n",
       "Categories (7, interval[int64]): [(0, 10] < (10, 20] < (20, 30] < (30, 40] < (40, 50] < (50, 60] < (60, 70]]"
      ]
     },
     "execution_count": 28,
     "metadata": {},
     "output_type": "execute_result"
    }
   ],
   "source": [
    "cut_binsg = [0, 5,10,15,20,25]\n",
    "Cut_lstg = pd.cut(gold_list, bins=cut_bins)\n",
    "Cut_lstg"
   ]
  },
  {
   "cell_type": "code",
   "execution_count": 29,
   "metadata": {},
   "outputs": [],
   "source": [
    "#linespace to provide an array of evenly spaced bins over a specified range\n",
    "binz=pd.cut(gold_list, bins=np.linspace(0, 25, 6))"
   ]
  },
  {
   "cell_type": "code",
   "execution_count": 30,
   "metadata": {},
   "outputs": [
    {
     "data": {
      "text/plain": [
       "[(0, 5], (0, 5], (5, 10], (10, 15], (10, 15], ..., (20, 25], (20, 25], (20, 25], (20, 25], (20, 25]]\n",
       "Length: 30\n",
       "Categories (5, interval[int64]): [(0, 5] < (5, 10] < (10, 15] < (15, 20] < (20, 25]]"
      ]
     },
     "execution_count": 30,
     "metadata": {},
     "output_type": "execute_result"
    }
   ],
   "source": [
    "#use interval range for numbers and date ranges but cannot label bins\n",
    "interval_range = pd.interval_range(start=0, freq=5, end=25)\n",
    "lst_interval = pd.cut(gold_list, bins=interval_range, labels=[1,2,3])\n",
    "lst_interval"
   ]
  },
  {
   "cell_type": "code",
   "execution_count": 31,
   "metadata": {},
   "outputs": [
    {
     "data": {
      "text/plain": [
       "6.017105247172893"
      ]
     },
     "execution_count": 31,
     "metadata": {},
     "output_type": "execute_result"
    }
   ],
   "source": [
    "stdevg = st.pstdev(gold_list)\n",
    "stdevg"
   ]
  },
  {
   "cell_type": "code",
   "execution_count": 32,
   "metadata": {},
   "outputs": [
    {
     "data": {
      "text/plain": [
       "334.3522222222222"
      ]
     },
     "execution_count": 32,
     "metadata": {},
     "output_type": "execute_result"
    }
   ],
   "source": [
    "varianceg = st.pvariance(gold_list)\n",
    "variance"
   ]
  },
  {
   "cell_type": "code",
   "execution_count": 33,
   "metadata": {},
   "outputs": [
    {
     "data": {
      "text/plain": [
       "Interval(0.0, 5.0, closed='right')"
      ]
     },
     "execution_count": 33,
     "metadata": {},
     "output_type": "execute_result"
    }
   ],
   "source": [
    "binz[0]"
   ]
  },
  {
   "cell_type": "code",
   "execution_count": 34,
   "metadata": {
    "scrolled": true
   },
   "outputs": [
    {
     "data": {
      "image/png": "[encoded data removed]",
      "text/plain": [
       "<Figure size 1080x360 with 1 Axes>"
      ]
     },
     "metadata": {
      "needs_background": "light"
     },
     "output_type": "display_data"
    }
   ],
   "source": [
    "#frequency\n",
    "fig = plt.figure(figsize = (15, 5))\n",
    "plt.hist(gold_list, bins=[0, 5, 10, 15, 20, 25])\n",
    "# binwidth=5\n",
    "# plt.hist(gold_list, bins=range(min(data), max(data) + binwidth, binwidth))#intergers only\n",
    "# plt.hist(data, bins=np.arange(min(data), max(data) + binwidth, binwidth))#for floats use\n",
    "plt.grid()\n",
    "plt.savefig(\"Images/GoldBinFrequency.png\", bbox_inches='tight')\n",
    "plt.show()"
   ]
  },
  {
   "cell_type": "code",
   "execution_count": 35,
   "metadata": {
    "scrolled": true
   },
   "outputs": [
    {
     "data": {
      "image/png": "[encoded data removed]",
      "text/plain": [
       "<Figure size 1080x360 with 1 Axes>"
      ]
     },
     "metadata": {
      "needs_background": "light"
     },
     "output_type": "display_data"
    }
   ],
   "source": [
    "#Probability\n",
    "#The probability adds up to 100% because we have to multiply the probability of each of the bins by 5\n",
    "fig = plt.figure(figsize = (15, 5))\n",
    "plt.hist(gold_list, bins=[0, 5, 10, 15, 20, 25], density=True)          #density=True to get probabilities\n",
    "# binwidth=5\n",
    "# plt.hist(gold_list, bins=range(min(data), max(data) + binwidth, binwidth))#intergers only\n",
    "# plt.hist(data, bins=np.arange(min(data), max(data) + binwidth, binwidth))#for floats use\n",
    "plt.grid()\n",
    "plt.savefig(\"Images/GoldBinProbability.png\", bbox_inches='tight')\n",
    "plt.show()"
   ]
  },
  {
   "cell_type": "code",
   "execution_count": null,
   "metadata": {},
   "outputs": [],
   "source": []
  },
  {
   "cell_type": "code",
   "execution_count": 36,
   "metadata": {},
   "outputs": [
    {
     "ename": "ValueError",
     "evalue": "operands could not be broadcast together with shapes (30,) (3,) ",
     "output_type": "error",
     "traceback": [
      "\u001b[1;31m---------------------------------------------------------------------------\u001b[0m",
      "\u001b[1;31mValueError\u001b[0m                                Traceback (most recent call last)",
      "\u001b[1;32m<ipython-input-36-ca49ee0298b8>\u001b[0m in \u001b[0;36m<module>\u001b[1;34m\u001b[0m\n\u001b[0;32m     12\u001b[0m \u001b[0max\u001b[0m\u001b[1;33m.\u001b[0m\u001b[0mplot\u001b[0m\u001b[1;33m(\u001b[0m\u001b[0mx\u001b[0m\u001b[1;33m,\u001b[0m \u001b[0mrv\u001b[0m\u001b[1;33m.\u001b[0m\u001b[0mpdf\u001b[0m\u001b[1;33m(\u001b[0m\u001b[0mx\u001b[0m\u001b[1;33m)\u001b[0m\u001b[1;33m,\u001b[0m \u001b[1;34m'k-'\u001b[0m\u001b[1;33m,\u001b[0m \u001b[0mlw\u001b[0m\u001b[1;33m=\u001b[0m\u001b[1;36m2\u001b[0m\u001b[1;33m,\u001b[0m \u001b[0mlabel\u001b[0m\u001b[1;33m=\u001b[0m\u001b[1;34m'frozen pdf'\u001b[0m\u001b[1;33m)\u001b[0m                \u001b[1;31m#This returns a “frozen” RV object holding the given parameters fixed\u001b[0m\u001b[1;33m\u001b[0m\u001b[1;33m\u001b[0m\u001b[0m\n\u001b[0;32m     13\u001b[0m \u001b[1;33m\u001b[0m\u001b[0m\n\u001b[1;32m---> 14\u001b[1;33m \u001b[0mvals\u001b[0m \u001b[1;33m=\u001b[0m \u001b[0mchi2\u001b[0m\u001b[1;33m.\u001b[0m\u001b[0mppf\u001b[0m\u001b[1;33m(\u001b[0m\u001b[1;33m[\u001b[0m\u001b[1;36m0.001\u001b[0m\u001b[1;33m,\u001b[0m \u001b[1;36m0.5\u001b[0m\u001b[1;33m,\u001b[0m \u001b[1;36m0.999\u001b[0m\u001b[1;33m]\u001b[0m\u001b[1;33m,\u001b[0m \u001b[0mdf_chi\u001b[0m\u001b[1;33m)\u001b[0m                      \u001b[1;31m#Check accuracy of cdf and ppf:\u001b[0m\u001b[1;33m\u001b[0m\u001b[1;33m\u001b[0m\u001b[0m\n\u001b[0m\u001b[0;32m     15\u001b[0m \u001b[0mnp\u001b[0m\u001b[1;33m.\u001b[0m\u001b[0mallclose\u001b[0m\u001b[1;33m(\u001b[0m\u001b[1;33m[\u001b[0m\u001b[1;36m0.001\u001b[0m\u001b[1;33m,\u001b[0m \u001b[1;36m0.5\u001b[0m\u001b[1;33m,\u001b[0m \u001b[1;36m0.999\u001b[0m\u001b[1;33m]\u001b[0m\u001b[1;33m,\u001b[0m \u001b[0mchi2\u001b[0m\u001b[1;33m.\u001b[0m\u001b[0mcdf\u001b[0m\u001b[1;33m(\u001b[0m\u001b[0mvals\u001b[0m\u001b[1;33m,\u001b[0m \u001b[0mdf_chi\u001b[0m\u001b[1;33m)\u001b[0m\u001b[1;33m)\u001b[0m          \u001b[1;31m#Check accuracy of cdf and ppf:\u001b[0m\u001b[1;33m\u001b[0m\u001b[1;33m\u001b[0m\u001b[0m\n\u001b[0;32m     16\u001b[0m \u001b[1;33m\u001b[0m\u001b[0m\n",
      "\u001b[1;32m~\\anaconda3\\envs\\PythonData\\lib\\site-packages\\scipy\\stats\\_distn_infrastructure.py\u001b[0m in \u001b[0;36mppf\u001b[1;34m(self, q, *args, **kwds)\u001b[0m\n\u001b[0;32m   1996\u001b[0m         \u001b[0mcond0\u001b[0m \u001b[1;33m=\u001b[0m \u001b[0mself\u001b[0m\u001b[1;33m.\u001b[0m\u001b[0m_argcheck\u001b[0m\u001b[1;33m(\u001b[0m\u001b[1;33m*\u001b[0m\u001b[0margs\u001b[0m\u001b[1;33m)\u001b[0m \u001b[1;33m&\u001b[0m \u001b[1;33m(\u001b[0m\u001b[0mscale\u001b[0m \u001b[1;33m>\u001b[0m \u001b[1;36m0\u001b[0m\u001b[1;33m)\u001b[0m \u001b[1;33m&\u001b[0m \u001b[1;33m(\u001b[0m\u001b[0mloc\u001b[0m \u001b[1;33m==\u001b[0m \u001b[0mloc\u001b[0m\u001b[1;33m)\u001b[0m\u001b[1;33m\u001b[0m\u001b[1;33m\u001b[0m\u001b[0m\n\u001b[0;32m   1997\u001b[0m         \u001b[0mcond1\u001b[0m \u001b[1;33m=\u001b[0m \u001b[1;33m(\u001b[0m\u001b[1;36m0\u001b[0m \u001b[1;33m<\u001b[0m \u001b[0mq\u001b[0m\u001b[1;33m)\u001b[0m \u001b[1;33m&\u001b[0m \u001b[1;33m(\u001b[0m\u001b[0mq\u001b[0m \u001b[1;33m<\u001b[0m \u001b[1;36m1\u001b[0m\u001b[1;33m)\u001b[0m\u001b[1;33m\u001b[0m\u001b[1;33m\u001b[0m\u001b[0m\n\u001b[1;32m-> 1998\u001b[1;33m         \u001b[0mcond2\u001b[0m \u001b[1;33m=\u001b[0m \u001b[0mcond0\u001b[0m \u001b[1;33m&\u001b[0m \u001b[1;33m(\u001b[0m\u001b[0mq\u001b[0m \u001b[1;33m==\u001b[0m \u001b[1;36m0\u001b[0m\u001b[1;33m)\u001b[0m\u001b[1;33m\u001b[0m\u001b[1;33m\u001b[0m\u001b[0m\n\u001b[0m\u001b[0;32m   1999\u001b[0m         \u001b[0mcond3\u001b[0m \u001b[1;33m=\u001b[0m \u001b[0mcond0\u001b[0m \u001b[1;33m&\u001b[0m \u001b[1;33m(\u001b[0m\u001b[0mq\u001b[0m \u001b[1;33m==\u001b[0m \u001b[1;36m1\u001b[0m\u001b[1;33m)\u001b[0m\u001b[1;33m\u001b[0m\u001b[1;33m\u001b[0m\u001b[0m\n\u001b[0;32m   2000\u001b[0m         \u001b[0mcond\u001b[0m \u001b[1;33m=\u001b[0m \u001b[0mcond0\u001b[0m \u001b[1;33m&\u001b[0m \u001b[0mcond1\u001b[0m\u001b[1;33m\u001b[0m\u001b[1;33m\u001b[0m\u001b[0m\n",
      "\u001b[1;31mValueError\u001b[0m: operands could not be broadcast together with shapes (30,) (3,) "
     ]
    },
    {
     "data": {
      "image/png": "[encoded data removed]",
      "text/plain": [
       "<Figure size 432x288 with 1 Axes>"
      ]
     },
     "metadata": {
      "needs_background": "light"
     },
     "output_type": "display_data"
    }
   ],
   "source": [
    "fig, ax = plt.subplots(1, 1)\n",
    "df_chi=gold_list\n",
    "\n",
    "mean, var, skew, kurt = chi2.stats(df_chi, moments='mvsk')\n",
    "x = np.linspace(chi2.ppf(0.01, df_chi),                           #probability density function (pdf):\n",
    "                chi2.ppf(0.99, df_chi), 100)\n",
    "ax.plot(x, chi2.pdf(x, df_chi),\n",
    "       'r-', lw=5, alpha=0.6, label='chi2 pdf')\n",
    "\n",
    "rv = chi2(df_chi)                                                 #Alt method:call distribution object(as a function) \n",
    "#Freeze the distribution and display the frozen pdf:                #to fix the shape, location and scale parameters\n",
    "ax.plot(x, rv.pdf(x), 'k-', lw=2, label='frozen pdf')                #This returns a “frozen” RV object holding the given parameters fixed\n",
    "\n",
    "vals = chi2.ppf([0.001, 0.5, 0.999], df_chi)                      #Check accuracy of cdf and ppf:\n",
    "np.allclose([0.001, 0.5, 0.999], chi2.cdf(vals, df_chi))          #Check accuracy of cdf and ppf:\n",
    "\n",
    "r = chi2.rvs(df_chi, size=1000)                                   #Generate random numbers:\n",
    "ax.hist(r, density=True, histtype='stepfilled', alpha=0.2)           #And compare the histogram:\n",
    "ax.legend(loc='best', frameon=False)\n",
    "plt.show()\n"
   ]
  },
  {
   "cell_type": "code",
   "execution_count": null,
   "metadata": {},
   "outputs": [],
   "source": [
    "gold_list_chi = chi2.gold_list \n",
    "[a] = [0.6, ] * gold_list_chi \n",
    "rv = chi2(a) \n",
    "print (\"RV : \\n\", rv) "
   ]
  },
  {
   "cell_type": "code",
   "execution_count": null,
   "metadata": {},
   "outputs": [],
   "source": [
    "quantile = np.arange (0.01, 1, 0.1)    \n",
    "# Random Variates \n",
    "R = chi2.rvs(a, scale = 2,  size = 10) \n",
    "print (\"Random Variates : \\n\", R) \n",
    "  \n",
    "# PDF \n",
    "R = chi2.pdf(a, quantile, loc = 0, scale = 1) \n",
    "print (\"\\nProbability Distribution : \\n\", R)"
   ]
  },
  {
   "cell_type": "code",
   "execution_count": null,
   "metadata": {},
   "outputs": [],
   "source": [
    "distribution = np.linspace(0, np.minimum(rv.dist.b, 5)) \n",
    "print(\"Distribution : \\n\", distribution) \n",
    "plot = plt.plot(distribution, rv.pdf(distribution)) "
   ]
  },
  {
   "cell_type": "code",
   "execution_count": null,
   "metadata": {},
   "outputs": [],
   "source": [
    "x = np.linspace(0, 5, 100)  \n",
    "# Varying positional arguments \n",
    "y1 = chi2.pdf(x, 1, 6) \n",
    "y2 = chi2.pdf(x, 1, 4) \n",
    "plt.plot(x, y1, \"*\", x, y2, \"r--\") "
   ]
  },
  {
   "cell_type": "code",
   "execution_count": null,
   "metadata": {},
   "outputs": [],
   "source": []
  },
  {
   "cell_type": "code",
   "execution_count": null,
   "metadata": {},
   "outputs": [],
   "source": []
  }
 ],
 "metadata": {
  "kernelspec": {
   "display_name": "PythonData",
   "language": "python",
   "name": "pythondata"
  },
  "language_info": {
   "codemirror_mode": {
    "name": "ipython",
    "version": 3
   },
   "file_extension": ".py",
   "mimetype": "text/x-python",
   "name": "python",
   "nbconvert_exporter": "python",
   "pygments_lexer": "ipython3",
   "version": "3.7.7"
  }
 },
 "nbformat": 4,
 "nbformat_minor": 4
}
