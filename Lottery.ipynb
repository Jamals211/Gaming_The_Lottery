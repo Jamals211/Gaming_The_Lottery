{
 "cells": [
  {
   "cell_type": "code",
   "execution_count": 1,
   "metadata": {},
   "outputs": [],
   "source": [
    "import numpy as np\n",
    "import pandas as pd\n",
    "\n",
    "#import time dependencies\n",
    "from datetime import datetime\n",
    "import time\n",
    "from datetime import date, timedelta\n",
    "import datetime\n",
    "import itertools as it\n",
    "\n",
    "# Visualizing Data\n",
    "import matplotlib.pyplot as plt\n",
    "import matplotlib.dates as mdates\n",
    "import matplotlib.lines as mlines\n",
    "import matplotlib.ticker as mticker\n",
    "import matplotlib.ticker as mtick\n",
    "import matplotlib as mpl\n",
    "from matplotlib import colors\n",
    "\n",
    "from matplotlib import style\n",
    "# print(plt.style.available)\n",
    "style.use(['classic','dark_background'])\n",
    "\n",
    "# Stats\n",
    "from scipy.stats import chi2\n",
    "import collections\n",
    "import random\n",
    "import seaborn as sns\n",
    "from scipy.stats import linregress\n",
    "from scipy import stats\n",
    "import statistics as st\n",
    "\n",
    "#Web Scrapping\n",
    "from bs4 import BeautifulSoup\n",
    "from urllib.request import Request, urlopen\n",
    "from collections import Counter\n",
    "import requests\n",
    "import re\n",
    "import csv"
   ]
  },
  {
   "cell_type": "code",
   "execution_count": 2,
   "metadata": {},
   "outputs": [],
   "source": [
    "#the data in this script is Discrete Data \n",
    "#probability mass function-assigns a probability to each possible value\n",
    "#https://towardsdatascience.com/plotting-probabilities-for-discrete-and-continuous-random-variables-353c5bb62336"
   ]
  },
  {
   "cell_type": "markdown",
   "metadata": {},
   "source": [
    "# Web Scrapping Lottery Numbers"
   ]
  },
  {
   "cell_type": "code",
   "execution_count": 3,
   "metadata": {},
   "outputs": [],
   "source": [
    "# https://www.usamega.com/mega-millions/results/"
   ]
  },
  {
   "cell_type": "code",
   "execution_count": 4,
   "metadata": {},
   "outputs": [],
   "source": [
    "page_num = 1\n",
    "total_pages = 63\n",
    "date=[]\n",
    "winning_numbers=[]\n",
    "mega_millions_numbers=[]\n",
    "pages = np.arange(1, 2, 1)\n",
    "\n",
    "while True:\n",
    "    if page_num > total_pages: break\n",
    "    page_num = str(page_num)\n",
    "    url='https://www.usamega.com/mega-millions/results/'+page_num\n",
    "    response = requests.get(url, timeout=5)\n",
    "    soup = BeautifulSoup(response.content, \"html.parser\")\n",
    "\n",
    "    for row in soup.select('tbody tr'):\n",
    "        row_text = [x.text for x in row.find_all('li')]\n",
    "        winning_numbers.append(row_text)\n",
    "    page_num = int(page_num)\n",
    "    page_num += 1"
   ]
  },
  {
   "cell_type": "code",
   "execution_count": 5,
   "metadata": {},
   "outputs": [],
   "source": [
    "x=[i[:5] for i in winning_numbers]"
   ]
  },
  {
   "cell_type": "code",
   "execution_count": 6,
   "metadata": {},
   "outputs": [
    {
     "data": {
      "text/plain": [
       "[]"
      ]
     },
     "execution_count": 6,
     "metadata": {},
     "output_type": "execute_result"
    }
   ],
   "source": [
    "winning_numbers "
   ]
  },
  {
   "cell_type": "code",
   "execution_count": 7,
   "metadata": {},
   "outputs": [
    {
     "data": {
      "text/plain": [
       "0"
      ]
     },
     "execution_count": 7,
     "metadata": {},
     "output_type": "execute_result"
    }
   ],
   "source": [
    "len(winning_numbers) "
   ]
  },
  {
   "cell_type": "code",
   "execution_count": 8,
   "metadata": {},
   "outputs": [],
   "source": [
    "gold=[i[5] for i in winning_numbers]\n",
    "gold = list(map(int, gold))"
   ]
  },
  {
   "cell_type": "markdown",
   "metadata": {},
   "source": [
    "#### Limit the length of list"
   ]
  },
  {
   "cell_type": "code",
   "execution_count": 9,
   "metadata": {},
   "outputs": [],
   "source": [
    "main_numbers=x[0:250] \n",
    "gold_list=gold[1:40] "
   ]
  },
  {
   "cell_type": "code",
   "execution_count": 10,
   "metadata": {},
   "outputs": [
    {
     "name": "stdout",
     "output_type": "stream",
     "text": [
      "[]\n"
     ]
    }
   ],
   "source": [
    "print(gold_list) "
   ]
  },
  {
   "cell_type": "code",
   "execution_count": 11,
   "metadata": {},
   "outputs": [
    {
     "data": {
      "text/plain": [
       "[]"
      ]
     },
     "execution_count": 11,
     "metadata": {},
     "output_type": "execute_result"
    }
   ],
   "source": [
    "lst=list(map(float, it.chain.from_iterable(main_numbers))) \n",
    "lst = list(map(int, lst)) \n",
    "lst[:5] "
   ]
  },
  {
   "cell_type": "markdown",
   "metadata": {},
   "source": [
    "# Cleaning Winning Numbers"
   ]
  },
  {
   "cell_type": "code",
   "execution_count": 12,
   "metadata": {},
   "outputs": [],
   "source": [
    "#count the number of times a # occurs in lst then sort them\n",
    "d={}\n",
    "[ d.update( {i:d.get(i, 0)+1} ) for i in lst ]\n",
    "sorted_d = sorted(d.items())\n",
    "#find the numbers that have not been called in the data set\n",
    "#sort the list, and then look through a range from index 0 to 71\n",
    "#Then if not in list return those numbers\n",
    "lst.sort()"
   ]
  },
  {
   "cell_type": "markdown",
   "metadata": {},
   "source": [
    "# Cleaning Gold Numbers"
   ]
  },
  {
   "cell_type": "code",
   "execution_count": 13,
   "metadata": {},
   "outputs": [
    {
     "name": "stdout",
     "output_type": "stream",
     "text": [
      "Missing Gold Numbers\n"
     ]
    },
    {
     "ename": "IndexError",
     "evalue": "list index out of range",
     "output_type": "error",
     "traceback": [
      "\u001b[1;31m---------------------------------------------------------------------------\u001b[0m",
      "\u001b[1;31mIndexError\u001b[0m                                Traceback (most recent call last)",
      "\u001b[1;32m<ipython-input-13-fe14c0d9bc44>\u001b[0m in \u001b[0;36m<module>\u001b[1;34m\u001b[0m\n\u001b[0;32m      9\u001b[0m     \u001b[1;32mreturn\u001b[0m \u001b[1;33m[\u001b[0m\u001b[0mx\u001b[0m \u001b[1;32mfor\u001b[0m \u001b[0mx\u001b[0m \u001b[1;32min\u001b[0m \u001b[0mrange\u001b[0m\u001b[1;33m(\u001b[0m\u001b[0mgold_list\u001b[0m\u001b[1;33m[\u001b[0m\u001b[1;36m0\u001b[0m\u001b[1;33m]\u001b[0m\u001b[1;33m,\u001b[0m \u001b[0mgold_list\u001b[0m\u001b[1;33m[\u001b[0m\u001b[1;33m-\u001b[0m\u001b[1;36m1\u001b[0m\u001b[1;33m]\u001b[0m\u001b[1;33m+\u001b[0m\u001b[1;36m1\u001b[0m\u001b[1;33m)\u001b[0m  \u001b[1;32mif\u001b[0m \u001b[0mx\u001b[0m \u001b[1;32mnot\u001b[0m \u001b[1;32min\u001b[0m \u001b[0mgold_list\u001b[0m\u001b[1;33m]\u001b[0m\u001b[1;33m\u001b[0m\u001b[1;33m\u001b[0m\u001b[0m\n\u001b[0;32m     10\u001b[0m \u001b[0mprint\u001b[0m\u001b[1;33m(\u001b[0m\u001b[1;34m\"Missing Gold Numbers\"\u001b[0m\u001b[1;33m)\u001b[0m\u001b[1;33m\u001b[0m\u001b[1;33m\u001b[0m\u001b[0m\n\u001b[1;32m---> 11\u001b[1;33m \u001b[0mprint\u001b[0m\u001b[1;33m(\u001b[0m\u001b[0mfind_missing\u001b[0m\u001b[1;33m(\u001b[0m\u001b[0mgold_list\u001b[0m\u001b[1;33m)\u001b[0m\u001b[1;33m)\u001b[0m\u001b[1;33m\u001b[0m\u001b[1;33m\u001b[0m\u001b[0m\n\u001b[0m\u001b[0;32m     12\u001b[0m \u001b[1;33m\u001b[0m\u001b[0m\n\u001b[0;32m     13\u001b[0m \u001b[1;31m###Finding numbers that are repeated exactly twice\u001b[0m\u001b[1;33m\u001b[0m\u001b[1;33m\u001b[0m\u001b[1;33m\u001b[0m\u001b[0m\n",
      "\u001b[1;32m<ipython-input-13-fe14c0d9bc44>\u001b[0m in \u001b[0;36mfind_missing\u001b[1;34m(gold_list)\u001b[0m\n\u001b[0;32m      7\u001b[0m \u001b[0mgold_list\u001b[0m\u001b[1;33m.\u001b[0m\u001b[0msort\u001b[0m\u001b[1;33m(\u001b[0m\u001b[1;33m)\u001b[0m\u001b[1;33m\u001b[0m\u001b[1;33m\u001b[0m\u001b[0m\n\u001b[0;32m      8\u001b[0m \u001b[1;32mdef\u001b[0m \u001b[0mfind_missing\u001b[0m\u001b[1;33m(\u001b[0m\u001b[0mgold_list\u001b[0m\u001b[1;33m)\u001b[0m\u001b[1;33m:\u001b[0m\u001b[1;33m\u001b[0m\u001b[1;33m\u001b[0m\u001b[0m\n\u001b[1;32m----> 9\u001b[1;33m     \u001b[1;32mreturn\u001b[0m \u001b[1;33m[\u001b[0m\u001b[0mx\u001b[0m \u001b[1;32mfor\u001b[0m \u001b[0mx\u001b[0m \u001b[1;32min\u001b[0m \u001b[0mrange\u001b[0m\u001b[1;33m(\u001b[0m\u001b[0mgold_list\u001b[0m\u001b[1;33m[\u001b[0m\u001b[1;36m0\u001b[0m\u001b[1;33m]\u001b[0m\u001b[1;33m,\u001b[0m \u001b[0mgold_list\u001b[0m\u001b[1;33m[\u001b[0m\u001b[1;33m-\u001b[0m\u001b[1;36m1\u001b[0m\u001b[1;33m]\u001b[0m\u001b[1;33m+\u001b[0m\u001b[1;36m1\u001b[0m\u001b[1;33m)\u001b[0m  \u001b[1;32mif\u001b[0m \u001b[0mx\u001b[0m \u001b[1;32mnot\u001b[0m \u001b[1;32min\u001b[0m \u001b[0mgold_list\u001b[0m\u001b[1;33m]\u001b[0m\u001b[1;33m\u001b[0m\u001b[1;33m\u001b[0m\u001b[0m\n\u001b[0m\u001b[0;32m     10\u001b[0m \u001b[0mprint\u001b[0m\u001b[1;33m(\u001b[0m\u001b[1;34m\"Missing Gold Numbers\"\u001b[0m\u001b[1;33m)\u001b[0m\u001b[1;33m\u001b[0m\u001b[1;33m\u001b[0m\u001b[0m\n\u001b[0;32m     11\u001b[0m \u001b[0mprint\u001b[0m\u001b[1;33m(\u001b[0m\u001b[0mfind_missing\u001b[0m\u001b[1;33m(\u001b[0m\u001b[0mgold_list\u001b[0m\u001b[1;33m)\u001b[0m\u001b[1;33m)\u001b[0m\u001b[1;33m\u001b[0m\u001b[1;33m\u001b[0m\u001b[0m\n",
      "\u001b[1;31mIndexError\u001b[0m: list index out of range"
     ]
    }
   ],
   "source": [
    "#create a dictionary and count occurances in gold_list\n",
    "g={}\n",
    "[ g.update( {i:g.get(i, 0)+1} ) for i in gold_list ]\n",
    "#sort the list\n",
    "sorted_g=sorted(g.items())\n",
    "\n",
    "gold_list.sort()\n",
    "def find_missing(gold_list): \n",
    "    return [x for x in range(gold_list[0], gold_list[-1]+1)  if x not in gold_list]\n",
    "print(\"Missing Gold Numbers\")\n",
    "print(find_missing(gold_list))\n",
    "\n",
    "###Finding numbers that are repeated exactly twice \n",
    "##there is an initial assumption that numbers repeated only twice are more likely to be called again than any other repetition\n",
    "repeats_gold = [\n",
    "    item \n",
    "    for item, count in collections.Counter(gold_list).items() \n",
    "    if count == 2\n",
    "]\n",
    "print(\"Gold Repeats\")\n",
    "print(repeats_gold)"
   ]
  },
  {
   "cell_type": "markdown",
   "metadata": {},
   "source": [
    "## Statisitics"
   ]
  },
  {
   "cell_type": "markdown",
   "metadata": {},
   "source": [
    "#### Winning Numbers"
   ]
  },
  {
   "cell_type": "code",
   "execution_count": null,
   "metadata": {},
   "outputs": [],
   "source": [
    "stdev = st.pstdev(lst)\n",
    "print('Winning Number Standard Deviation')\n",
    "print(stdev)\n",
    "variance = st.pvariance(lst)\n",
    "print('Winning Number Variance')\n",
    "print(variance)"
   ]
  },
  {
   "cell_type": "markdown",
   "metadata": {},
   "source": [
    "#### Gold Numbers"
   ]
  },
  {
   "cell_type": "code",
   "execution_count": null,
   "metadata": {},
   "outputs": [],
   "source": [
    "print('Gold Standard Deviation')\n",
    "stdevg = st.pstdev(gold_list)\n",
    "print(stdevg)\n",
    "print('Gold Variance')\n",
    "varianceg = st.pvariance(gold_list)\n",
    "print(varianceg)"
   ]
  },
  {
   "cell_type": "markdown",
   "metadata": {},
   "source": [
    "# Bins and Quartiles"
   ]
  },
  {
   "cell_type": "markdown",
   "metadata": {},
   "source": [
    "#### Bins and Quartiles of Winning Numbers"
   ]
  },
  {
   "cell_type": "code",
   "execution_count": null,
   "metadata": {},
   "outputs": [],
   "source": [
    "# Equal Number of Observations\n",
    "Qcuts=pd.qcut(lst, q=4)\n",
    "Qcuts.value_counts() "
   ]
  },
  {
   "cell_type": "code",
   "execution_count": null,
   "metadata": {},
   "outputs": [],
   "source": [
    "#Defined Number of Bins\n",
    "pd.cut(lst, bins=4).value_counts() "
   ]
  },
  {
   "cell_type": "code",
   "execution_count": null,
   "metadata": {},
   "outputs": [],
   "source": [
    "#Definding boundaries-linespace to provide an array of evenly spaced bins over a specified range\n",
    "cut_bins = [0, 10, 20, 30, 40,50,60,70] \n",
    "Cut_lst = pd.cut(lst, bins=cut_bins)"
   ]
  },
  {
   "cell_type": "code",
   "execution_count": null,
   "metadata": {},
   "outputs": [],
   "source": [
    "#Defined Interval Ranges\n",
    "interval_range = pd.interval_range(start=0, freq=10, end=70)\n",
    "lst_interval = pd.cut(lst, bins=interval_range, labels=[1,2,3])\n",
    "lst_interval"
   ]
  },
  {
   "cell_type": "markdown",
   "metadata": {},
   "source": [
    "#### Bins and Quartiles of Gold Numbers"
   ]
  },
  {
   "cell_type": "code",
   "execution_count": null,
   "metadata": {},
   "outputs": [],
   "source": [
    "#Equal Amount of Observations\n",
    "Qcutsg=pd.qcut(gold_list, q=4)\n",
    "Qcutsg.value_counts()"
   ]
  },
  {
   "cell_type": "code",
   "execution_count": null,
   "metadata": {},
   "outputs": [],
   "source": [
    "#Defined Number of Bins\n",
    "pd.cut(gold_list, bins=4).value_counts()"
   ]
  },
  {
   "cell_type": "code",
   "execution_count": null,
   "metadata": {},
   "outputs": [],
   "source": [
    "#Defining Bin Boundaries\n",
    "cut_binsg = [0, 5,10,15,20,25]\n",
    "Cut_lstg = pd.cut(gold_list, bins=cut_bins)\n",
    "Cut_lstg"
   ]
  },
  {
   "cell_type": "code",
   "execution_count": null,
   "metadata": {},
   "outputs": [],
   "source": [
    "# Evenly Spaced Boundaries\n",
    "binzg=pd.cut(gold_list, bins=np.linspace(0, 25, 6))\n",
    "binzg"
   ]
  },
  {
   "cell_type": "code",
   "execution_count": null,
   "metadata": {},
   "outputs": [],
   "source": [
    "#defined Interval Ranges\n",
    "#use interval range for numbers and date ranges but cannot label bins\n",
    "interval_rangeg = pd.interval_range(start=0, freq=5, end=25)\n",
    "lst_intervalg = pd.cut(gold_list, bins=interval_rangeg, labels=[1,2,3])\n",
    "lst_intervalg"
   ]
  },
  {
   "cell_type": "markdown",
   "metadata": {},
   "source": [
    "# Winning Number Bin Visualizations"
   ]
  },
  {
   "cell_type": "markdown",
   "metadata": {},
   "source": [
    "#### Frequency For Winning Number Bins"
   ]
  },
  {
   "cell_type": "code",
   "execution_count": null,
   "metadata": {},
   "outputs": [],
   "source": [
    "fig = plt.figure(figsize = (15, 5))\n",
    "plt.hist(lst, bins=[0,10,20,30,40,50,60,70])  \n",
    "plt.xlabel(\"Bin of Winning Numbers\") \n",
    "plt.ylabel(\"Frequency of Winning Numbers\") \n",
    "plt.title(\"Occurences of Mega Millions Winning Numbers\")\n",
    "plt.grid()\n",
    "plt.savefig(\"Images/MegaMillions_BinFrequency.png\", bbox_inches='tight')"
   ]
  },
  {
   "cell_type": "markdown",
   "metadata": {},
   "source": [
    "#### Probability For Winning Number Bins"
   ]
  },
  {
   "cell_type": "code",
   "execution_count": null,
   "metadata": {},
   "outputs": [],
   "source": [
    "fig = plt.figure(figsize = (15, 5))\n",
    "plt.hist(lst, bins=[0,10,20,30,40,50,60,70], density=True )    #density=True to convert to probablilities\n",
    "plt.gca().yaxis.set_major_formatter(mtick.PercentFormatter(.1))\n",
    "plt.xlabel(\"Mega Millions Number\") \n",
    "plt.ylabel(\"Probability of Winning Numbers\") \n",
    "plt.title(\"Probability of Mega Millions Winning Numbers\")\n",
    "plt.grid()\n",
    "plt.savefig(\"Images/MegaMillionsBinProbability.png\", bbox_inches='tight')"
   ]
  },
  {
   "cell_type": "markdown",
   "metadata": {},
   "source": [
    "# Gold Number Bin Visualizations"
   ]
  },
  {
   "cell_type": "markdown",
   "metadata": {},
   "source": [
    "#### Frequency of Gold Number Bins"
   ]
  },
  {
   "cell_type": "code",
   "execution_count": null,
   "metadata": {},
   "outputs": [],
   "source": [
    "fig = plt.figure(figsize = (15, 5))\n",
    "plt.hist(gold_list, bins=[0, 5, 10, 15, 20, 25])\n",
    "plt.xlabel(\"Bin of Winning Numbers\") \n",
    "plt.ylabel(\"Frequency of Winning Numbers\") \n",
    "plt.title(\"Occurences of Mega Millions Winning Numbers\")\n",
    "plt.grid() \n",
    "plt.savefig(\"Images/GoldBinFrequency.png\", bbox_inches='tight')\n",
    "plt.show()"
   ]
  },
  {
   "cell_type": "markdown",
   "metadata": {},
   "source": [
    "#### Probability of Gold Number Bins"
   ]
  },
  {
   "cell_type": "code",
   "execution_count": null,
   "metadata": {},
   "outputs": [],
   "source": [
    "#The probability adds up to 100% because we have to multiply the probability of each of the bins by 5\n",
    "fig = plt.figure(figsize = (15, 5))\n",
    "plt.hist(gold_list, bins=[0, 5, 10, 15, 20, 25], density=True)          #density=True to get probability\n",
    "plt.gca().yaxis.set_major_formatter(mtick.PercentFormatter(.1))\n",
    "plt.xlabel(\"Mega Millions Number\") \n",
    "plt.ylabel(\"Probability of Winning Numbers\") \n",
    "plt.title(\"Probability of Mega Millions Winning Numbers\")\n",
    "plt.grid()\n",
    "plt.savefig(\"Images/GoldBinProbability.png\", bbox_inches='tight')\n",
    "plt.show() "
   ]
  },
  {
   "cell_type": "markdown",
   "metadata": {},
   "source": [
    "# Visualizing Winning Number"
   ]
  },
  {
   "cell_type": "markdown",
   "metadata": {},
   "source": [
    "#### Scatter Plot Winning Numbers"
   ]
  },
  {
   "cell_type": "code",
   "execution_count": null,
   "metadata": {},
   "outputs": [],
   "source": [
    "#unpack the list ofr x and y values using zip(data)\n",
    "x, y = zip(*sorted_d)\n",
    "#plot the # vs the number of occurces\n",
    "fig = plt.figure(figsize = (20, 10))\n",
    "plt.scatter(*zip(*sorted_d))\n",
    "plt.xticks(np.arange(min(x), max(x)+1, 1.0))\n",
    "\n",
    "plt.axhline(y=19, color='g', linestyle='-')\n",
    "plt.axhline(y=21, color='g', linestyle='-')\n",
    "\n",
    "plt.axhline(y=11, color='r', linestyle='-')\n",
    "plt.axhline(y=14, color='r', linestyle='-') \n",
    "\n",
    "# plt.autoscale(enable=True) \n",
    "plt.margins(x=0)\n",
    "\n",
    "\n",
    "plt.xlabel(\"Mega Millions Number\") \n",
    "plt.ylabel(\"No. of Occurences\") \n",
    "plt.title(\"Scatter Plot of Occurences of Mega Millions Winning Numbers\") \n",
    "plt.grid()\n",
    " # Call save fig beforee plt.show \n",
    "plt.savefig(\"Images/MegaMillions_Scatter.png\", bbox_inches='tight')\n",
    "plt.show()"
   ]
  },
  {
   "cell_type": "markdown",
   "metadata": {},
   "source": [
    "#### Individual Bar Chart Winning Numbers"
   ]
  },
  {
   "cell_type": "code",
   "execution_count": null,
   "metadata": {},
   "outputs": [],
   "source": [
    "def frequencies(values):\n",
    "    frequencies = {}\n",
    "    for v in values:\n",
    "        if v in frequencies:\n",
    "            frequencies[v] += 1\n",
    "        else:\n",
    "            frequencies[v] = 1\n",
    "    return frequencies\n",
    "def probabilities(sample, freqs):\n",
    "    probs = []\n",
    "    for k,v in freqs.items():\n",
    "        probs.append(round(v/len(sample),3))\n",
    "    return probs\n",
    "sample = lst                                    #lst is the list of numbers that are sorted\n",
    "freqs = frequencies(sample)                     # frequency is how often the number occurs\n",
    "probs = probabilities(sample, freqs)            #probabilility appends (#/length of the sample) to three decimal\n",
    "x_axis = list(set(sample))                      # x_axis just counts the numbers from 1 to 70\n",
    "fig = plt.figure(figsize = (20, 10))\n",
    "plt.bar(x_axis, probs)\n",
    "plt.gca().yaxis.set_major_formatter(mtick.PercentFormatter(.1))\n",
    "plt.xlabel(\"Mega Millions Number\") \n",
    "plt.ylabel(\"Probability of Winning Numbers\") \n",
    "plt.title(\"Bar Char of Mega Millions Winning Numbers\") \n",
    "plt.grid()\n",
    "plt.savefig(\"Images/MegaMillionsProbabilityBar.png\", bbox_inches='tight')\n",
    "plt.show()"
   ]
  },
  {
   "cell_type": "markdown",
   "metadata": {},
   "source": [
    "# Visualizing Gold Number"
   ]
  },
  {
   "cell_type": "markdown",
   "metadata": {},
   "source": [
    "#### Scatter Plot Gold Numbers"
   ]
  },
  {
   "cell_type": "code",
   "execution_count": null,
   "metadata": {},
   "outputs": [],
   "source": [
    "#unpack the list ofr x and y values using zip(data)\n",
    "x, y = zip(*sorted_g)\n",
    "#plot the # vs the number of occurces\n",
    "fig = plt.figure(figsize = (15, 5))\n",
    "plt.scatter(*zip(*sorted_g))\n",
    "plt.xticks(np.arange(min(x), max(x)+1, 1.0))\n",
    "\n",
    "plt.margins(x=0)\n",
    "\n",
    "# plt.axhline(y=10, color='r', linestyle='-') \n",
    "\n",
    "plt.xlabel(\"Mega Millions Number\") \n",
    "plt.ylabel(\"Gold Number\") \n",
    "plt.title(\"Mega Millions Winning Numbers\") \n",
    "plt.grid()\n",
    "plt.show() \n",
    "plt.savefig(\"MegaMillionsGold.png\", bbox_inches='tight')\n",
    "plt.savefig(\"Images/GoldScatter.png\", bbox_inches='tight')\n",
    "plt.show()"
   ]
  },
  {
   "cell_type": "markdown",
   "metadata": {},
   "source": [
    "#### Individual Gold Numbers"
   ]
  },
  {
   "cell_type": "code",
   "execution_count": null,
   "metadata": {},
   "outputs": [],
   "source": [
    "def frequenciesg(values):\n",
    "    frequenciesg = {}\n",
    "    for v in values:\n",
    "        if v in frequenciesg:\n",
    "            frequenciesg[v] += 1\n",
    "        else:\n",
    "            frequenciesg[v] = 1\n",
    "    return frequenciesg\n",
    "def probabilitiesg(samp, freqs):\n",
    "    probs = []\n",
    "    for k,v in freqs.items():\n",
    "        probs.append(round(v/len(samp),3))\n",
    "    return probs\n",
    "sampg = gold_list                              #lst is the list of numbers that are sorted\n",
    "freqsg = frequenciesg(sampg)                     # frequency is how often the number occurs\n",
    "probsg = probabilitiesg(sampg, freqsg)            #probabilility appends (#/length of the sample) to three decimal\n",
    "x_axis = list(set(sampg))                      # x_axis just counts the numbers from 1 to 25\n",
    "fig = plt.figure(figsize = (15, 5))\n",
    "plt.gca().yaxis.set_major_formatter(mtick.PercentFormatter(.1))\n",
    "plt.bar(x_axis, probsg)\n",
    "plt.xticks(np.arange(0, 26, 1.0))\n",
    "plt.grid()\n",
    "plt.savefig(\"Images/GoldBar.png\", bbox_inches='tight')\n",
    "plt.show()"
   ]
  },
  {
   "cell_type": "markdown",
   "metadata": {},
   "source": [
    "# Determine Most Likely Winning Numbers"
   ]
  },
  {
   "cell_type": "markdown",
   "metadata": {},
   "source": [
    "#### Pick RandomWinning Numbers"
   ]
  },
  {
   "cell_type": "code",
   "execution_count": null,
   "metadata": {},
   "outputs": [],
   "source": [
    "# Create a list of random numbers that could be choosen.\n",
    "lotteryNumbers = [] \n",
    "\n",
    "for i in range (5):\n",
    "    number = random.randint(0,60)\n",
    "  #Check if this number has already been picked and ...\n",
    "    while number in lotteryNumbers:\n",
    "    # ... if it has, pick a new number instead \n",
    "        number = random.randint(0,60)\n",
    "  \n",
    "  #Now that we have a unique number, let's append it to our list.\n",
    "    lotteryNumbers.append(number)\n",
    "\n",
    "#Sort the list in ascending order\n",
    "lotteryNumbers.sort()\n",
    "\n",
    "#Display the list on screen:\n",
    "print(\"Today's Random Numbers Are:\") \n",
    "print(lotteryNumbers) "
   ]
  },
  {
   "cell_type": "markdown",
   "metadata": {},
   "source": [
    "#### Pick Winning Numbers"
   ]
  },
  {
   "cell_type": "code",
   "execution_count": null,
   "metadata": {},
   "outputs": [],
   "source": [
    "###Finding numbers that are repeated exactly twice \n",
    "##there is an initial assumption that numbers repeated only twice are more likely to be called again than any other repetition\n",
    "def find_missing(lst): \n",
    "    return [x for x in range(lst[0], lst[-1]+1)  if x not in lst]\n",
    "\n",
    "once=[\n",
    "    item\n",
    "    for item,  count in collections.Counter(lst).items()\n",
    "    if  count >=19]\n",
    "repeats = [\n",
    "    item \n",
    "    for item, count in collections.Counter(lst).items() \n",
    "    if count <19 and count >=14]\n",
    "most_common=[\n",
    "    item \n",
    "    for item, count in collections.Counter(lst).items() \n",
    "    if count >= 22]\n",
    "\n",
    "print(\"Winning Numbers never chosen\")\n",
    "print(find_missing(lst))\n",
    "print(\"Winning Numbers between 19 and 21\")\n",
    "print(once)\n",
    "print(\"Winning Numbers between 14 and 18\")\n",
    "print(repeats)\n",
    "\n",
    "# lucky_Numbers=once+repeats+find_missing(lst)\n",
    "# lucky_Numbers.sort()\n",
    "# print('Lucky Winning Numbers')\n",
    "# Lucky Numbers are the numbers that have never been chose, chosen once, or chosen twice.\n",
    "# print(lucky_Numbers)\n",
    "\n",
    "# print(\"Most Common Winning Numbers\")\n",
    "# print(most_common)"
   ]
  },
  {
   "cell_type": "markdown",
   "metadata": {},
   "source": [
    "# Determine Most Likely Gold Numbers"
   ]
  },
  {
   "cell_type": "markdown",
   "metadata": {},
   "source": [
    "#### Pick Random Gold Numbers"
   ]
  },
  {
   "cell_type": "code",
   "execution_count": null,
   "metadata": {},
   "outputs": [],
   "source": [
    "# Create a list of random numbers that could be choosen.\n",
    "GoldNumbers = []\n",
    "\n",
    "for i in range (1):\n",
    "    number = random.randint(10,25)\n",
    "  #Check if this number has already been picked and ...\n",
    "    while number in GoldNumbers:\n",
    "    # ... if it has, pick a new number instead \n",
    "        number = random.randint(10,25)\n",
    "  \n",
    "  #Now that we have a unique number, let's append it to our list.\n",
    "    GoldNumbers.append(number)\n",
    "\n",
    "#Sort the list in ascending order\n",
    "GoldNumbers.sort()\n",
    "\n",
    "#Display the list on screen:\n",
    "print(\"Today's Gold Number Is:\") \n",
    "print(GoldNumbers)"
   ]
  },
  {
   "cell_type": "markdown",
   "metadata": {},
   "source": [
    "#### Pick Gold Numbers"
   ]
  },
  {
   "cell_type": "code",
   "execution_count": null,
   "metadata": {},
   "outputs": [],
   "source": [
    "def find_missing(gold_list): \n",
    "    return [x for x in range(gold_list[0], gold_list[-1]+1)  if x not in gold_list]\n",
    "once_gold=[\n",
    "    item\n",
    "    for item,  count in collections.Counter(gold_list).items()\n",
    "    if count <= 7]\n",
    "twice_gold = [\n",
    "    item \n",
    "    for item, count in collections.Counter(gold_list).items() \n",
    "    if count <10 and count >7]\n",
    "repeats_gold = [\n",
    "    item \n",
    "    for item, count in collections.Counter(gold_list).items() \n",
    "    if count >= 10]\n",
    "\n",
    "print(\"Gold Numbers never chosen\")\n",
    "print(find_missing(gold_list))\n",
    "print(\"Gold Numbers chosen less than 8 times\")\n",
    "print(once_gold)\n",
    "print(\"Gold Numbers chosen less than 10 times\")\n",
    "print(twice_gold)\n",
    "print(\"GoldNumbers chosen more than 10 times\")\n",
    "print(repeats_gold)\n",
    "\n",
    "gold_lucky_Numbers=once_gold+repeats_gold\n",
    "gold_lucky_Numbers.sort()\n",
    "# print('Gold Numbers')\n",
    "# print(gold_lucky_Numbers)"
   ]
  }
 ],
 "metadata": {
  "kernelspec": {
   "display_name": "PythonData",
   "language": "python",
   "name": "pythondata"
  },
  "language_info": {
   "codemirror_mode": {
    "name": "ipython",
    "version": 3
   },
   "file_extension": ".py",
   "mimetype": "text/x-python",
   "name": "python",
   "nbconvert_exporter": "python",
   "pygments_lexer": "ipython3",
   "version": "3.7.7"
  }
 },
 "nbformat": 4,
 "nbformat_minor": 4
}
