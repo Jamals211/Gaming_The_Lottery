{
 "cells": [
  {
   "cell_type": "code",
   "execution_count": 1,
   "metadata": {},
   "outputs": [],
   "source": [
    "import numpy as np\n",
    "import pandas as pd\n",
    "\n",
    "#import time dependencies\n",
    "from datetime import datetime\n",
    "import time\n",
    "from datetime import date, timedelta\n",
    "import datetime\n",
    "import itertools as it\n",
    "\n",
    "# Visualizing Data\n",
    "import matplotlib.pyplot as plt\n",
    "import matplotlib.dates as mdates\n",
    "import matplotlib.lines as mlines\n",
    "import matplotlib.ticker as mticker\n",
    "import matplotlib.ticker as mtick\n",
    "import matplotlib as mpl\n",
    "from matplotlib import colors\n",
    "\n",
    "# Stats\n",
    "from scipy.stats import chi2\n",
    "import collections\n",
    "import random\n",
    "import seaborn as sns\n",
    "from scipy.stats import linregress\n",
    "from scipy import stats\n",
    "import statistics as st\n",
    "\n",
    "#Web Scrapping\n",
    "from bs4 import BeautifulSoup\n",
    "from urllib.request import Request, urlopen\n",
    "from collections import Counter\n",
    "import requests\n",
    "import re\n",
    "import csv"
   ]
  },
  {
   "cell_type": "code",
   "execution_count": 2,
   "metadata": {},
   "outputs": [],
   "source": [
    "#the data in this script is Discrete Data \n",
    "#probability mass function-assigns a probability to each possible value\n",
    "#https://towardsdatascience.com/plotting-probabilities-for-discrete-and-continuous-random-variables-353c5bb62336"
   ]
  },
  {
   "cell_type": "markdown",
   "metadata": {},
   "source": [
    "# Web Scrapping Lottery Numbers"
   ]
  },
  {
   "cell_type": "code",
   "execution_count": 3,
   "metadata": {},
   "outputs": [],
   "source": [
    "# https://www.usamega.com/mega-millions/results/"
   ]
  },
  {
   "cell_type": "code",
   "execution_count": 4,
   "metadata": {},
   "outputs": [],
   "source": [
    "page_num = 1\n",
    "total_pages = 63\n",
    "date=[]\n",
    "winning_numbers=[]\n",
    "mega_millions_numbers=[]\n",
    "pages = np.arange(1, 2, 1)\n",
    "\n",
    "while True:\n",
    "    if page_num > total_pages: break\n",
    "    page_num = str(page_num)\n",
    "    url='https://www.usamega.com/mega-millions/results/'+page_num\n",
    "    response = requests.get(url, timeout=5)\n",
    "    soup = BeautifulSoup(response.content, \"html.parser\")\n",
    "\n",
    "    for row in soup.select('tbody tr'):\n",
    "        row_text = [x.text for x in row.find_all('li')]\n",
    "        winning_numbers.append(row_text)\n",
    "    page_num = int(page_num)\n",
    "    page_num += 1"
   ]
  },
  {
   "cell_type": "code",
   "execution_count": 5,
   "metadata": {},
   "outputs": [],
   "source": [
    "x=[i[:5] for i in winning_numbers]"
   ]
  },
  {
   "cell_type": "code",
   "execution_count": 6,
   "metadata": {},
   "outputs": [],
   "source": [
    "gold=[i[5] for i in winning_numbers]\n",
    "gold = list(map(int, gold))"
   ]
  },
  {
   "cell_type": "code",
   "execution_count": 7,
   "metadata": {},
   "outputs": [],
   "source": [
    "x=x[1:30]\n",
    "gold_list=gold[0:50]"
   ]
  },
  {
   "cell_type": "code",
   "execution_count": 8,
   "metadata": {},
   "outputs": [
    {
     "data": {
      "text/plain": [
       "[1, 10, 18, 20, 46]"
      ]
     },
     "execution_count": 8,
     "metadata": {},
     "output_type": "execute_result"
    }
   ],
   "source": [
    "lst=list(map(float, it.chain.from_iterable(x)))\n",
    "lst = list(map(int, lst))\n",
    "lst[:5]"
   ]
  },
  {
   "cell_type": "markdown",
   "metadata": {},
   "source": [
    "# Winning Numbers"
   ]
  },
  {
   "cell_type": "code",
   "execution_count": 9,
   "metadata": {},
   "outputs": [],
   "source": [
    "#count the number of times a # occurs in lst then sort them\n",
    "d={}\n",
    "[ d.update( {i:d.get(i, 0)+1} ) for i in lst ]\n",
    "sorted_d = sorted(d.items())\n",
    "#find the numbers that have not been called in the data set\n",
    "#sort the list, and then look through a range from index 0 to 71\n",
    "#Then if not in list return those numbers\n",
    "lst.sort()\n",
    "def find_missing(lst): \n",
    "    return [x for x in range(lst[0], lst[-1]+1)  if x not in lst]\n",
    "\n",
    "###Finding numbers that are repeated exactly twice \n",
    "##there is an initial assumption that numbers repeated only twice are more likely to be called again than any other repetition\n",
    "once=[\n",
    "    item\n",
    "    for item,  count in collections.Counter(lst).items()\n",
    "    if count == 1]\n",
    "repeats = [\n",
    "    item \n",
    "    for item, count in collections.Counter(lst).items() \n",
    "    if count == 2]\n",
    "most_common=[\n",
    "    item \n",
    "    for item, count in collections.Counter(lst).items() \n",
    "    if count > 3]"
   ]
  },
  {
   "cell_type": "markdown",
   "metadata": {},
   "source": [
    "## Statisitics"
   ]
  },
  {
   "cell_type": "code",
   "execution_count": 10,
   "metadata": {},
   "outputs": [
    {
     "name": "stdout",
     "output_type": "stream",
     "text": [
      "Standard Deviation\n",
      "19.489520950315082\n",
      "Variance\n",
      "379.8414268727705\n"
     ]
    }
   ],
   "source": [
    "stdev = st.pstdev(lst)\n",
    "print('Standard Deviation')\n",
    "print(stdev)\n",
    "variance = st.pvariance(lst)\n",
    "print('Variance')\n",
    "print(variance)"
   ]
  },
  {
   "cell_type": "markdown",
   "metadata": {},
   "source": [
    "## Comparing Lists With and Without Numbers From The Last Bracket [60 to 70]"
   ]
  },
  {
   "cell_type": "markdown",
   "metadata": {},
   "source": [
    "#### list Without Numbers From 60 to 70"
   ]
  },
  {
   "cell_type": "code",
   "execution_count": 11,
   "metadata": {},
   "outputs": [
    {
     "name": "stdout",
     "output_type": "stream",
     "text": [
      "Mean\n",
      "17.033898305084747\n",
      "Median\n",
      "16\n",
      "Variance\n",
      "76.343658679135\n",
      "Standard Deviation\n",
      "8.737485832843165\n"
     ]
    }
   ],
   "source": [
    "# Numbers from 60 to 70 are uncommon \n",
    "# The following section analyzes the difference between lists with the numbers from 60 to 70 and lists without the numbers 60 to 70\n",
    "lst_sixty=lst[0:59]\n",
    "print('Mean')\n",
    "print(st.mean(lst_sixty))\n",
    "print('Median')\n",
    "print(st.median(lst_sixty))\n",
    "print('Variance')\n",
    "print(st.variance(lst_sixty))\n",
    "print('Standard Deviation')\n",
    "print(st.stdev(lst_sixty))"
   ]
  },
  {
   "cell_type": "markdown",
   "metadata": {},
   "source": [
    "#### list With Numbers From 60 to 70"
   ]
  },
  {
   "cell_type": "code",
   "execution_count": 12,
   "metadata": {},
   "outputs": [
    {
     "name": "stdout",
     "output_type": "stream",
     "text": [
      "Mean\n",
      "37.11724137931034\n",
      "Median\n",
      "38\n",
      "Variance\n",
      "382.479214559387\n",
      "Standard Deviation\n",
      "19.557075818214415\n"
     ]
    }
   ],
   "source": [
    "lst\n",
    "print('Mean')\n",
    "print(st.mean(lst))\n",
    "print('Median')\n",
    "print(st.median(lst))\n",
    "print('Variance')\n",
    "print(st.variance(lst))\n",
    "print('Standard Deviation')\n",
    "print(st.stdev(lst))"
   ]
  },
  {
   "cell_type": "markdown",
   "metadata": {},
   "source": [
    "#### example of how to calculate probablility"
   ]
  },
  {
   "cell_type": "code",
   "execution_count": 13,
   "metadata": {},
   "outputs": [],
   "source": [
    "probabilitiz=[]\n",
    "for x in lst:\n",
    "    probabilitiz.append(x/len(lst))"
   ]
  },
  {
   "cell_type": "markdown",
   "metadata": {},
   "source": [
    "## Visualizing Winning Numbers"
   ]
  },
  {
   "cell_type": "markdown",
   "metadata": {},
   "source": [
    "#### Scatter Plot of Mega Millions Winning Numbers"
   ]
  },
  {
   "cell_type": "code",
   "execution_count": 14,
   "metadata": {
    "scrolled": false
   },
   "outputs": [
    {
     "data": {
      "image/png": "[encoded data removed]",
      "text/plain": [
       "<Figure size 1440x720 with 1 Axes>"
      ]
     },
     "metadata": {
      "needs_background": "light"
     },
     "output_type": "display_data"
    }
   ],
   "source": [
    "#unpack the list ofr x and y values using zip(data)\n",
    "x, y = zip(*sorted_d)\n",
    "#plot the # vs the number of occurces\n",
    "fig = plt.figure(figsize = (20, 10))\n",
    "plt.scatter(*zip(*sorted_d))\n",
    "plt.xticks(np.arange(min(x), max(x)+1, 1.0))\n",
    "\n",
    "plt.xlabel(\"Mega Millions Number\") \n",
    "plt.ylabel(\"No. of Occurences\") \n",
    "plt.title(\"Scatter Plot of Occurences of Mega Millions Winning Numbers\") \n",
    "plt.grid()\n",
    " # Call save fig beforee plt.show \n",
    "plt.savefig(\"Images/MegaMillions_Scatter.png\", bbox_inches='tight')\n",
    "plt.show()"
   ]
  },
  {
   "cell_type": "markdown",
   "metadata": {},
   "source": [
    "# Bins and Quartiles Examples"
   ]
  },
  {
   "cell_type": "markdown",
   "metadata": {},
   "source": [
    "#### Equal Amount of Observations"
   ]
  },
  {
   "cell_type": "code",
   "execution_count": 15,
   "metadata": {},
   "outputs": [
    {
     "data": {
      "text/plain": [
       "(0.999, 19.0]    38\n",
       "(19.0, 38.0]     36\n",
       "(38.0, 55.0]     37\n",
       "(55.0, 70.0]     34\n",
       "dtype: int64"
      ]
     },
     "execution_count": 15,
     "metadata": {},
     "output_type": "execute_result"
    }
   ],
   "source": [
    "Qcuts=pd.qcut(lst, q=4)\n",
    "Qcuts.value_counts()"
   ]
  },
  {
   "cell_type": "markdown",
   "metadata": {},
   "source": [
    "#### Defined Number of Bins"
   ]
  },
  {
   "cell_type": "code",
   "execution_count": 16,
   "metadata": {},
   "outputs": [
    {
     "data": {
      "text/plain": [
       "(0.931, 18.25]    34\n",
       "(18.25, 35.5]     34\n",
       "(35.5, 52.75]     37\n",
       "(52.75, 70.0]     40\n",
       "dtype: int64"
      ]
     },
     "execution_count": 16,
     "metadata": {},
     "output_type": "execute_result"
    }
   ],
   "source": [
    "pd.cut(lst, bins=4).value_counts()"
   ]
  },
  {
   "cell_type": "markdown",
   "metadata": {},
   "source": [
    "#### Defining Bin Bounaries"
   ]
  },
  {
   "cell_type": "code",
   "execution_count": 17,
   "metadata": {},
   "outputs": [],
   "source": [
    "##linespace to provide an array of evenly spaced bins over a specified range\n",
    "cut_bins = [0, 10, 20, 30, 40,50,60,70]\n",
    "Cut_lst = pd.cut(lst, bins=cut_bins)"
   ]
  },
  {
   "cell_type": "markdown",
   "metadata": {},
   "source": [
    "#### Defined Interval Ranges"
   ]
  },
  {
   "cell_type": "code",
   "execution_count": 18,
   "metadata": {},
   "outputs": [
    {
     "data": {
      "text/plain": [
       "[(0, 10], (0, 10], (0, 10], (0, 10], (0, 10], ..., (60, 70], (60, 70], (60, 70], (60, 70], (60, 70]]\n",
       "Length: 145\n",
       "Categories (7, interval[int64]): [(0, 10] < (10, 20] < (20, 30] < (30, 40] < (40, 50] < (50, 60] < (60, 70]]"
      ]
     },
     "execution_count": 18,
     "metadata": {},
     "output_type": "execute_result"
    }
   ],
   "source": [
    "interval_range = pd.interval_range(start=0, freq=10, end=70)\n",
    "lst_interval = pd.cut(lst, bins=interval_range, labels=[1,2,3])\n",
    "lst_interval"
   ]
  },
  {
   "cell_type": "markdown",
   "metadata": {},
   "source": [
    "#### Frequency For Each Bin"
   ]
  },
  {
   "cell_type": "code",
   "execution_count": 19,
   "metadata": {},
   "outputs": [
    {
     "data": {
      "image/png": "[encoded data removed]",
      "text/plain": [
       "<Figure size 1080x360 with 1 Axes>"
      ]
     },
     "metadata": {
      "needs_background": "light"
     },
     "output_type": "display_data"
    }
   ],
   "source": [
    "fig = plt.figure(figsize = (15, 5))\n",
    "plt.hist(lst, bins=[0,10,20,30,40,50,60,70])  \n",
    "plt.xlabel(\"Bin of Winning Numbers\") \n",
    "plt.ylabel(\"Frequency of Winning Numbers\") \n",
    "plt.title(\"Occurences of Mega Millions Winning Numbers\")\n",
    "plt.grid()\n",
    "plt.savefig(\"Images/MegaMillions_BinFrequency.png\", bbox_inches='tight')"
   ]
  },
  {
   "cell_type": "markdown",
   "metadata": {},
   "source": [
    "#### Probability For Each Bin"
   ]
  },
  {
   "cell_type": "code",
   "execution_count": 20,
   "metadata": {},
   "outputs": [
    {
     "data": {
      "image/png": "[encoded data removed]",
      "text/plain": [
       "<Figure size 1080x360 with 1 Axes>"
      ]
     },
     "metadata": {
      "needs_background": "light"
     },
     "output_type": "display_data"
    }
   ],
   "source": [
    "fig = plt.figure(figsize = (15, 5))\n",
    "plt.hist(lst, bins=[0,10,20,30,40,50,60,70], density=True )    #density=True to convert to probablilities\n",
    "plt.gca().yaxis.set_major_formatter(mtick.PercentFormatter(.1))\n",
    "plt.xlabel(\"Mega Millions Number\") \n",
    "plt.ylabel(\"Probability of Winning Numbers\") \n",
    "plt.title(\"Probability of Mega Millions Winning Numbers\")\n",
    "plt.grid()\n",
    "plt.savefig(\"Images/MegaMillionsBinProbability.png\", bbox_inches='tight')"
   ]
  },
  {
   "cell_type": "markdown",
   "metadata": {},
   "source": [
    "#### Probability of Individual Numbers"
   ]
  },
  {
   "cell_type": "code",
   "execution_count": 21,
   "metadata": {},
   "outputs": [
    {
     "data": {
      "image/png": "[encoded data removed]",
      "text/plain": [
       "<Figure size 1440x720 with 1 Axes>"
      ]
     },
     "metadata": {
      "needs_background": "light"
     },
     "output_type": "display_data"
    }
   ],
   "source": [
    "def frequencies(values):\n",
    "    frequencies = {}\n",
    "    for v in values:\n",
    "        if v in frequencies:\n",
    "            frequencies[v] += 1\n",
    "        else:\n",
    "            frequencies[v] = 1\n",
    "    return frequencies\n",
    "def probabilities(sample, freqs):\n",
    "    probs = []\n",
    "    for k,v in freqs.items():\n",
    "        probs.append(round(v/len(sample),3))\n",
    "    return probs\n",
    "sample = lst                                    #lst is the list of numbers that are sorted\n",
    "freqs = frequencies(sample)                     # frequency is how often the number occurs\n",
    "probs = probabilities(sample, freqs)            #probabilility appends (#/length of the sample) to three decimal\n",
    "x_axis = list(set(sample))                      # x_axis just counts the numbers from 1 to 70\n",
    "fig = plt.figure(figsize = (20, 10))\n",
    "plt.bar(x_axis, probs)\n",
    "plt.gca().yaxis.set_major_formatter(mtick.PercentFormatter(.1))\n",
    "plt.xlabel(\"Mega Millions Number\") \n",
    "plt.ylabel(\"Probability of Winning Numbers\") \n",
    "plt.title(\"Bar Char of Mega Millions Winning Numbers\") \n",
    "plt.grid()\n",
    "plt.savefig(\"Images/MegaMillionsProbabilityBar.png\", bbox_inches='tight')\n",
    "plt.show()"
   ]
  },
  {
   "cell_type": "markdown",
   "metadata": {},
   "source": [
    "# Gold Number"
   ]
  },
  {
   "cell_type": "markdown",
   "metadata": {},
   "source": [
    "#### Determine Which Numbers Are Most Likely To Be Called"
   ]
  },
  {
   "cell_type": "code",
   "execution_count": 22,
   "metadata": {},
   "outputs": [
    {
     "name": "stdout",
     "output_type": "stream",
     "text": [
      "Missing Numbers\n",
      "[4]\n",
      "Repeats\n",
      "[1, 10, 14, 15, 16, 21, 23]\n"
     ]
    }
   ],
   "source": [
    "#create a dictionary and count occurances in gold_list\n",
    "g={}\n",
    "[ g.update( {i:g.get(i, 0)+1} ) for i in gold_list ]\n",
    "#sort the list\n",
    "sorted_g=sorted(g.items())\n",
    "\n",
    "gold_list.sort()\n",
    "def find_missing(gold_list): \n",
    "    return [x for x in range(gold_list[0], gold_list[-1]+1)  if x not in gold_list]\n",
    "print(\"Missing Numbers\")\n",
    "print(find_missing(gold_list))\n",
    "\n",
    "###Finding numbers that are repeated exactly twice \n",
    "##there is an initial assumption that numbers repeated only twice are more likely to be called again than any other repetition\n",
    "repeats_gold = [\n",
    "    item \n",
    "    for item, count in collections.Counter(gold_list).items() \n",
    "    if count == 2\n",
    "]\n",
    "print(\"Repeats\")\n",
    "print(repeats_gold)"
   ]
  },
  {
   "cell_type": "markdown",
   "metadata": {},
   "source": [
    "#### Statistics"
   ]
  },
  {
   "cell_type": "code",
   "execution_count": 23,
   "metadata": {},
   "outputs": [
    {
     "name": "stdout",
     "output_type": "stream",
     "text": [
      "Standard Deviation\n",
      "6.774776749089227\n",
      "Variance\n",
      "45.8976\n"
     ]
    }
   ],
   "source": [
    "print('Standard Deviation')\n",
    "stdevg = st.pstdev(gold_list)\n",
    "print(stdevg)\n",
    "print('Variance')\n",
    "varianceg = st.pvariance(gold_list)\n",
    "print(varianceg)"
   ]
  },
  {
   "cell_type": "markdown",
   "metadata": {},
   "source": [
    "# Visualizing Gold Number"
   ]
  },
  {
   "cell_type": "markdown",
   "metadata": {},
   "source": [
    "#### Scatter Plot"
   ]
  },
  {
   "cell_type": "code",
   "execution_count": 24,
   "metadata": {},
   "outputs": [
    {
     "data": {
      "image/png": "[encoded data removed]",
      "text/plain": [
       "<Figure size 1080x360 with 1 Axes>"
      ]
     },
     "metadata": {
      "needs_background": "light"
     },
     "output_type": "display_data"
    },
    {
     "data": {
      "text/plain": [
       "<Figure size 432x288 with 0 Axes>"
      ]
     },
     "metadata": {},
     "output_type": "display_data"
    }
   ],
   "source": [
    "#unpack the list ofr x and y values using zip(data)\n",
    "x, y = zip(*sorted_g)\n",
    "#plot the # vs the number of occurces\n",
    "fig = plt.figure(figsize = (15, 5))\n",
    "plt.scatter(*zip(*sorted_g))\n",
    "plt.xticks(np.arange(min(x), max(x)+1, 1.0))\n",
    "\n",
    "plt.xlabel(\"Mega Millions Number\") \n",
    "plt.ylabel(\"Gold Number\") \n",
    "plt.title(\"Mega Millions Winning Numbers\") \n",
    "plt.grid()\n",
    "plt.show() \n",
    "plt.savefig(\"MegaMillionsGold.png\", bbox_inches='tight')\n",
    "plt.savefig(\"Images/GoldScatter.png\", bbox_inches='tight')\n",
    "plt.show()"
   ]
  },
  {
   "cell_type": "markdown",
   "metadata": {},
   "source": [
    "# Bins and Quartiles"
   ]
  },
  {
   "cell_type": "markdown",
   "metadata": {},
   "source": [
    "#### Equal Amount of Observations"
   ]
  },
  {
   "cell_type": "code",
   "execution_count": 25,
   "metadata": {},
   "outputs": [
    {
     "data": {
      "text/plain": [
       "(0.999, 11.0]    14\n",
       "(11.0, 15.5]     11\n",
       "(15.5, 21.75]    12\n",
       "(21.75, 25.0]    13\n",
       "dtype: int64"
      ]
     },
     "execution_count": 25,
     "metadata": {},
     "output_type": "execute_result"
    }
   ],
   "source": [
    "Qcutsg=pd.qcut(gold_list, q=4)\n",
    "Qcutsg.value_counts()"
   ]
  },
  {
   "cell_type": "markdown",
   "metadata": {},
   "source": [
    "#### Defined Number of Bins"
   ]
  },
  {
   "cell_type": "code",
   "execution_count": 26,
   "metadata": {},
   "outputs": [
    {
     "data": {
      "text/plain": [
       "(0.976, 7.0]     7\n",
       "(7.0, 13.0]     14\n",
       "(13.0, 19.0]    13\n",
       "(19.0, 25.0]    16\n",
       "dtype: int64"
      ]
     },
     "execution_count": 26,
     "metadata": {},
     "output_type": "execute_result"
    }
   ],
   "source": [
    "pd.cut(gold_list, bins=4).value_counts()"
   ]
  },
  {
   "cell_type": "markdown",
   "metadata": {},
   "source": [
    "#### Defining Bin Bounaries"
   ]
  },
  {
   "cell_type": "code",
   "execution_count": 27,
   "metadata": {},
   "outputs": [
    {
     "data": {
      "text/plain": [
       "[(0, 10], (0, 10], (0, 10], (0, 10], (0, 10], ..., (20, 30], (20, 30], (20, 30], (20, 30], (20, 30]]\n",
       "Length: 50\n",
       "Categories (7, interval[int64]): [(0, 10] < (10, 20] < (20, 30] < (30, 40] < (40, 50] < (50, 60] < (60, 70]]"
      ]
     },
     "execution_count": 27,
     "metadata": {},
     "output_type": "execute_result"
    }
   ],
   "source": [
    "cut_binsg = [0, 5,10,15,20,25]\n",
    "Cut_lstg = pd.cut(gold_list, bins=cut_bins)\n",
    "Cut_lstg"
   ]
  },
  {
   "cell_type": "markdown",
   "metadata": {},
   "source": [
    "#### Evenly Spaced Bins"
   ]
  },
  {
   "cell_type": "code",
   "execution_count": 28,
   "metadata": {},
   "outputs": [
    {
     "data": {
      "text/plain": [
       "[(0.0, 5.0], (0.0, 5.0], (0.0, 5.0], (0.0, 5.0], (0.0, 5.0], ..., (20.0, 25.0], (20.0, 25.0], (20.0, 25.0], (20.0, 25.0], (20.0, 25.0]]\n",
       "Length: 50\n",
       "Categories (5, interval[float64]): [(0.0, 5.0] < (5.0, 10.0] < (10.0, 15.0] < (15.0, 20.0] < (20.0, 25.0]]"
      ]
     },
     "execution_count": 28,
     "metadata": {},
     "output_type": "execute_result"
    }
   ],
   "source": [
    "binzg=pd.cut(gold_list, bins=np.linspace(0, 25, 6))\n",
    "binzg"
   ]
  },
  {
   "cell_type": "markdown",
   "metadata": {},
   "source": [
    "#### Defined Interval Ranges"
   ]
  },
  {
   "cell_type": "code",
   "execution_count": 29,
   "metadata": {},
   "outputs": [
    {
     "data": {
      "text/plain": [
       "[(0, 5], (0, 5], (0, 5], (0, 5], (0, 5], ..., (20, 25], (20, 25], (20, 25], (20, 25], (20, 25]]\n",
       "Length: 50\n",
       "Categories (5, interval[int64]): [(0, 5] < (5, 10] < (10, 15] < (15, 20] < (20, 25]]"
      ]
     },
     "execution_count": 29,
     "metadata": {},
     "output_type": "execute_result"
    }
   ],
   "source": [
    "#use interval range for numbers and date ranges but cannot label bins\n",
    "interval_rangeg = pd.interval_range(start=0, freq=5, end=25)\n",
    "lst_intervalg = pd.cut(gold_list, bins=interval_rangeg, labels=[1,2,3])\n",
    "lst_intervalg"
   ]
  },
  {
   "cell_type": "markdown",
   "metadata": {},
   "source": [
    "#### Frequency Of Bins"
   ]
  },
  {
   "cell_type": "code",
   "execution_count": 30,
   "metadata": {
    "scrolled": true
   },
   "outputs": [
    {
     "data": {
      "image/png": "[encoded data removed]",
      "text/plain": [
       "<Figure size 1080x360 with 1 Axes>"
      ]
     },
     "metadata": {
      "needs_background": "light"
     },
     "output_type": "display_data"
    }
   ],
   "source": [
    "fig = plt.figure(figsize = (15, 5))\n",
    "plt.hist(gold_list, bins=[0, 5, 10, 15, 20, 25])\n",
    "plt.xlabel(\"Bin of Winning Numbers\") \n",
    "plt.ylabel(\"Frequency of Winning Numbers\") \n",
    "plt.title(\"Occurences of Mega Millions Winning Numbers\")\n",
    "plt.grid()\n",
    "plt.savefig(\"Images/GoldBinFrequency.png\", bbox_inches='tight')\n",
    "plt.show()"
   ]
  },
  {
   "cell_type": "markdown",
   "metadata": {},
   "source": [
    "#### Probability Of Bins"
   ]
  },
  {
   "cell_type": "code",
   "execution_count": 31,
   "metadata": {
    "scrolled": true
   },
   "outputs": [
    {
     "data": {
      "image/png": "[encoded data removed]",
      "text/plain": [
       "<Figure size 1080x360 with 1 Axes>"
      ]
     },
     "metadata": {
      "needs_background": "light"
     },
     "output_type": "display_data"
    }
   ],
   "source": [
    "#The probability adds up to 100% because we have to multiply the probability of each of the bins by 5\n",
    "fig = plt.figure(figsize = (15, 5))\n",
    "plt.hist(gold_list, bins=[0, 5, 10, 15, 20, 25], density=True)          #density=True to get probability\n",
    "plt.gca().yaxis.set_major_formatter(mtick.PercentFormatter(.1))\n",
    "plt.xlabel(\"Mega Millions Number\") \n",
    "plt.ylabel(\"Probability of Winning Numbers\") \n",
    "plt.title(\"Probability of Mega Millions Winning Numbers\")\n",
    "plt.grid()\n",
    "plt.savefig(\"Images/GoldBinProbability.png\", bbox_inches='tight')\n",
    "plt.show()"
   ]
  },
  {
   "cell_type": "markdown",
   "metadata": {},
   "source": [
    "#### Probability of Individual Winning Numbers"
   ]
  },
  {
   "cell_type": "code",
   "execution_count": 32,
   "metadata": {},
   "outputs": [
    {
     "data": {
      "image/png": "[encoded data removed]",
      "text/plain": [
       "<Figure size 1080x360 with 1 Axes>"
      ]
     },
     "metadata": {
      "needs_background": "light"
     },
     "output_type": "display_data"
    }
   ],
   "source": [
    "def frequenciesg(values):\n",
    "    frequenciesg = {}\n",
    "    for v in values:\n",
    "        if v in frequenciesg:\n",
    "            frequenciesg[v] += 1\n",
    "        else:\n",
    "            frequenciesg[v] = 1\n",
    "    return frequenciesg\n",
    "def probabilitiesg(samp, freqs):\n",
    "    probs = []\n",
    "    for k,v in freqs.items():\n",
    "        probs.append(round(v/len(samp),3))\n",
    "    return probs\n",
    "sampg = gold_list                              #lst is the list of numbers that are sorted\n",
    "freqsg = frequenciesg(sampg)                     # frequency is how often the number occurs\n",
    "probsg = probabilitiesg(sampg, freqsg)            #probabilility appends (#/length of the sample) to three decimal\n",
    "x_axis = list(set(sampg))                      # x_axis just counts the numbers from 1 to 25\n",
    "fig = plt.figure(figsize = (15, 5))\n",
    "plt.gca().yaxis.set_major_formatter(mtick.PercentFormatter(.1))\n",
    "plt.bar(x_axis, probsg)\n",
    "plt.xticks(np.arange(0, 26, 1.0))\n",
    "plt.grid()\n",
    "plt.savefig(\"Images/GoldBar.png\", bbox_inches='tight')\n",
    "plt.show()"
   ]
  },
  {
   "cell_type": "markdown",
   "metadata": {},
   "source": [
    "# Determine Most Likely Numbers"
   ]
  },
  {
   "cell_type": "markdown",
   "metadata": {},
   "source": [
    "#### Pick Random Numbers"
   ]
  },
  {
   "cell_type": "code",
   "execution_count": 33,
   "metadata": {},
   "outputs": [
    {
     "name": "stdout",
     "output_type": "stream",
     "text": [
      "Today's Random Numbers Are:\n",
      "[29, 30, 36, 40, 46]\n"
     ]
    }
   ],
   "source": [
    "# Create a list of random numbers that could be choosen.\n",
    "lotteryNumbers = []\n",
    "\n",
    "for i in range (5):\n",
    "    number = random.randint(0,60)\n",
    "  #Check if this number has already been picked and ...\n",
    "    while number in lotteryNumbers:\n",
    "    # ... if it has, pick a new number instead \n",
    "        number = random.randint(0,60)\n",
    "  \n",
    "  #Now that we have a unique number, let's append it to our list.\n",
    "    lotteryNumbers.append(number)\n",
    "\n",
    "#Sort the list in ascending order\n",
    "lotteryNumbers.sort()\n",
    "\n",
    "#Display the list on screen:\n",
    "print(\"Today's Random Numbers Are:\") \n",
    "print(lotteryNumbers)"
   ]
  },
  {
   "cell_type": "code",
   "execution_count": 38,
   "metadata": {},
   "outputs": [
    {
     "name": "stdout",
     "output_type": "stream",
     "text": [
      "Numbers that have been choosen only once\n",
      "[1, 4, 5, 8, 16, 23, 29, 32, 41, 42, 47, 49, 54, 56, 65, 66, 69, 70]\n",
      "Numbers that have been choosen only twice\n",
      "[3, 6, 9, 11, 13, 20, 24, 25, 26, 28, 35, 36, 37, 38, 43, 48, 50, 52, 53, 60]\n",
      "Lucky Numbers\n",
      "[1, 2, 3, 4, 5, 6, 8, 9, 11, 12, 13, 16, 17, 20, 21, 22, 23, 24, 25, 26, 28, 29, 30, 32, 35, 36, 37, 38, 40, 41, 42, 43, 47, 48, 49, 50, 51, 52, 53, 54, 56, 60, 63, 65, 66, 69, 70]\n",
      "Most Common Numbers\n",
      "[7, 10, 14, 15, 18, 19, 27, 31, 33, 34, 39, 44, 45, 46, 55, 57, 58, 59, 61, 62, 64, 67, 68]\n"
     ]
    }
   ],
   "source": [
    "###Finding numbers that are repeated exactly twice \n",
    "##there is an initial assumption that numbers repeated only twice are more likely to be called again than any other repetition\n",
    "once=[\n",
    "    item\n",
    "    for item,  count in collections.Counter(lst).items()\n",
    "    if count == 1]\n",
    "repeats = [\n",
    "    item \n",
    "    for item, count in collections.Counter(lst).items() \n",
    "    if count == 2]\n",
    "most_common=[\n",
    "    item \n",
    "    for item, count in collections.Counter(lst).items() \n",
    "    if count >= 3]\n",
    "\n",
    "print(\"Numbers chosen once\")\n",
    "print(once)\n",
    "print(\"Numbers chosen twice\")\n",
    "print(repeats)\n",
    "\n",
    "lucky_Numbers=once+repeats+find_missing(lst)\n",
    "lucky_Numbers.sort()\n",
    "print('Lucky Numbers')\n",
    "# Lucky Numbers are the numbers that have never been chose, chosen once, or chosen twice.\n",
    "print(lucky_Numbers)\n",
    "\n",
    "print(\"Most Common Numbers\")\n",
    "print(most_common)"
   ]
  },
  {
   "cell_type": "markdown",
   "metadata": {},
   "source": [
    "# Determine Most Likely Gold Numbers"
   ]
  },
  {
   "cell_type": "markdown",
   "metadata": {},
   "source": [
    "#### Pick Random Numbers"
   ]
  },
  {
   "cell_type": "code",
   "execution_count": 35,
   "metadata": {},
   "outputs": [
    {
     "name": "stdout",
     "output_type": "stream",
     "text": [
      "Today's Gold Number Is:\n",
      "[16]\n"
     ]
    }
   ],
   "source": [
    "# Create a list of random numbers that could be choosen.\n",
    "GoldNumbers = []\n",
    "\n",
    "for i in range (1):\n",
    "    number = random.randint(10,25)\n",
    "  #Check if this number has already been picked and ...\n",
    "    while number in GoldNumbers:\n",
    "    # ... if it has, pick a new number instead \n",
    "        number = random.randint(10,25)\n",
    "  \n",
    "  #Now that we have a unique number, let's append it to our list.\n",
    "    GoldNumbers.append(number)\n",
    "\n",
    "#Sort the list in ascending order\n",
    "GoldNumbers.sort()\n",
    "\n",
    "#Display the list on screen:\n",
    "print(\"Today's Gold Number Is:\") \n",
    "print(GoldNumbers)"
   ]
  },
  {
   "cell_type": "markdown",
   "metadata": {},
   "source": [
    "#### Pick Numbers From Lucky Numbers List"
   ]
  },
  {
   "cell_type": "code",
   "execution_count": 37,
   "metadata": {},
   "outputs": [
    {
     "name": "stdout",
     "output_type": "stream",
     "text": [
      "Gold Numbers never chosen\n",
      "[4]\n",
      "Gold Numbers chosen once\n",
      "[2, 3, 5, 6, 7, 8, 9, 18, 20, 24]\n",
      "Gold Numbers chosen twice\n",
      "[1, 10, 14, 15, 16, 21, 23]\n",
      "GoldNumbers chosen more than twice\n",
      "[11, 12, 13, 17, 19, 22, 25]\n",
      "Gold Numbers\n",
      "[2, 3, 5, 6, 7, 8, 9, 11, 12, 13, 17, 18, 19, 20, 22, 24, 25]\n"
     ]
    }
   ],
   "source": [
    "def find_missing(gold_list): \n",
    "    return [x for x in range(gold_list[0], gold_list[-1]+1)  if x not in gold_list]\n",
    "once_gold=[\n",
    "    item\n",
    "    for item,  count in collections.Counter(gold_list).items()\n",
    "    if count == 1]\n",
    "twice_gold = [\n",
    "    item \n",
    "    for item, count in collections.Counter(gold_list).items() \n",
    "    if count == 2]\n",
    "repeats_gold = [\n",
    "    item \n",
    "    for item, count in collections.Counter(gold_list).items() \n",
    "    if count > 2]\n",
    "\n",
    "print(\"Gold Numbers never chosen\")\n",
    "print(find_missing(gold_list))\n",
    "print(\"Gold Numbers chosen once\")\n",
    "print(once_gold)\n",
    "print(\"Gold Numbers chosen twice\")\n",
    "print(twice_gold)\n",
    "print(\"GoldNumbers chosen more than twice\")\n",
    "print(repeats_gold)\n",
    "\n",
    "gold_lucky_Numbers=once_gold+repeats_gold\n",
    "gold_lucky_Numbers.sort()\n",
    "print('Gold Numbers')\n",
    "print(gold_lucky_Numbers)"
   ]
  },
  {
   "cell_type": "code",
   "execution_count": null,
   "metadata": {},
   "outputs": [],
   "source": []
  }
 ],
 "metadata": {
  "kernelspec": {
   "display_name": "PythonData",
   "language": "python",
   "name": "pythondata"
  },
  "language_info": {
   "codemirror_mode": {
    "name": "ipython",
    "version": 3
   },
   "file_extension": ".py",
   "mimetype": "text/x-python",
   "name": "python",
   "nbconvert_exporter": "python",
   "pygments_lexer": "ipython3",
   "version": "3.7.7"
  }
 },
 "nbformat": 4,
 "nbformat_minor": 4
}
