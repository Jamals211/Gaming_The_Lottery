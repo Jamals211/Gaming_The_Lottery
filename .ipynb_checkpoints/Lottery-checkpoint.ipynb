{
 "cells": [
  {
   "cell_type": "code",
   "execution_count": 1,
   "metadata": {},
   "outputs": [],
   "source": [
    "import numpy as np\n",
    "import pandas as pd\n",
    "#import time dependencies\n",
    "from datetime import datetime\n",
    "import time\n",
    "from datetime import date, timedelta\n",
    "import datetime\n",
    "#import statistics dependencies\n",
    "from scipy.stats import linregress\n",
    "from scipy import stats\n",
    "#import matplotlib dependencies\n",
    "import matplotlib.pyplot as plt\n",
    "import matplotlib.dates as mdates\n",
    "import matplotlib.lines as mlines\n",
    "import matplotlib.ticker as mticker\n",
    "import matplotlib as mpl\n",
    "\n",
    "\n",
    "import collections\n",
    "from matplotlib import colors\n",
    "import statistics as st\n",
    "import seaborn as sns"
   ]
  },
  {
   "cell_type": "code",
   "execution_count": null,
   "metadata": {},
   "outputs": [],
   "source": [
    "#the data in this script is Discrete Data\n",
    "#-Data can be counted but cannot be divided.\n",
    "#-Data can be categorized into bins \n",
    "#probability mass function-assigns a probability to each possible value\n",
    "\n",
    "\n",
    "\n",
    "#https://towardsdatascience.com/plotting-probabilities-for-discrete-and-continuous-random-variables-353c5bb62336"
   ]
  },
  {
   "cell_type": "code",
   "execution_count": 2,
   "metadata": {},
   "outputs": [],
   "source": [
    "data='9.4.csv'\n",
    "data_df=pd.read_csv(data,header=None)\n",
    "data_df=data_df[1:38]\n",
    "data_df.columns=[\"Date\",\"1\",\"2\",\"3\",\"4\",\"5\",\"6\"]\n",
    "data_df=pd.DataFrame(data_df)\n",
    "data_df['Date']=pd.to_datetime(data_df[\"Date\"], format='%m/%d/%Y')\n",
    "#need to set the index to avoid view limit minimum\n",
    "data_df.set_index('Date', inplace=True)\n",
    "# df_google.set_index('datetime', inplace=True)"
   ]
  },
  {
   "cell_type": "markdown",
   "metadata": {},
   "source": [
    "# Winning Numbers"
   ]
  },
  {
   "cell_type": "code",
   "execution_count": 3,
   "metadata": {},
   "outputs": [],
   "source": [
    "#create a data set that contains all the winning numbers\n",
    "data=[\n",
    "[7,10,15,31,57],\n",
    "[19,22,24,28,53],\n",
    "[15,25,26,38,47],\n",
    "[3,9,50,53,64],\n",
    "[8,10,15,17,57],\n",
    "[11,15,31,42,63],\n",
    "[4,18,26,27,58],\n",
    "[3,24,29,42,47],\n",
    "[8,22,29,43,56],\n",
    "[4,44,53,64,70],\n",
    "[2,22,30,42,62],\n",
    "[12,35,46,48,69],\n",
    "[17,20,27,31,34],\n",
    "[8,33,39,54,58],\n",
    "[14,25,26,41,43],\n",
    "[12,13,21,46,57],\n",
    "[6,26,55,56,64],\n",
    "[10,15,20,49,53],\n",
    "[16,20,25,30,43],\n",
    "[20,40,44,45,50],\n",
    "[9,16,29,37,53],\n",
    "[6,20,37,40,48],\n",
    "[11,34,36,52,66],\n",
    "[21,23,33,35,42],\n",
    "[9,14,57,67,70],\n",
    "[1,5,9,10,23],\n",
    "[32,35,37,47,55],\n",
    "[9,20,23,26,29],\n",
    "[10,13,32,41,51],\n",
    "[34,52,58,59,62],\n",
    "[8,10,20,44,46],\n",
    "[8,19,25,36,66],\n",
    "[11,17,32,33,46],\n",
    "[7,16,27,44,52],\n",
    "[5,20,22,61,70],\n",
    "[7,13,17,21,45],\n",
    "[28,30,31,35,66],\n",
    "[13,19,53,54,63],\n",
    "[1,27,32,60,67],\n",
    "     ]"
   ]
  },
  {
   "cell_type": "code",
   "execution_count": 4,
   "metadata": {},
   "outputs": [
    {
     "name": "stdout",
     "output_type": "stream",
     "text": [
      "[60, 61, 65, 68]\n",
      "[3, 4, 6, 11, 12, 13, 14, 16, 17, 21, 24, 27, 30, 32, 33, 40, 41, 44, 46, 48, 50, 52, 55, 56, 62, 70]\n"
     ]
    }
   ],
   "source": [
    "#need to concatonate all the lists of numbers \n",
    "#list=list+x is the same as list+=x\n",
    "#create an empty list and then loop through a sample of 30\n",
    "# sample of 30 is enough for the central limit theorem(large data set normalizes the numbers) \n",
    "#could use ''.join()\n",
    "lst=[]\n",
    "for x in data[0:30]:\n",
    "    lst+=x\n",
    "#count the number of times a # occurs in lst\n",
    "#then sort them\n",
    "d={}\n",
    "[ d.update( {i:d.get(i, 0)+1} ) for i in lst ]\n",
    "sorted_d = sorted(d.items())\n",
    "# sorted_d\n",
    "\n",
    "###find the numbers that have not been called in the data set\n",
    "#sort the list, and then look through a range from index 0 to 71\n",
    "#Then if not in list return those numbers\n",
    "lst.sort()\n",
    "def find_missing(lst): \n",
    "    return [x for x in range(lst[0], lst[-1]+1)  if x not in lst]\n",
    "print(find_missing(lst))\n",
    "\n",
    "###Finding numbers that are repeated exactly twice \n",
    "##there is an initial assumption that numbers repeated only twice are more likely to be called again than any other repetition\n",
    "repeats = [\n",
    "    item \n",
    "    for item, count in collections.Counter(lst).items() \n",
    "    if count == 2\n",
    "]\n",
    "print(repeats)"
   ]
  },
  {
   "cell_type": "code",
   "execution_count": 52,
   "metadata": {},
   "outputs": [
    {
     "name": "stdout",
     "output_type": "stream",
     "text": [
      "13.694915254237289\n",
      "14\n",
      "42.93980128579778\n",
      "6.5528468077468265\n"
     ]
    }
   ],
   "source": [
    "lst_sixty=lst[0:59]\n",
    "print(st.mean(lst_sixty))\n",
    "print(st.median(lst_sixty))\n",
    "print(st.variance(lst_sixty))\n",
    "print(st.stdev(lst_sixty))"
   ]
  },
  {
   "cell_type": "code",
   "execution_count": 53,
   "metadata": {},
   "outputs": [
    {
     "name": "stdout",
     "output_type": "stream",
     "text": [
      "32.32\n",
      "30.5\n",
      "340.04456375838924\n",
      "18.440297279555697\n"
     ]
    }
   ],
   "source": [
    "lst\n",
    "print(st.mean(lst))\n",
    "print(st.median(lst))\n",
    "print(st.variance(lst))\n",
    "print(st.stdev(lst))"
   ]
  },
  {
   "cell_type": "code",
   "execution_count": 54,
   "metadata": {},
   "outputs": [
    {
     "data": {
      "text/plain": [
       "Ttest_indResult(statistic=10.762606527722419, pvalue=1.0299865213315077e-21)"
      ]
     },
     "execution_count": 54,
     "metadata": {},
     "output_type": "execute_result"
    }
   ],
   "source": [
    "#null hyp: removing the numbers 60 to 70 will not effect the study\n",
    "#alt hyp: removing the numbers 60 to 70 will have a positive effect on the study\n",
    "#                                  I am playing with the numbers\n",
    "\n",
    "\n",
    "#two independent samples from the same or different populations\n",
    "#test measures whether the average (expected) value differs significantly across samples\n",
    "#if p-value is below 0.05 then we can reject the null hypothesis\n",
    "stats.ttest_ind(lst, lst_sixty, equal_var = False)"
   ]
  },
  {
   "cell_type": "code",
   "execution_count": null,
   "metadata": {},
   "outputs": [],
   "source": [
    "# t = observed difference between sample means / standard error of the difference between the means\n",
    "# t = (mean(X1) - mean(X2)) / sed\n",
    "# sed = sqrt(se1^2 + se2^2)\n",
    "# se = std / sqrt(n)"
   ]
  },
  {
   "cell_type": "code",
   "execution_count": 112,
   "metadata": {},
   "outputs": [],
   "source": [
    "#example of how to calculate probablility\n",
    "probabilitiz=[]\n",
    "for x in lst:\n",
    "    probabilitiz.append(x/len(lst))"
   ]
  },
  {
   "cell_type": "code",
   "execution_count": 115,
   "metadata": {},
   "outputs": [
    {
     "data": {
      "text/plain": [
       "([<matplotlib.axis.XTick at 0x2670af72d48>,\n",
       "  <matplotlib.axis.XTick at 0x2670af72d08>,\n",
       "  <matplotlib.axis.XTick at 0x2670ae5f808>,\n",
       "  <matplotlib.axis.XTick at 0x2670b07d3c8>,\n",
       "  <matplotlib.axis.XTick at 0x2670b074c08>,\n",
       "  <matplotlib.axis.XTick at 0x2670b081c08>,\n",
       "  <matplotlib.axis.XTick at 0x2670b084c48>,\n",
       "  <matplotlib.axis.XTick at 0x2670b088c88>,\n",
       "  <matplotlib.axis.XTick at 0x2670b08bc48>,\n",
       "  <matplotlib.axis.XTick at 0x2670b090c08>,\n",
       "  <matplotlib.axis.XTick at 0x2670b095dc8>,\n",
       "  <matplotlib.axis.XTick at 0x2670b098c48>,\n",
       "  <matplotlib.axis.XTick at 0x2670b0a0108>,\n",
       "  <matplotlib.axis.XTick at 0x2670b0a4048>,\n",
       "  <matplotlib.axis.XTick at 0x2670b09c1c8>,\n",
       "  <matplotlib.axis.XTick at 0x2670b084ac8>,\n",
       "  <matplotlib.axis.XTick at 0x2670b0ab248>,\n",
       "  <matplotlib.axis.XTick at 0x2670b0abe48>,\n",
       "  <matplotlib.axis.XTick at 0x2670b0b2308>,\n",
       "  <matplotlib.axis.XTick at 0x2670b0b7208>,\n",
       "  <matplotlib.axis.XTick at 0x2670b0bb888>,\n",
       "  <matplotlib.axis.XTick at 0x2670b0bfd48>,\n",
       "  <matplotlib.axis.XTick at 0x2670b0c6448>,\n",
       "  <matplotlib.axis.XTick at 0x2670b0ca348>,\n",
       "  <matplotlib.axis.XTick at 0x2670b0bfb88>,\n",
       "  <matplotlib.axis.XTick at 0x2670b084d08>,\n",
       "  <matplotlib.axis.XTick at 0x2670b0d21c8>,\n",
       "  <matplotlib.axis.XTick at 0x2670b0d63c8>,\n",
       "  <matplotlib.axis.XTick at 0x2670b0da288>,\n",
       "  <matplotlib.axis.XTick at 0x2670b0de088>,\n",
       "  <matplotlib.axis.XTick at 0x2670b0e2788>,\n",
       "  <matplotlib.axis.XTick at 0x2670b0e5c88>,\n",
       "  <matplotlib.axis.XTick at 0x2670b0ed3c8>,\n",
       "  <matplotlib.axis.XTick at 0x2670b0e2a08>,\n",
       "  <matplotlib.axis.XTick at 0x2670b0d6f88>,\n",
       "  <matplotlib.axis.XTick at 0x2670b0f0d88>,\n",
       "  <matplotlib.axis.XTick at 0x2670b0f5dc8>,\n",
       "  <matplotlib.axis.XTick at 0x2670b0fd208>,\n",
       "  <matplotlib.axis.XTick at 0x2670b101448>,\n",
       "  <matplotlib.axis.XTick at 0x2670b106748>,\n",
       "  <matplotlib.axis.XTick at 0x2670b109948>,\n",
       "  <matplotlib.axis.XTick at 0x2670b10ed48>,\n",
       "  <matplotlib.axis.XTick at 0x2670b1144c8>,\n",
       "  <matplotlib.axis.XTick at 0x2670b1091c8>,\n",
       "  <matplotlib.axis.XTick at 0x2670b0f5ec8>,\n",
       "  <matplotlib.axis.XTick at 0x2670b119c48>,\n",
       "  <matplotlib.axis.XTick at 0x2670b11f348>,\n",
       "  <matplotlib.axis.XTick at 0x2670b1243c8>,\n",
       "  <matplotlib.axis.XTick at 0x2670b127748>,\n",
       "  <matplotlib.axis.XTick at 0x2670b12ca08>,\n",
       "  <matplotlib.axis.XTick at 0x2670b133208>,\n",
       "  <matplotlib.axis.XTick at 0x2670b1373c8>,\n",
       "  <matplotlib.axis.XTick at 0x2670b13a848>,\n",
       "  <matplotlib.axis.XTick at 0x2670b13a5c8>,\n",
       "  <matplotlib.axis.XTick at 0x2670b119b08>,\n",
       "  <matplotlib.axis.XTick at 0x2670b142548>,\n",
       "  <matplotlib.axis.XTick at 0x2670b145108>,\n",
       "  <matplotlib.axis.XTick at 0x2670b149708>,\n",
       "  <matplotlib.axis.XTick at 0x2670b14eb48>,\n",
       "  <matplotlib.axis.XTick at 0x2670b152748>,\n",
       "  <matplotlib.axis.XTick at 0x2670b15a588>,\n",
       "  <matplotlib.axis.XTick at 0x2670b15e908>,\n",
       "  <matplotlib.axis.XTick at 0x2670b160ac8>,\n",
       "  <matplotlib.axis.XTick at 0x2670b15ad88>,\n",
       "  <matplotlib.axis.XTick at 0x2670b142088>,\n",
       "  <matplotlib.axis.XTick at 0x2670b1684c8>,\n",
       "  <matplotlib.axis.XTick at 0x2670b16c688>,\n",
       "  <matplotlib.axis.XTick at 0x2670b170c88>,\n",
       "  <matplotlib.axis.XTick at 0x2670b178208>,\n",
       "  <matplotlib.axis.XTick at 0x2670b17c548>],\n",
       " <a list of 70 Text major ticklabel objects>)"
      ]
     },
     "execution_count": 115,
     "metadata": {},
     "output_type": "execute_result"
    },
    {
     "data": {
      "image/png": "[encoded data removed]",
      "text/plain": [
       "<Figure size 1440x720 with 1 Axes>"
      ]
     },
     "metadata": {
      "needs_background": "light"
     },
     "output_type": "display_data"
    }
   ],
   "source": [
    "def frequencies(values):\n",
    "    frequencies = {}\n",
    "    for v in values:\n",
    "        if v in frequencies:\n",
    "            frequencies[v] += 1\n",
    "        else:\n",
    "            frequencies[v] = 1\n",
    "    return frequencies\n",
    "def probabilities(sample, freqs):\n",
    "    probs = []\n",
    "    for k,v in freqs.items():\n",
    "        probs.append(round(v/len(sample),3))\n",
    "    return probs\n",
    "sample = lst                                    #lst is the list of numbers that are sorted\n",
    "freqs = frequencies(sample)                     # frequency is how often the number occurs\n",
    "probs = probabilities(sample, freqs)            #probabilility appends (#/length of the sample) to three decimal\n",
    "x_axis = list(set(sample))                      # x_axis just counts the numbers from 1 to 70\n",
    "fig = plt.figure(figsize = (20, 10))\n",
    "plt.bar(x_axis, probs)\n",
    "plt.xticks(np.arange(min(x), max(x)+1, 1.0))\n"
   ]
  },
  {
   "cell_type": "code",
   "execution_count": 117,
   "metadata": {},
   "outputs": [],
   "source": [
    "# dict(zip(x_axis, probs))"
   ]
  },
  {
   "cell_type": "code",
   "execution_count": 116,
   "metadata": {
    "scrolled": false
   },
   "outputs": [
    {
     "data": {
      "image/png": "[encoded data removed]",
      "text/plain": [
       "<Figure size 1440x720 with 1 Axes>"
      ]
     },
     "metadata": {
      "needs_background": "light"
     },
     "output_type": "display_data"
    },
    {
     "data": {
      "text/plain": [
       "<Figure size 432x288 with 0 Axes>"
      ]
     },
     "metadata": {},
     "output_type": "display_data"
    }
   ],
   "source": [
    "#unpack the list ofr x and y values using zip(data)\n",
    "x, y = zip(*sorted_d)\n",
    "#plot the # vs the number of occurces\n",
    "# x=list(range(1, 71))\n",
    "fig = plt.figure(figsize = (20, 10))\n",
    "plt.scatter(*zip(*sorted_d))\n",
    "plt.xticks(np.arange(min(x), max(x)+1, 1.0))\n",
    "# plt.xticks(rotation=70)\n",
    "\n",
    "plt.xlabel(\"Mega Millions Number\") \n",
    "plt.ylabel(\"No. of Occurences\") \n",
    "plt.title(\"Mega Millions Winning Numbers\") \n",
    "plt.grid()\n",
    "plt.show() \n",
    "plt.savefig(\"MegaMillions.png\", bbox_inches='tight')"
   ]
  },
  {
   "cell_type": "markdown",
   "metadata": {},
   "source": [
    "### Bins and Quartiles"
   ]
  },
  {
   "cell_type": "code",
   "execution_count": 6,
   "metadata": {},
   "outputs": [
    {
     "data": {
      "text/plain": [
       "(0.999, 16.25]    38\n",
       "(16.25, 30.5]     37\n",
       "(30.5, 47.0]      38\n",
       "(47.0, 70.0]      37\n",
       "dtype: int64"
      ]
     },
     "execution_count": 6,
     "metadata": {},
     "output_type": "execute_result"
    }
   ],
   "source": [
    "#Quartile cut to 25%, 50%, and 75%\n",
    "#dont define the bins\n",
    "# define the number of quantiles and let pandas figure out how to divide up the data.\n",
    "# lst = pd.qcut(df['ext price'], q=4) #save it back in the original df\n",
    "Qcuts=pd.qcut(lst, q=4)\n",
    "Qcuts.value_counts()\n",
    "#there should be an equal amount of observations per bin bc Pandas is doing the math to figure out width"
   ]
  },
  {
   "cell_type": "code",
   "execution_count": 7,
   "metadata": {},
   "outputs": [
    {
     "data": {
      "text/plain": [
       "(0.931, 18.25]    41\n",
       "(18.25, 35.5]     47\n",
       "(35.5, 52.75]     33\n",
       "(52.75, 70.0]     29\n",
       "dtype: int64"
      ]
     },
     "execution_count": 7,
     "metadata": {},
     "output_type": "execute_result"
    }
   ],
   "source": [
    "# cut and bin\n",
    "#define the bins\n",
    "pd.cut(lst, bins=4).value_counts()"
   ]
  },
  {
   "cell_type": "code",
   "execution_count": 8,
   "metadata": {},
   "outputs": [
    {
     "data": {
      "text/plain": [
       "[(0, 10], (0, 10], (0, 10], (0, 10], (0, 10], ..., (60, 70], (60, 70], (60, 70], (60, 70], (60, 70]]\n",
       "Length: 150\n",
       "Categories (7, interval[int64]): [(0, 10] < (10, 20] < (20, 30] < (30, 40] < (40, 50] < (50, 60] < (60, 70]]"
      ]
     },
     "execution_count": 8,
     "metadata": {},
     "output_type": "execute_result"
    }
   ],
   "source": [
    "cut_bins = [0, 10, 20, 30, 40,50,60,70]\n",
    "Cut_lst = pd.cut(lst, bins=cut_bins)\n",
    "Cut_lst"
   ]
  },
  {
   "cell_type": "code",
   "execution_count": 9,
   "metadata": {
    "scrolled": true
   },
   "outputs": [
    {
     "data": {
      "text/plain": [
       "[(0.0, 10.0], (0.0, 10.0], (0.0, 10.0], (0.0, 10.0], (0.0, 10.0], ..., (60.0, 70.0], (60.0, 70.0], (60.0, 70.0], (60.0, 70.0], (60.0, 70.0]]\n",
       "Length: 150\n",
       "Categories (7, interval[float64]): [(0.0, 10.0] < (10.0, 20.0] < (20.0, 30.0] < (30.0, 40.0] < (40.0, 50.0] < (50.0, 60.0] < (60.0, 70.0]]"
      ]
     },
     "execution_count": 9,
     "metadata": {},
     "output_type": "execute_result"
    }
   ],
   "source": [
    "#linespace to provide an array of evenly spaced bins over a specified range\n",
    "pd.cut(lst, bins=np.linspace(0, 70, 8))"
   ]
  },
  {
   "cell_type": "code",
   "execution_count": 10,
   "metadata": {},
   "outputs": [
    {
     "data": {
      "text/plain": [
       "[(0, 10], (0, 10], (0, 10], (0, 10], (0, 10], ..., (60, 70], (60, 70], (60, 70], (60, 70], (60, 70]]\n",
       "Length: 150\n",
       "Categories (7, interval[int64]): [(0, 10] < (10, 20] < (20, 30] < (30, 40] < (40, 50] < (50, 60] < (60, 70]]"
      ]
     },
     "execution_count": 10,
     "metadata": {},
     "output_type": "execute_result"
    }
   ],
   "source": [
    "#use interval range for numbers and date ranges but cannot label bins\n",
    "interval_range = pd.interval_range(start=0, freq=10, end=70)\n",
    "lst_interval = pd.cut(lst, bins=interval_range, labels=[1,2,3])\n",
    "lst_interval"
   ]
  },
  {
   "cell_type": "markdown",
   "metadata": {},
   "source": [
    "### Statistics"
   ]
  },
  {
   "cell_type": "code",
   "execution_count": 11,
   "metadata": {},
   "outputs": [
    {
     "data": {
      "text/plain": [
       "18.378726832944658"
      ]
     },
     "execution_count": 11,
     "metadata": {},
     "output_type": "execute_result"
    }
   ],
   "source": [
    "stdev = st.pstdev(lst)\n",
    "stdev"
   ]
  },
  {
   "cell_type": "code",
   "execution_count": 12,
   "metadata": {},
   "outputs": [
    {
     "data": {
      "text/plain": [
       "337.7776"
      ]
     },
     "execution_count": 12,
     "metadata": {},
     "output_type": "execute_result"
    }
   ],
   "source": [
    "variance = st.pvariance(lst)\n",
    "variance"
   ]
  },
  {
   "cell_type": "code",
   "execution_count": 101,
   "metadata": {},
   "outputs": [
    {
     "data": {
      "image/png": "[encoded data removed]",
      "text/plain": [
       "<Figure size 1080x360 with 1 Axes>"
      ]
     },
     "metadata": {
      "needs_background": "light"
     },
     "output_type": "display_data"
    }
   ],
   "source": [
    "#frequency\n",
    "fig = plt.figure(figsize = (15, 5))\n",
    "plt.hist(lst, bins=[0,10,20,30,40,50,60,70])   \n",
    "plt.grid()"
   ]
  },
  {
   "cell_type": "code",
   "execution_count": 100,
   "metadata": {},
   "outputs": [
    {
     "data": {
      "image/png": "[encoded data removed]",
      "text/plain": [
       "<Figure size 1080x360 with 1 Axes>"
      ]
     },
     "metadata": {
      "needs_background": "light"
     },
     "output_type": "display_data"
    }
   ],
   "source": [
    "#Probablility\n",
    "#The probability adds up to 100% because we have to multiply the probability of each of the bins by 5\n",
    "fig = plt.figure(figsize = (15, 5))\n",
    "plt.hist(lst, bins=[0,10,20,30,40,50,60,70], density=True )    #density=True to convert to probablilities\n",
    "plt.grid()"
   ]
  },
  {
   "cell_type": "markdown",
   "metadata": {},
   "source": [
    "# Gold Number"
   ]
  },
  {
   "cell_type": "code",
   "execution_count": 14,
   "metadata": {},
   "outputs": [
    {
     "name": "stdout",
     "output_type": "stream",
     "text": [
      "[5, 10, 16]\n",
      "[1, 2, 4, 6, 7, 8, 9, 11, 12, 13, 14, 17, 18, 19, 20, 24, 25]\n"
     ]
    }
   ],
   "source": [
    "gold=[21,25,22,1,12,14,23,13,9,3,20,23,19,17,15,21,22,22,18,24,11,15,7,6,2,22,22,8,3,4,18,9,25,5,4,14,14,17,18]\n",
    "#gold_list is 30 samples of winning numbers\n",
    "gold_list=gold[0:30]\n",
    "#create a dictionary and count occurances in gold_list\n",
    "g={}\n",
    "[ g.update( {i:g.get(i, 0)+1} ) for i in gold_list ]\n",
    "#sort the list\n",
    "sorted_g=sorted(g.items())\n",
    "\n",
    "gold_list.sort()\n",
    "def find_missing(gold_list): \n",
    "    return [x for x in range(gold_list[0], gold_list[-1]+1)  if x not in gold_list]\n",
    "print(find_missing(gold_list))\n",
    "\n",
    "###Finding numbers that are repeated exactly twice \n",
    "##there is an initial assumption that numbers repeated only twice are more likely to be called again than any other repetition\n",
    "repeats = [\n",
    "    item \n",
    "    for item, count in collections.Counter(gold_list).items() \n",
    "    if count == 1\n",
    "]\n",
    "print(repeats)"
   ]
  },
  {
   "cell_type": "code",
   "execution_count": 15,
   "metadata": {
    "scrolled": false
   },
   "outputs": [
    {
     "data": {
      "image/png": "[encoded data removed]",
      "text/plain": [
       "<Figure size 1080x360 with 1 Axes>"
      ]
     },
     "metadata": {
      "needs_background": "light"
     },
     "output_type": "display_data"
    },
    {
     "data": {
      "text/plain": [
       "<Figure size 432x288 with 0 Axes>"
      ]
     },
     "metadata": {},
     "output_type": "display_data"
    }
   ],
   "source": [
    "#unpack the list ofr x and y values using zip(data)\n",
    "x, y = zip(*sorted_g)\n",
    "#plot the # vs the number of occurces\n",
    "fig = plt.figure(figsize = (15, 5))\n",
    "plt.scatter(*zip(*sorted_g))\n",
    "plt.xticks(np.arange(min(x), max(x)+1, 1.0))\n",
    "# plt.yticks(0,5)\n",
    "# plt.xticks(rotation=70)\n",
    "\n",
    "plt.xlabel(\"Mega Millions Number\") \n",
    "plt.ylabel(\"Gold Number\") \n",
    "plt.title(\"Mega Millions Winning Numbers\") \n",
    "plt.grid()\n",
    "plt.show() \n",
    "plt.savefig(\"MegaMillionsGold.png\", bbox_inches='tight')"
   ]
  },
  {
   "cell_type": "code",
   "execution_count": 16,
   "metadata": {},
   "outputs": [
    {
     "data": {
      "text/plain": [
       "(0.999, 8.25]     8\n",
       "(8.25, 16.0]      7\n",
       "(16.0, 22.0]     11\n",
       "(22.0, 25.0]      4\n",
       "dtype: int64"
      ]
     },
     "execution_count": 16,
     "metadata": {},
     "output_type": "execute_result"
    }
   ],
   "source": [
    "Qcutsg=pd.qcut(gold_list, q=4)\n",
    "Qcutsg.value_counts()"
   ]
  },
  {
   "cell_type": "code",
   "execution_count": 17,
   "metadata": {},
   "outputs": [
    {
     "data": {
      "text/plain": [
       "(0.976, 7.0]     7\n",
       "(7.0, 13.0]      5\n",
       "(13.0, 19.0]     6\n",
       "(19.0, 25.0]    12\n",
       "dtype: int64"
      ]
     },
     "execution_count": 17,
     "metadata": {},
     "output_type": "execute_result"
    }
   ],
   "source": [
    "#define the bins\n",
    "pd.cut(gold_list, bins=4).value_counts()"
   ]
  },
  {
   "cell_type": "code",
   "execution_count": 18,
   "metadata": {},
   "outputs": [
    {
     "data": {
      "text/plain": [
       "[(0, 10], (0, 10], (0, 10], (0, 10], (0, 10], ..., (20, 30], (20, 30], (20, 30], (20, 30], (20, 30]]\n",
       "Length: 30\n",
       "Categories (7, interval[int64]): [(0, 10] < (10, 20] < (20, 30] < (30, 40] < (40, 50] < (50, 60] < (60, 70]]"
      ]
     },
     "execution_count": 18,
     "metadata": {},
     "output_type": "execute_result"
    }
   ],
   "source": [
    "cut_binsg = [0, 5,10,15,20,25]\n",
    "Cut_lstg = pd.cut(gold_list, bins=cut_bins)\n",
    "Cut_lstg"
   ]
  },
  {
   "cell_type": "code",
   "execution_count": 19,
   "metadata": {},
   "outputs": [],
   "source": [
    "#linespace to provide an array of evenly spaced bins over a specified range\n",
    "binz=pd.cut(gold_list, bins=np.linspace(0, 25, 6))"
   ]
  },
  {
   "cell_type": "code",
   "execution_count": 20,
   "metadata": {},
   "outputs": [
    {
     "data": {
      "text/plain": [
       "[(0, 5], (0, 5], (0, 5], (0, 5], (0, 5], ..., (20, 25], (20, 25], (20, 25], (20, 25], (20, 25]]\n",
       "Length: 30\n",
       "Categories (5, interval[int64]): [(0, 5] < (5, 10] < (10, 15] < (15, 20] < (20, 25]]"
      ]
     },
     "execution_count": 20,
     "metadata": {},
     "output_type": "execute_result"
    }
   ],
   "source": [
    "#use interval range for numbers and date ranges but cannot label bins\n",
    "interval_range = pd.interval_range(start=0, freq=5, end=25)\n",
    "lst_interval = pd.cut(gold_list, bins=interval_range, labels=[1,2,3])\n",
    "lst_interval"
   ]
  },
  {
   "cell_type": "code",
   "execution_count": 21,
   "metadata": {},
   "outputs": [
    {
     "data": {
      "text/plain": [
       "7.556013058044125"
      ]
     },
     "execution_count": 21,
     "metadata": {},
     "output_type": "execute_result"
    }
   ],
   "source": [
    "stdevg = st.pstdev(gold_list)\n",
    "stdevg"
   ]
  },
  {
   "cell_type": "code",
   "execution_count": 22,
   "metadata": {},
   "outputs": [
    {
     "data": {
      "text/plain": [
       "337.7776"
      ]
     },
     "execution_count": 22,
     "metadata": {},
     "output_type": "execute_result"
    }
   ],
   "source": [
    "varianceg = st.pvariance(gold_list)\n",
    "variance"
   ]
  },
  {
   "cell_type": "code",
   "execution_count": 23,
   "metadata": {},
   "outputs": [
    {
     "data": {
      "text/plain": [
       "Interval(0.0, 5.0, closed='right')"
      ]
     },
     "execution_count": 23,
     "metadata": {},
     "output_type": "execute_result"
    }
   ],
   "source": [
    "binz[0]"
   ]
  },
  {
   "cell_type": "code",
   "execution_count": 24,
   "metadata": {
    "scrolled": true
   },
   "outputs": [
    {
     "data": {
      "image/png": "[encoded data removed]",
      "text/plain": [
       "<Figure size 1080x360 with 1 Axes>"
      ]
     },
     "metadata": {
      "needs_background": "light"
     },
     "output_type": "display_data"
    }
   ],
   "source": [
    "#frequency\n",
    "fig = plt.figure(figsize = (15, 5))\n",
    "plt.hist(gold_list, bins=[0, 5, 10, 15, 20, 25])\n",
    "# binwidth=5\n",
    "# plt.hist(gold_list, bins=range(min(data), max(data) + binwidth, binwidth))#intergers only\n",
    "# plt.hist(data, bins=np.arange(min(data), max(data) + binwidth, binwidth))#for floats use\n",
    "plt.grid()"
   ]
  },
  {
   "cell_type": "code",
   "execution_count": 102,
   "metadata": {},
   "outputs": [
    {
     "data": {
      "image/png": "[encoded data removed]",
      "text/plain": [
       "<Figure size 1080x360 with 1 Axes>"
      ]
     },
     "metadata": {
      "needs_background": "light"
     },
     "output_type": "display_data"
    }
   ],
   "source": [
    "#Probability\n",
    "#The probability adds up to 100% because we have to multiply the probability of each of the bins by 5\n",
    "fig = plt.figure(figsize = (15, 5))\n",
    "plt.hist(gold_list, bins=[0, 5, 10, 15, 20, 25], density=True)          #density=True to get probabilities\n",
    "# binwidth=5\n",
    "# plt.hist(gold_list, bins=range(min(data), max(data) + binwidth, binwidth))#intergers only\n",
    "# plt.hist(data, bins=np.arange(min(data), max(data) + binwidth, binwidth))#for floats use\n",
    "plt.grid()"
   ]
  }
 ],
 "metadata": {
  "kernelspec": {
   "display_name": "PythonData",
   "language": "python",
   "name": "pythondata"
  },
  "language_info": {
   "codemirror_mode": {
    "name": "ipython",
    "version": 3
   },
   "file_extension": ".py",
   "mimetype": "text/x-python",
   "name": "python",
   "nbconvert_exporter": "python",
   "pygments_lexer": "ipython3",
   "version": "3.7.7"
  }
 },
 "nbformat": 4,
 "nbformat_minor": 4
}
