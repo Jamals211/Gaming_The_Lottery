{
 "cells": [
  {
   "cell_type": "code",
   "execution_count": 1,
   "metadata": {},
   "outputs": [],
   "source": [
    "import numpy as np\n",
    "import pandas as pd\n",
    "#import time dependencies\n",
    "from datetime import datetime\n",
    "import time\n",
    "from datetime import date, timedelta\n",
    "import datetime\n",
    "#import statistics dependencies\n",
    "from scipy.stats import linregress\n",
    "from scipy import stats\n",
    "#import matplotlib dependencies\n",
    "import matplotlib.pyplot as plt\n",
    "import matplotlib.dates as mdates\n",
    "import matplotlib.lines as mlines\n",
    "import matplotlib.ticker as mticker\n",
    "import matplotlib.ticker as mtick\n",
    "import matplotlib as mpl\n",
    "\n",
    "from scipy.stats import chi2\n",
    "import collections\n",
    "from matplotlib import colors\n",
    "import random\n",
    "import seaborn as sns\n",
    "from scipy import stats\n",
    "import statistics as st"
   ]
  },
  {
   "cell_type": "code",
   "execution_count": 2,
   "metadata": {},
   "outputs": [],
   "source": [
    "#the data in this script is Discrete Data\n",
    "#-Data can be counted but cannot be divided.\n",
    "#-Data can be categorized into bins \n",
    "#probability mass function-assigns a probability to each possible value\n",
    "#https://towardsdatascience.com/plotting-probabilities-for-discrete-and-continuous-random-variables-353c5bb62336"
   ]
  },
  {
   "cell_type": "markdown",
   "metadata": {},
   "source": [
    "# Winning Numbers"
   ]
  },
  {
   "cell_type": "code",
   "execution_count": 3,
   "metadata": {},
   "outputs": [],
   "source": [
    "#create a data set that contains all the winning numbers\n",
    "data=[\n",
    "[14,19,34,39,59],   \n",
    "[6,13,34,46,62],\n",
    "[18,34,44,60,69],\n",
    "[46,54,57,58,66],\n",
    "[27,32,50,52,57],\n",
    "[11,44,45,46,70],\n",
    "[5,11,25,27, 64],   \n",
    "[15,16,18,39,59],\n",
    "[9,38,47,49,68],\n",
    "[14,39,43,44,67],\n",
    "[20,36,37,48,67],\n",
    "[26,29,41,52,64],\n",
    "[25,28,38,59,62],\n",
    "[3,15,42,48,56],\n",
    "[7,10,15,31,57],\n",
    "[19,22,24,28,53],\n",
    "[15,25,26,38,47],\n",
    "[3,9,50,53,64],\n",
    "[8,10,15,17,57],\n",
    "[11,15,31,42,63],\n",
    "[4,18,26,27,58],\n",
    "[3,24,29,42,47],\n",
    "[8,22,29,43,56],\n",
    "[4,44,53,64,70],\n",
    "[2,22,30,42,62],\n",
    "[12,35,46,48,69],\n",
    "[17,20,27,31,34],\n",
    "[8,33,39,54,58],\n",
    "[14,25,26,41,43],\n",
    "[12,13,21,46,57],\n",
    "[6,26,55,56,64],\n",
    "[10,15,20,49,53],\n",
    "[16,20,25,30,43],\n",
    "[20,40,44,45,50],\n",
    "[9,16,29,37,53],\n",
    "[6,20,37,40,48],\n",
    "[11,34,36,52,66],\n",
    "[21,23,33,35,42],\n",
    "[9,14,57,67,70],\n",
    "[1,5,9,10,23],\n",
    "[32,35,37,47,55],\n",
    "[9,20,23,26,29],\n",
    "[10,13,32,41,51],\n",
    "[34,52,58,59,62],\n",
    "[8,10,20,44,46],\n",
    "[8,19,25,36,66],\n",
    "[11,17,32,33,46],\n",
    "[7,16,27,44,52],\n",
    "[5,20,22,61,70],\n",
    "[7,13,17,21,45],\n",
    "[28,30,31,35,66],\n",
    "[13,19,53,54,63],\n",
    "[1,27,32,60,67],\n",
    "     ]"
   ]
  },
  {
   "cell_type": "code",
   "execution_count": 4,
   "metadata": {},
   "outputs": [
    {
     "name": "stdout",
     "output_type": "stream",
     "text": [
      "Numbers have not been choosen\n",
      "[23, 40, 51, 55, 61, 65]\n",
      "Numbers that have been choosen only once\n",
      "[2, 5, 6, 7, 16, 21, 30, 32, 33, 35, 36, 37, 45, 49, 60, 63, 66, 68]\n",
      "Numbers that have been choosen only twice\n",
      "[4, 9, 10, 12, 13, 17, 19, 20, 24, 28, 41, 50, 52, 54, 56, 67, 69, 70]\n",
      "Lucky Numbers\n"
     ]
    },
    {
     "data": {
      "text/plain": [
       "[2,\n",
       " 4,\n",
       " 5,\n",
       " 6,\n",
       " 7,\n",
       " 9,\n",
       " 10,\n",
       " 12,\n",
       " 13,\n",
       " 16,\n",
       " 17,\n",
       " 19,\n",
       " 20,\n",
       " 21,\n",
       " 23,\n",
       " 24,\n",
       " 28,\n",
       " 30,\n",
       " 32,\n",
       " 33,\n",
       " 35,\n",
       " 36,\n",
       " 37,\n",
       " 40,\n",
       " 41,\n",
       " 45,\n",
       " 49,\n",
       " 50,\n",
       " 51,\n",
       " 52,\n",
       " 54,\n",
       " 55,\n",
       " 56,\n",
       " 60,\n",
       " 61,\n",
       " 63,\n",
       " 65,\n",
       " 66,\n",
       " 67,\n",
       " 68,\n",
       " 69,\n",
       " 70]"
      ]
     },
     "execution_count": 4,
     "metadata": {},
     "output_type": "execute_result"
    }
   ],
   "source": [
    "#need to concatonate all the lists of numbers \n",
    "#list=list+x is the same as list+=x\n",
    "#create an empty list and then loop through a sample of 30\n",
    "# sample of 30 is enough for the central limit theorem(large data set normalizes the numbers) \n",
    "#could use ''.join()\n",
    "lst=[]\n",
    "for x in data[0:30]:\n",
    "    lst+=x\n",
    "#count the number of times a # occurs in lst\n",
    "#then sort them\n",
    "d={}\n",
    "[ d.update( {i:d.get(i, 0)+1} ) for i in lst ]\n",
    "sorted_d = sorted(d.items())\n",
    "\n",
    "###find the numbers that have not been called in the data set\n",
    "#sort the list, and then look through a range from index 0 to 71\n",
    "#Then if not in list return those numbers\n",
    "lst.sort()\n",
    "def find_missing(lst): \n",
    "    return [x for x in range(lst[0], lst[-1]+1)  if x not in lst]\n",
    "\n",
    "print(\"Numbers have not been choosen\")\n",
    "print(find_missing(lst))\n",
    "\n",
    "###Finding numbers that are repeated exactly twice \n",
    "##there is an initial assumption that numbers repeated only twice are more likely to be called again than any other repetition\n",
    "once=[\n",
    "    item\n",
    "    for item,  count in collections.Counter(lst).items()\n",
    "    if count == 1]\n",
    "repeats = [\n",
    "    item \n",
    "    for item, count in collections.Counter(lst).items() \n",
    "    if count == 2]\n",
    "\n",
    "print(\"Numbers that have been choosen only once\")\n",
    "print(once)\n",
    "print(\"Numbers that have been choosen only twice\")\n",
    "print(repeats)\n",
    "\n",
    "lucky_Numbers=once+repeats+find_missing(lst)\n",
    "lucky_Numbers.sort()\n",
    "print('Lucky Numbers')\n",
    "# Lucky Numbers are the numbers that have never been chose, chosen once, or chosen twice.\n",
    "lucky_Numbers"
   ]
  },
  {
   "cell_type": "markdown",
   "metadata": {},
   "source": [
    "## Statisitics"
   ]
  },
  {
   "cell_type": "code",
   "execution_count": 5,
   "metadata": {},
   "outputs": [
    {
     "name": "stdout",
     "output_type": "stream",
     "text": [
      "Standard Deviation\n",
      "18.9394074763588\n",
      "Variance\n",
      "358.70115555555554\n"
     ]
    }
   ],
   "source": [
    "stdev = st.pstdev(lst)\n",
    "print('Standard Deviation')\n",
    "print(stdev)\n",
    "variance = st.pvariance(lst)\n",
    "print('Variance')\n",
    "print(variance)"
   ]
  },
  {
   "cell_type": "markdown",
   "metadata": {},
   "source": [
    "## Comparing Lists With and Without Numbers From 60 to 70"
   ]
  },
  {
   "cell_type": "code",
   "execution_count": 6,
   "metadata": {},
   "outputs": [
    {
     "name": "stdout",
     "output_type": "stream",
     "text": [
      "Mean\n",
      "15.525423728813559\n",
      "Median\n",
      "15\n",
      "Variance\n",
      "55.11572180011689\n",
      "Standard Deviation\n",
      "7.423996349683699\n"
     ]
    }
   ],
   "source": [
    "# Numbers from 60 to 70 are uncommon \n",
    "# The following section analyzes the difference between lists with the numbers from 60 to 70 and lists without the numbers 60 to 70\n",
    "lst_sixty=lst[0:59]\n",
    "print('Mean')\n",
    "print(st.mean(lst_sixty))\n",
    "print('Median')\n",
    "print(st.median(lst_sixty))\n",
    "print('Variance')\n",
    "print(st.variance(lst_sixty))\n",
    "print('Standard Deviation')\n",
    "print(st.stdev(lst_sixty))"
   ]
  },
  {
   "cell_type": "code",
   "execution_count": 7,
   "metadata": {},
   "outputs": [
    {
     "name": "stdout",
     "output_type": "stream",
     "text": [
      "Mean\n",
      "35.21333333333333\n",
      "Median\n",
      "34.5\n",
      "Variance\n",
      "361.10854586129756\n",
      "Standard Deviation\n",
      "19.002856255344813\n"
     ]
    }
   ],
   "source": [
    "lst\n",
    "print('Mean')\n",
    "print(st.mean(lst))\n",
    "print('Median')\n",
    "print(st.median(lst))\n",
    "print('Variance')\n",
    "print(st.variance(lst))\n",
    "print('Standard Deviation')\n",
    "print(st.stdev(lst))"
   ]
  },
  {
   "cell_type": "code",
   "execution_count": 8,
   "metadata": {},
   "outputs": [
    {
     "data": {
      "text/plain": [
       "Ttest_indResult(statistic=10.77023785252341, pvalue=9.181732904537031e-22)"
      ]
     },
     "execution_count": 8,
     "metadata": {},
     "output_type": "execute_result"
    }
   ],
   "source": [
    "#null hyp: removing the numbers 60 to 70 will not effect the study (if p-value is below 0.05 then we can reject the null hypothesis)\n",
    "#alt hyp: removing the numbers 60 to 70 will have a positive effect on the study\n",
    "stats.ttest_ind(lst, lst_sixty, equal_var = False)"
   ]
  },
  {
   "cell_type": "markdown",
   "metadata": {},
   "source": [
    "## Visualizing Winning Numbers"
   ]
  },
  {
   "cell_type": "code",
   "execution_count": 9,
   "metadata": {},
   "outputs": [],
   "source": [
    "#example of how to calculate probablility\n",
    "probabilitiz=[]\n",
    "for x in lst:\n",
    "    probabilitiz.append(x/len(lst))"
   ]
  },
  {
   "cell_type": "code",
   "execution_count": 10,
   "metadata": {
    "scrolled": false
   },
   "outputs": [
    {
     "data": {
      "image/png": "[encoded data removed]",
      "text/plain": [
       "<Figure size 1440x720 with 1 Axes>"
      ]
     },
     "metadata": {
      "needs_background": "light"
     },
     "output_type": "display_data"
    }
   ],
   "source": [
    "#unpack the list ofr x and y values using zip(data)\n",
    "x, y = zip(*sorted_d)\n",
    "#plot the # vs the number of occurces\n",
    "# x=list(range(1, 71))\n",
    "fig = plt.figure(figsize = (20, 10))\n",
    "plt.scatter(*zip(*sorted_d))\n",
    "plt.xticks(np.arange(min(x), max(x)+1, 1.0))\n",
    "# plt.xticks(rotation=70)\n",
    "\n",
    "plt.xlabel(\"Mega Millions Number\") \n",
    "plt.ylabel(\"No. of Occurences\") \n",
    "plt.title(\"Scatter Plot of Occurences of Mega Millions Winning Numbers\") \n",
    "plt.grid()\n",
    " # Call save fig beforee plt.show \n",
    "plt.savefig(\"Images/MegaMillions_Scatter.png\", bbox_inches='tight')\n",
    "plt.show()"
   ]
  },
  {
   "cell_type": "markdown",
   "metadata": {},
   "source": [
    "## Frequency"
   ]
  },
  {
   "cell_type": "code",
   "execution_count": 11,
   "metadata": {},
   "outputs": [
    {
     "data": {
      "image/png": "[encoded data removed]",
      "text/plain": [
       "<Figure size 1080x360 with 1 Axes>"
      ]
     },
     "metadata": {
      "needs_background": "light"
     },
     "output_type": "display_data"
    }
   ],
   "source": [
    "# Frequency\n",
    "fig = plt.figure(figsize = (15, 5))\n",
    "plt.hist(lst, bins=[0,10,20,30,40,50,60,70])  \n",
    "plt.xlabel(\"Bin of Winning Numbers\") \n",
    "plt.ylabel(\"Frequency of Winning Numbers\") \n",
    "plt.title(\"Occurences of Mega Millions Winning Numbers\")\n",
    "plt.grid()\n",
    "plt.savefig(\"Images/MegaMillions_BinFrequency.png\", bbox_inches='tight')"
   ]
  },
  {
   "cell_type": "markdown",
   "metadata": {},
   "source": [
    "## Probability"
   ]
  },
  {
   "cell_type": "code",
   "execution_count": 12,
   "metadata": {},
   "outputs": [
    {
     "data": {
      "image/png": "[encoded data removed]",
      "text/plain": [
       "<Figure size 1080x360 with 1 Axes>"
      ]
     },
     "metadata": {
      "needs_background": "light"
     },
     "output_type": "display_data"
    }
   ],
   "source": [
    "#Probablility\n",
    "#The probability of the sum of bars adds up to .1 or 100%\n",
    "fig = plt.figure(figsize = (15, 5))\n",
    "plt.hist(lst, bins=[0,10,20,30,40,50,60,70], density=True )    #density=True to convert to probablilities\n",
    "plt.gca().yaxis.set_major_formatter(mtick.PercentFormatter(.1))\n",
    "plt.xlabel(\"Mega Millions Number\") \n",
    "plt.ylabel(\"Probability of Winning Numbers\") \n",
    "plt.title(\"Probability of Mega Millions Winning Numbers\")\n",
    "plt.grid()\n",
    "plt.savefig(\"Images/MegaMillionsBinProbability.png\", bbox_inches='tight')"
   ]
  },
  {
   "cell_type": "code",
   "execution_count": 13,
   "metadata": {},
   "outputs": [
    {
     "data": {
      "image/png": "[encoded data removed]",
      "text/plain": [
       "<Figure size 1440x720 with 1 Axes>"
      ]
     },
     "metadata": {
      "needs_background": "light"
     },
     "output_type": "display_data"
    }
   ],
   "source": [
    "def frequencies(values):\n",
    "    frequencies = {}\n",
    "    for v in values:\n",
    "        if v in frequencies:\n",
    "            frequencies[v] += 1\n",
    "        else:\n",
    "            frequencies[v] = 1\n",
    "    return frequencies\n",
    "def probabilities(sample, freqs):\n",
    "    probs = []\n",
    "    for k,v in freqs.items():\n",
    "        probs.append(round(v/len(sample),3))\n",
    "    return probs\n",
    "sample = lst                                    #lst is the list of numbers that are sorted\n",
    "freqs = frequencies(sample)                     # frequency is how often the number occurs\n",
    "probs = probabilities(sample, freqs)            #probabilility appends (#/length of the sample) to three decimal\n",
    "x_axis = list(set(sample))                      # x_axis just counts the numbers from 1 to 70\n",
    "fig = plt.figure(figsize = (20, 10))\n",
    "plt.bar(x_axis, probs)\n",
    "plt.gca().yaxis.set_major_formatter(mtick.PercentFormatter(.1))\n",
    "plt.xlabel(\"Mega Millions Number\") \n",
    "plt.ylabel(\"No. of Occurences\") \n",
    "plt.title(\"Bar Char of Mega Millions Winning Numbers\") \n",
    "plt.grid()\n",
    "plt.savefig(\"Images/MegaMillionsProbabilityBar.png\", bbox_inches='tight')\n",
    "plt.show()"
   ]
  },
  {
   "cell_type": "markdown",
   "metadata": {},
   "source": [
    "### Bins and Quartiles"
   ]
  },
  {
   "cell_type": "code",
   "execution_count": 14,
   "metadata": {},
   "outputs": [
    {
     "data": {
      "text/plain": [
       "(1.999, 18.25]    38\n",
       "(18.25, 34.5]     37\n",
       "(34.5, 50.0]      38\n",
       "(50.0, 70.0]      37\n",
       "dtype: int64"
      ]
     },
     "execution_count": 14,
     "metadata": {},
     "output_type": "execute_result"
    }
   ],
   "source": [
    "#Equal amount of observations in each of the 4 quartiles\n",
    "# lst = pd.qcut(df['ext price'], q=4) #save it back in the original df\n",
    "Qcuts=pd.qcut(lst, q=4)\n",
    "Qcuts.value_counts()"
   ]
  },
  {
   "cell_type": "code",
   "execution_count": 15,
   "metadata": {},
   "outputs": [
    {
     "data": {
      "text/plain": [
       "(1.932, 19.0]    40\n",
       "(19.0, 36.0]     37\n",
       "(36.0, 53.0]     41\n",
       "(53.0, 70.0]     32\n",
       "dtype: int64"
      ]
     },
     "execution_count": 15,
     "metadata": {},
     "output_type": "execute_result"
    }
   ],
   "source": [
    "#Define number of bins\n",
    "pd.cut(lst, bins=4).value_counts()"
   ]
  },
  {
   "cell_type": "code",
   "execution_count": 16,
   "metadata": {
    "scrolled": true
   },
   "outputs": [],
   "source": [
    "##linespace to provide an array of evenly spaced bins over a specified range\n",
    "# pd.cut(lst, bins=np.linspace(0, 70, 8))\n",
    "##Defining bin bounaries\n",
    "cut_bins = [0, 10, 20, 30, 40,50,60,70]\n",
    "Cut_lst = pd.cut(lst, bins=cut_bins)"
   ]
  },
  {
   "cell_type": "code",
   "execution_count": 17,
   "metadata": {},
   "outputs": [
    {
     "data": {
      "text/plain": [
       "[(0, 10], (0, 10], (0, 10], (0, 10], (0, 10], ..., (60, 70], (60, 70], (60, 70], (60, 70], (60, 70]]\n",
       "Length: 150\n",
       "Categories (7, interval[int64]): [(0, 10] < (10, 20] < (20, 30] < (30, 40] < (40, 50] < (50, 60] < (60, 70]]"
      ]
     },
     "execution_count": 17,
     "metadata": {},
     "output_type": "execute_result"
    }
   ],
   "source": [
    "#Use interval range for ranges\n",
    "interval_range = pd.interval_range(start=0, freq=10, end=70)\n",
    "lst_interval = pd.cut(lst, bins=interval_range, labels=[1,2,3])\n",
    "lst_interval"
   ]
  },
  {
   "cell_type": "markdown",
   "metadata": {},
   "source": [
    "## Pick Random Numbers"
   ]
  },
  {
   "cell_type": "code",
   "execution_count": 18,
   "metadata": {},
   "outputs": [
    {
     "name": "stdout",
     "output_type": "stream",
     "text": [
      "Today's lottery numbers are: \n",
      "[12, 18, 44, 51, 57]\n"
     ]
    }
   ],
   "source": [
    "# Create a list of random numbers that could be choosen.\n",
    "lotteryNumbers = []\n",
    "\n",
    "# Generage Random Numbers\n",
    "for i in range (0,5):\n",
    "  #generate a set of random numbers\n",
    "    number = random.randint(10,60)\n",
    "  #Check if this number has already been picked\n",
    "    while number in lotteryNumbers:\n",
    "  # if it has, pick a new number instead \n",
    "        number = random.randint(10,60)\n",
    " #Now that we have a unique number, let's append it to our list.\n",
    "    lotteryNumbers.append(number)\n",
    "\n",
    "#Sort the list in ascending order\n",
    "lotteryNumbers.sort()\n",
    "\n",
    "#Display the list on screen:\n",
    "print(\"Today's lottery numbers are: \") \n",
    "print(lotteryNumbers)"
   ]
  },
  {
   "cell_type": "markdown",
   "metadata": {},
   "source": [
    "## Pick Numbers From A List"
   ]
  },
  {
   "cell_type": "code",
   "execution_count": 19,
   "metadata": {},
   "outputs": [
    {
     "name": "stdout",
     "output_type": "stream",
     "text": [
      "Today's lottery numbers are: \n",
      "[7, 23, 45, 52, 55]\n"
     ]
    }
   ],
   "source": [
    "# Create a list of random numbers that could be choosen.\n",
    "lotteryNumbers = []\n",
    "\n",
    "# Generage Random Numbers From Lucky Numbers List\n",
    "for i in range (0,5):\n",
    "  #generate a set of random numbers\n",
    "    number = random.choice(lucky_Numbers)\n",
    "  #Check if this number has already been picked\n",
    "    while number in lotteryNumbers:\n",
    "  # if it has, pick a new number instead \n",
    "        number = random.choice(lucky_Numbers)\n",
    " #Now that we have a unique number, let's append it to our list.\n",
    "    lotteryNumbers.append(number)    \n",
    "\n",
    "#Sort the list in ascending order\n",
    "lotteryNumbers.sort()\n",
    "\n",
    "#Display the list on screen:\n",
    "print(\"Today's lottery numbers are: \") \n",
    "print(lotteryNumbers)"
   ]
  },
  {
   "cell_type": "markdown",
   "metadata": {},
   "source": [
    "# Gold Number"
   ]
  },
  {
   "cell_type": "code",
   "execution_count": 20,
   "metadata": {},
   "outputs": [
    {
     "name": "stdout",
     "output_type": "stream",
     "text": [
      "[2, 4, 5, 6, 7, 8, 18, 24]\n",
      "[1, 11, 17, 19, 23]\n"
     ]
    }
   ],
   "source": [
    "gold=[11, 1, 22, 10, 12, 25,13,17,25,19,16,12,11,22,13,21,25,22,1,12,14,23,13,9,3,20,23,19,17,15,21,22,22,18,24,11,15,7,6,2,22,22,8,3,4,18,9,25,5,4,14,14,17,18]\n",
    "#gold_list is 30 samples of winning numbers\n",
    "gold_list=gold[0:30]\n",
    "#create a dictionary and count occurances in gold_list\n",
    "g={}\n",
    "[ g.update( {i:g.get(i, 0)+1} ) for i in gold_list ]\n",
    "#sort the list\n",
    "sorted_g=sorted(g.items())\n",
    "\n",
    "gold_list.sort()\n",
    "def find_missing(gold_list): \n",
    "    return [x for x in range(gold_list[0], gold_list[-1]+1)  if x not in gold_list]\n",
    "print(find_missing(gold_list))\n",
    "\n",
    "###Finding numbers that are repeated exactly twice \n",
    "##there is an initial assumption that numbers repeated only twice are more likely to be called again than any other repetition\n",
    "repeats = [\n",
    "    item \n",
    "    for item, count in collections.Counter(gold_list).items() \n",
    "    if count == 2\n",
    "]\n",
    "print(repeats)"
   ]
  },
  {
   "cell_type": "markdown",
   "metadata": {},
   "source": [
    "## Statistics"
   ]
  },
  {
   "cell_type": "code",
   "execution_count": 21,
   "metadata": {},
   "outputs": [
    {
     "name": "stdout",
     "output_type": "stream",
     "text": [
      "Standard Deviation\n",
      "6.6769920040555855\n",
      "Variance\n",
      "44.58222222222222\n"
     ]
    }
   ],
   "source": [
    "print('Standard Deviation')\n",
    "stdevg = st.pstdev(gold_list)\n",
    "print(stdevg)\n",
    "print('Variance')\n",
    "varianceg = st.pvariance(gold_list)\n",
    "print(varianceg)"
   ]
  },
  {
   "cell_type": "markdown",
   "metadata": {},
   "source": [
    "## Bins and Quartiles"
   ]
  },
  {
   "cell_type": "code",
   "execution_count": 22,
   "metadata": {},
   "outputs": [
    {
     "data": {
      "text/plain": [
       "(0.999, 12.0]    10\n",
       "(12.0, 15.5]      5\n",
       "(15.5, 21.75]     7\n",
       "(21.75, 25.0]     8\n",
       "dtype: int64"
      ]
     },
     "execution_count": 22,
     "metadata": {},
     "output_type": "execute_result"
    }
   ],
   "source": [
    "#Quartiles\n",
    "Qcutsg=pd.qcut(gold_list, q=4)\n",
    "Qcutsg.value_counts()"
   ]
  },
  {
   "cell_type": "code",
   "execution_count": 23,
   "metadata": {},
   "outputs": [
    {
     "data": {
      "text/plain": [
       "(0.976, 7.0]     3\n",
       "(7.0, 13.0]     10\n",
       "(13.0, 19.0]     7\n",
       "(19.0, 25.0]    10\n",
       "dtype: int64"
      ]
     },
     "execution_count": 23,
     "metadata": {},
     "output_type": "execute_result"
    }
   ],
   "source": [
    "#Define Number of Bins\n",
    "pd.cut(gold_list, bins=4).value_counts()"
   ]
  },
  {
   "cell_type": "code",
   "execution_count": 24,
   "metadata": {},
   "outputs": [
    {
     "data": {
      "text/plain": [
       "[(0, 10], (0, 10], (0, 10], (0, 10], (0, 10], ..., (20, 30], (20, 30], (20, 30], (20, 30], (20, 30]]\n",
       "Length: 30\n",
       "Categories (7, interval[int64]): [(0, 10] < (10, 20] < (20, 30] < (30, 40] < (40, 50] < (50, 60] < (60, 70]]"
      ]
     },
     "execution_count": 24,
     "metadata": {},
     "output_type": "execute_result"
    }
   ],
   "source": [
    "cut_binsg = [0, 5,10,15,20,25]\n",
    "Cut_lstg = pd.cut(gold_list, bins=cut_bins)\n",
    "Cut_lstg"
   ]
  },
  {
   "cell_type": "code",
   "execution_count": 25,
   "metadata": {},
   "outputs": [
    {
     "data": {
      "text/plain": [
       "[(0.0, 5.0], (0.0, 5.0], (0.0, 5.0], (5.0, 10.0], (5.0, 10.0], ..., (20.0, 25.0], (20.0, 25.0], (20.0, 25.0], (20.0, 25.0], (20.0, 25.0]]\n",
       "Length: 30\n",
       "Categories (5, interval[float64]): [(0.0, 5.0] < (5.0, 10.0] < (10.0, 15.0] < (15.0, 20.0] < (20.0, 25.0]]"
      ]
     },
     "execution_count": 25,
     "metadata": {},
     "output_type": "execute_result"
    }
   ],
   "source": [
    "#linespace to provide an array of evenly spaced bins over a specified range\n",
    "binz=pd.cut(gold_list, bins=np.linspace(0, 25, 6))\n",
    "binz"
   ]
  },
  {
   "cell_type": "code",
   "execution_count": 26,
   "metadata": {},
   "outputs": [
    {
     "data": {
      "text/plain": [
       "[(0, 5], (0, 5], (0, 5], (5, 10], (5, 10], ..., (20, 25], (20, 25], (20, 25], (20, 25], (20, 25]]\n",
       "Length: 30\n",
       "Categories (5, interval[int64]): [(0, 5] < (5, 10] < (10, 15] < (15, 20] < (20, 25]]"
      ]
     },
     "execution_count": 26,
     "metadata": {},
     "output_type": "execute_result"
    }
   ],
   "source": [
    "#use interval range for numbers and date ranges but cannot label bins\n",
    "interval_range = pd.interval_range(start=0, freq=5, end=25)\n",
    "lst_interval = pd.cut(gold_list, bins=interval_range, labels=[1,2,3])\n",
    "lst_interval"
   ]
  },
  {
   "cell_type": "markdown",
   "metadata": {},
   "source": [
    "## Visualizing Gold Winning Numbers"
   ]
  },
  {
   "cell_type": "code",
   "execution_count": 27,
   "metadata": {},
   "outputs": [
    {
     "data": {
      "image/png": "[encoded data removed]",
      "text/plain": [
       "<Figure size 1080x360 with 1 Axes>"
      ]
     },
     "metadata": {
      "needs_background": "light"
     },
     "output_type": "display_data"
    },
    {
     "data": {
      "text/plain": [
       "<Figure size 432x288 with 0 Axes>"
      ]
     },
     "metadata": {},
     "output_type": "display_data"
    }
   ],
   "source": [
    "#unpack the list ofr x and y values using zip(data)\n",
    "x, y = zip(*sorted_g)\n",
    "#plot the # vs the number of occurces\n",
    "fig = plt.figure(figsize = (15, 5))\n",
    "plt.scatter(*zip(*sorted_g))\n",
    "plt.xticks(np.arange(min(x), max(x)+1, 1.0))\n",
    "# plt.yticks(0,5)\n",
    "# plt.xticks(rotation=70)\n",
    "\n",
    "plt.xlabel(\"Mega Millions Number\") \n",
    "plt.ylabel(\"Gold Number\") \n",
    "plt.title(\"Mega Millions Winning Numbers\") \n",
    "plt.grid()\n",
    "plt.show() \n",
    "plt.savefig(\"MegaMillionsGold.png\", bbox_inches='tight')\n",
    "plt.savefig(\"Images/GoldScatter.png\", bbox_inches='tight')\n",
    "plt.show()"
   ]
  },
  {
   "cell_type": "markdown",
   "metadata": {},
   "source": [
    "## Frequency"
   ]
  },
  {
   "cell_type": "code",
   "execution_count": 28,
   "metadata": {
    "scrolled": true
   },
   "outputs": [
    {
     "data": {
      "image/png": "[encoded data removed]",
      "text/plain": [
       "<Figure size 1080x360 with 1 Axes>"
      ]
     },
     "metadata": {
      "needs_background": "light"
     },
     "output_type": "display_data"
    }
   ],
   "source": [
    "#frequency\n",
    "fig = plt.figure(figsize = (15, 5))\n",
    "plt.hist(gold_list, bins=[0, 5, 10, 15, 20, 25])\n",
    "plt.xlabel(\"Bin of Winning Numbers\") \n",
    "plt.ylabel(\"Frequency of Winning Numbers\") \n",
    "plt.title(\"Occurences of Mega Millions Winning Numbers\")\n",
    "plt.grid()\n",
    "plt.savefig(\"Images/GoldBinFrequency.png\", bbox_inches='tight')\n",
    "plt.show()"
   ]
  },
  {
   "cell_type": "markdown",
   "metadata": {},
   "source": [
    "## Probability"
   ]
  },
  {
   "cell_type": "code",
   "execution_count": 29,
   "metadata": {
    "scrolled": true
   },
   "outputs": [
    {
     "data": {
      "image/png": "[encoded data removed]",
      "text/plain": [
       "<Figure size 1080x360 with 1 Axes>"
      ]
     },
     "metadata": {
      "needs_background": "light"
     },
     "output_type": "display_data"
    }
   ],
   "source": [
    "#Probability\n",
    "#The probability adds up to 100% because we have to multiply the probability of each of the bins by 5\n",
    "fig = plt.figure(figsize = (15, 5))\n",
    "plt.hist(gold_list, bins=[0, 5, 10, 15, 20, 25], density=True)          #density=True to get probability\n",
    "plt.gca().yaxis.set_major_formatter(mtick.PercentFormatter(.1))\n",
    "plt.xlabel(\"Mega Millions Number\") \n",
    "plt.ylabel(\"Probability of Winning Numbers\") \n",
    "plt.title(\"Probability of Mega Millions Winning Numbers\")\n",
    "plt.grid()\n",
    "plt.savefig(\"Images/GoldBinProbability.png\", bbox_inches='tight')\n",
    "plt.show()"
   ]
  },
  {
   "cell_type": "code",
   "execution_count": 30,
   "metadata": {},
   "outputs": [
    {
     "data": {
      "image/png": "[encoded data removed]",
      "text/plain": [
       "<Figure size 1080x360 with 1 Axes>"
      ]
     },
     "metadata": {
      "needs_background": "light"
     },
     "output_type": "display_data"
    }
   ],
   "source": [
    "def frequenciesg(values):\n",
    "    frequenciesg = {}\n",
    "    for v in values:\n",
    "        if v in frequenciesg:\n",
    "            frequenciesg[v] += 1\n",
    "        else:\n",
    "            frequenciesg[v] = 1\n",
    "    return frequenciesg\n",
    "def probabilitiesg(samp, freqs):\n",
    "    probs = []\n",
    "    for k,v in freqs.items():\n",
    "        probs.append(round(v/len(samp),3))\n",
    "    return probs\n",
    "samp = gold_list                              #lst is the list of numbers that are sorted\n",
    "freqs = frequenciesg(samp)                     # frequency is how often the number occurs\n",
    "probs = probabilitiesg(samp, freqs)            #probabilility appends (#/length of the sample) to three decimal\n",
    "x_axis = list(set(samp))                      # x_axis just counts the numbers from 1 to 25\n",
    "fig = plt.figure(figsize = (15, 5))\n",
    "plt.gca().yaxis.set_major_formatter(mtick.PercentFormatter(.1))\n",
    "plt.bar(x_axis, probs)\n",
    "plt.xticks(np.arange(0, 26, 1.0))\n",
    "plt.grid()\n",
    "plt.savefig(\"Images/GoldBar.png\", bbox_inches='tight')\n",
    "plt.show()"
   ]
  },
  {
   "cell_type": "code",
   "execution_count": 31,
   "metadata": {},
   "outputs": [
    {
     "name": "stdout",
     "output_type": "stream",
     "text": [
      "Numbers have not been choosen\n",
      "[2, 4, 5, 6, 7, 8, 18, 24]\n",
      "Numbers that have been choosen twice\n",
      "[1, 11, 12, 13, 17, 19, 22, 23, 25]\n"
     ]
    }
   ],
   "source": [
    "def find_missing(gold_list): \n",
    "    return [x for x in range(gold_list[0], gold_list[-1]+1)  if x not in gold_list]\n",
    "print(\"Numbers have not been choosen\")\n",
    "print(find_missing(gold_list))\n",
    "\n",
    "repeats = [\n",
    "    item \n",
    "    for item, count in collections.Counter(gold_list).items() \n",
    "    if count >= 2]\n",
    "print(\"Numbers that have been choosen twice\")\n",
    "print(repeats)\n"
   ]
  },
  {
   "cell_type": "markdown",
   "metadata": {},
   "source": [
    "## Pick Random Numbers"
   ]
  },
  {
   "cell_type": "code",
   "execution_count": 32,
   "metadata": {},
   "outputs": [
    {
     "name": "stdout",
     "output_type": "stream",
     "text": [
      "Today's lottery numbers are:\n",
      "[25]\n"
     ]
    }
   ],
   "source": [
    "\n",
    "\n",
    "# Create a list of random numbers that could be choosen.\n",
    "GoldNumbers = []\n",
    "\n",
    "for i in range (1):\n",
    "    number = random.randint(10,25)\n",
    "  #Check if this number has already been picked and ...\n",
    "    while number in GoldNumbers:\n",
    "    # ... if it has, pick a new number instead \n",
    "        number = random.randint(10,25)\n",
    "  \n",
    "  #Now that we have a unique number, let's append it to our list.\n",
    "    GoldNumbers.append(number)\n",
    "\n",
    "#Sort the list in ascending order\n",
    "GoldNumbers.sort()\n",
    "\n",
    "#Display the list on screen:\n",
    "print(\"Today's lottery numbers are:\") \n",
    "print(GoldNumbers)"
   ]
  },
  {
   "cell_type": "markdown",
   "metadata": {},
   "source": [
    "## Pick Numbers From A List"
   ]
  },
  {
   "cell_type": "code",
   "execution_count": 33,
   "metadata": {},
   "outputs": [
    {
     "name": "stdout",
     "output_type": "stream",
     "text": [
      "Numbers that have been choosen only once\n",
      "[2, 5, 6, 7, 16, 21, 30, 32, 33, 35, 36, 37, 45, 49, 60, 63, 66, 68]\n",
      "Numbers that have been choosen only twice\n",
      "[1, 11, 12, 13, 17, 19, 22, 23, 25]\n",
      "Lucky Numbers\n"
     ]
    },
    {
     "data": {
      "text/plain": [
       "[1,\n",
       " 2,\n",
       " 5,\n",
       " 6,\n",
       " 7,\n",
       " 11,\n",
       " 12,\n",
       " 13,\n",
       " 16,\n",
       " 17,\n",
       " 19,\n",
       " 21,\n",
       " 22,\n",
       " 23,\n",
       " 25,\n",
       " 30,\n",
       " 32,\n",
       " 33,\n",
       " 35,\n",
       " 36,\n",
       " 37,\n",
       " 45,\n",
       " 49,\n",
       " 60,\n",
       " 63,\n",
       " 66,\n",
       " 68]"
      ]
     },
     "execution_count": 33,
     "metadata": {},
     "output_type": "execute_result"
    }
   ],
   "source": [
    "once=[\n",
    "    item\n",
    "    for item,  count in collections.Counter(lst).items()\n",
    "    if count == 1]\n",
    "\n",
    "\n",
    "print(\"Numbers that have been choosen only once\")\n",
    "print(once)\n",
    "print(\"Numbers that have been choosen only twice\")\n",
    "print(repeats)\n",
    "\n",
    "lucky_Numbers=once+repeats\n",
    "lucky_Numbers.sort()\n",
    "print('Lucky Numbers')\n",
    "lucky_Numbers"
   ]
  }
 ],
 "metadata": {
  "kernelspec": {
   "display_name": "PythonData",
   "language": "python",
   "name": "pythondata"
  },
  "language_info": {
   "codemirror_mode": {
    "name": "ipython",
    "version": 3
   },
   "file_extension": ".py",
   "mimetype": "text/x-python",
   "name": "python",
   "nbconvert_exporter": "python",
   "pygments_lexer": "ipython3",
   "version": "3.7.7"
  }
 },
 "nbformat": 4,
 "nbformat_minor": 4
}
