{
 "cells": [
  {
   "cell_type": "code",
   "execution_count": 1,
   "metadata": {},
   "outputs": [],
   "source": [
    "import numpy as np\n",
    "import pandas as pd\n",
    "#import time dependencies\n",
    "from datetime import datetime\n",
    "import time\n",
    "from datetime import date, timedelta\n",
    "import datetime\n",
    "#import statistics dependencies\n",
    "from scipy.stats import linregress\n",
    "from scipy import stats\n",
    "#import matplotlib dependencies\n",
    "import matplotlib.pyplot as plt\n",
    "import matplotlib.dates as mdates\n",
    "import matplotlib.lines as mlines\n",
    "import matplotlib.ticker as mticker\n",
    "import matplotlib.ticker as mtick\n",
    "import matplotlib as mpl\n",
    "\n",
    "from scipy.stats import chi2\n",
    "import collections\n",
    "from matplotlib import colors\n",
    "import random\n",
    "import seaborn as sns\n",
    "from scipy import stats\n",
    "import statistics as st\n",
    "\n",
    "from bs4 import BeautifulSoup\n",
    "from urllib.request import Request, urlopen\n",
    "from collections import Counter\n",
    "import requests\n",
    "import re\n",
    "import csv"
   ]
  },
  {
   "cell_type": "code",
   "execution_count": 2,
   "metadata": {},
   "outputs": [],
   "source": [
    "#the data in this script is Discrete Data \n",
    "#probability mass function-assigns a probability to each possible value\n",
    "#https://towardsdatascience.com/plotting-probabilities-for-discrete-and-continuous-random-variables-353c5bb62336"
   ]
  },
  {
   "cell_type": "markdown",
   "metadata": {},
   "source": [
    "# Web Scrapping Lottery Numbers"
   ]
  },
  {
   "cell_type": "code",
   "execution_count": 3,
   "metadata": {},
   "outputs": [],
   "source": [
    "# https://www.usamega.com/mega-millions-history.asp?p=1"
   ]
  },
  {
   "cell_type": "code",
   "execution_count": 6,
   "metadata": {},
   "outputs": [
    {
     "name": "stdout",
     "output_type": "stream",
     "text": [
      "Note: you may need to restart the kernel to use updated packages.\n"
     ]
    },
    {
     "name": "stderr",
     "output_type": "stream",
     "text": [
      "ERROR: Could not find a version that satisfies the requirement urllib2 (from versions: none)\n",
      "ERROR: No matching distribution found for urllib2\n"
     ]
    }
   ],
   "source": [
    "pip install urllib2"
   ]
  },
  {
   "cell_type": "code",
   "execution_count": 10,
   "metadata": {},
   "outputs": [
    {
     "name": "stdout",
     "output_type": "stream",
     "text": [
      "[<td width=\"20\"> </td>, <td align=\"center\" style=\"padding:2px\"><font color=\"white\"><big><strong>Date</strong></big><br/><small>(Click for Detail)</small></font></td>, <td width=\"20\"> </td>, <td align=\"center\" style=\"padding:2px\"><font color=\"white\"><big><strong>Winning Numbers</strong></big><br/><small>(5 Numbers + Mega Ball)</small></font></td>, <td width=\"20\"> </td>, <td align=\"center\" style=\"padding:2px\"><font color=\"white\"><big><strong>Megaplier</strong></big></font></td>, <td width=\"20\"> </td>, <td align=\"center\" style=\"padding:2px\"><font color=\"white\"><big><strong>Jackpot</strong></big></font></td>, <td width=\"20\"> </td>]\n",
      "[<td></td>, <td align=\"right\" nowrap=\"\"><a href=\"mega-millions-drawing.asp?d=12/4/2020\">Friday, December 4, 2020</a></td>, <td></td>, <td align=\"center\" nowrap=\"\"><b>03 · 19 · 24 · 44 · 50</b>    <font color=\"#000064\">+ <strong>08</strong></font></td>, <td></td>, <td align=\"center\" nowrap=\"\"><b>3</b></td>, <td></td>, <td align=\"right\" nowrap=\"\"><a href=\"/mega-millions-jackpot.asp?d=12/4/2020\">$244 Million</a></td>, <td></td>]\n"
     ]
    },
    {
     "ename": "ValueError",
     "evalue": "invalid literal for int() with base 10: '03 · 19 · 24 · 44 · 50'",
     "output_type": "error",
     "traceback": [
      "\u001b[1;31m---------------------------------------------------------------------------\u001b[0m",
      "\u001b[1;31mValueError\u001b[0m                                Traceback (most recent call last)",
      "\u001b[1;32m<ipython-input-10-e71d7b53c9e9>\u001b[0m in \u001b[0;36m<module>\u001b[1;34m\u001b[0m\n\u001b[0;32m     32\u001b[0m \u001b[1;33m\u001b[0m\u001b[0m\n\u001b[0;32m     33\u001b[0m                 \u001b[1;32mfor\u001b[0m \u001b[0mnum\u001b[0m \u001b[1;32min\u001b[0m \u001b[0mnumber_list\u001b[0m\u001b[1;33m:\u001b[0m\u001b[1;33m\u001b[0m\u001b[1;33m\u001b[0m\u001b[0m\n\u001b[1;32m---> 34\u001b[1;33m                     \u001b[0mnum_list\u001b[0m\u001b[1;33m.\u001b[0m\u001b[0mappend\u001b[0m\u001b[1;33m(\u001b[0m\u001b[0mint\u001b[0m\u001b[1;33m(\u001b[0m\u001b[0mnum\u001b[0m\u001b[1;33m)\u001b[0m\u001b[1;33m)\u001b[0m\u001b[1;33m\u001b[0m\u001b[1;33m\u001b[0m\u001b[0m\n\u001b[0m\u001b[0;32m     35\u001b[0m \u001b[1;33m\u001b[0m\u001b[0m\n\u001b[0;32m     36\u001b[0m                 \u001b[0mwin_dict\u001b[0m\u001b[1;33m[\u001b[0m\u001b[1;34m'numbers'\u001b[0m\u001b[1;33m]\u001b[0m \u001b[1;33m=\u001b[0m \u001b[0mnum_list\u001b[0m\u001b[1;33m\u001b[0m\u001b[1;33m\u001b[0m\u001b[0m\n",
      "\u001b[1;31mValueError\u001b[0m: invalid literal for int() with base 10: '03 · 19 · 24 · 44 · 50'"
     ]
    }
   ],
   "source": [
    "# import urllib2\n",
    "from bs4 import BeautifulSoup\n",
    "\n",
    "win_dict = {}\n",
    "\n",
    "page_num = 1\n",
    "total_pages = 63\n",
    "\n",
    "while True:\n",
    "    if page_num > total_pages: break\n",
    "    \n",
    "    page_num = str(page_num)\n",
    "    \n",
    "    url='http://www.usamega.com/mega-millions-history.asp?p='+page_num\n",
    "    \n",
    "    response = requests.get(url, timeout=5)\n",
    "\n",
    "    soup = BeautifulSoup(response.content, \"html.parser\")\n",
    "\n",
    "    for row in soup('table')[4].findAll('tr'):\n",
    "\n",
    "        tds = row('td')\n",
    "        \n",
    "        print(tds)\n",
    "\n",
    "        if tds[1].a is not None:                   \n",
    "            win_dict['date'] = tds[1].a.string         \n",
    "\n",
    "            if tds[3].b is not None:\n",
    "                num_list = []\n",
    "                number_list = tds[3].b.string.split('&middot;')\n",
    "\n",
    "                for num in number_list:\n",
    "                    num_list.append(int(num))\n",
    "\n",
    "                win_dict['numbers'] = num_list\n",
    "\n",
    "                mega_number = tds[3].strong.string\n",
    "\n",
    "                win_dict['mega_number'] = int(mega_number)\n",
    "\n",
    "                print (win_dict)\n",
    "\n",
    "    page_num = int(page_num)\n",
    "    page_num += 1"
   ]
  },
  {
   "cell_type": "code",
   "execution_count": null,
   "metadata": {},
   "outputs": [],
   "source": [
    "error"
   ]
  },
  {
   "cell_type": "code",
   "execution_count": null,
   "metadata": {},
   "outputs": [],
   "source": []
  },
  {
   "cell_type": "code",
   "execution_count": null,
   "metadata": {},
   "outputs": [],
   "source": []
  },
  {
   "cell_type": "code",
   "execution_count": null,
   "metadata": {},
   "outputs": [],
   "source": []
  },
  {
   "cell_type": "code",
   "execution_count": null,
   "metadata": {},
   "outputs": [],
   "source": []
  },
  {
   "cell_type": "code",
   "execution_count": null,
   "metadata": {},
   "outputs": [],
   "source": []
  },
  {
   "cell_type": "code",
   "execution_count": null,
   "metadata": {},
   "outputs": [],
   "source": []
  },
  {
   "cell_type": "code",
   "execution_count": null,
   "metadata": {},
   "outputs": [],
   "source": []
  },
  {
   "cell_type": "code",
   "execution_count": null,
   "metadata": {},
   "outputs": [],
   "source": []
  },
  {
   "cell_type": "code",
   "execution_count": null,
   "metadata": {},
   "outputs": [],
   "source": [
    "url='https://www.megamillions.com/Winning-Numbers/Previous-Drawings.aspx'\n",
    "response = requests.get(url, timeout=5)\n",
    "soup = BeautifulSoup(response.content, \"html.parser\")\n",
    "print(soup)\n",
    "# gold = soup.findAll(\"div\", { \"class\" : \"previousDrawingList\" })\n",
    "gold = [d.find_all('a') for d in soup.find_all('div',{'class':'previousDrawingList'})]\n",
    "# gold = soup.findAll(\"a\", { \"class\" : \"prevDrawItem\" })\n",
    "print(gold)\n",
    "# for case in gold:\n",
    "#     data=case.find('a').find('ul').text"
   ]
  },
  {
   "cell_type": "code",
   "execution_count": null,
   "metadata": {},
   "outputs": [],
   "source": []
  },
  {
   "cell_type": "code",
   "execution_count": null,
   "metadata": {},
   "outputs": [],
   "source": []
  },
  {
   "cell_type": "code",
   "execution_count": null,
   "metadata": {},
   "outputs": [],
   "source": []
  },
  {
   "cell_type": "code",
   "execution_count": null,
   "metadata": {},
   "outputs": [],
   "source": []
  },
  {
   "cell_type": "code",
   "execution_count": null,
   "metadata": {},
   "outputs": [],
   "source": []
  },
  {
   "cell_type": "code",
   "execution_count": null,
   "metadata": {},
   "outputs": [],
   "source": []
  },
  {
   "cell_type": "code",
   "execution_count": null,
   "metadata": {},
   "outputs": [],
   "source": []
  },
  {
   "cell_type": "code",
   "execution_count": null,
   "metadata": {},
   "outputs": [],
   "source": []
  },
  {
   "cell_type": "code",
   "execution_count": null,
   "metadata": {},
   "outputs": [],
   "source": [
    "for i in range(1,2):\n",
    "    page_link=f'https://www.usamega.com/mega-millions-history.asp?p={i}'\n",
    "    page_response = requests.get(page_link, timeout=5)\n",
    "    page_content = BeautifulSoup(page_response.content, \"html.parser\") \n",
    "     \n",
    "textContent = []\n",
    "for i in range(0, 52):\n",
    "    paragraphs = page_content.find_all(\"b\")[i].text\n",
    "    textContent.append(paragraphs)\n",
    "mega_plier=textContent[1::2]\n",
    "numbers=textContent[0::2]"
   ]
  },
  {
   "cell_type": "code",
   "execution_count": null,
   "metadata": {},
   "outputs": [],
   "source": [
    "page_link_gold='https://www.megamillions.com/Winning-Numbers/Previous-Drawings.aspx'\n",
    "page_response_gold = requests.get(page_link_gold, timeout=5)\n",
    "page_content_gold = BeautifulSoup(page_response_gold.content, \"html.parser\")\n",
    "paragraphs_gold = page_content_gold.find_all(\"ball yellowBall\").text"
   ]
  },
  {
   "cell_type": "code",
   "execution_count": null,
   "metadata": {},
   "outputs": [],
   "source": [
    "gold_list = np.array(mega_plier, dtype=np.int)\n",
    "gold_list"
   ]
  },
  {
   "cell_type": "code",
   "execution_count": null,
   "metadata": {},
   "outputs": [],
   "source": [
    "textContent"
   ]
  },
  {
   "cell_type": "markdown",
   "metadata": {},
   "source": [
    "#### Create Lists of Lists"
   ]
  },
  {
   "cell_type": "code",
   "execution_count": null,
   "metadata": {},
   "outputs": [],
   "source": [
    "res = [] \n",
    "for el in numbers:\n",
    "    sub = el.split(', ') \n",
    "    res.append(sub)\n",
    "res = str(res).replace(\"·\", \",\")\n",
    "res"
   ]
  },
  {
   "cell_type": "markdown",
   "metadata": {},
   "source": [
    "#### Create DataFrame"
   ]
  },
  {
   "cell_type": "code",
   "execution_count": null,
   "metadata": {},
   "outputs": [],
   "source": [
    "df = pd.DataFrame(eval(res))\n",
    "df.columns = ['Info']\n",
    "new = df[\"Info\"].str.split(\",\", n = 5, expand = True) \n",
    "new.columns=['1', '2', '3', '4', '5']\n",
    "new"
   ]
  },
  {
   "cell_type": "code",
   "execution_count": null,
   "metadata": {},
   "outputs": [],
   "source": [
    "col_one_list_one = new['1'].tolist()\n",
    "col_one_list_two = new['2'].tolist()\n",
    "col_one_list_three = new['3'].tolist()\n",
    "col_one_list_four = new['4'].tolist()\n",
    "col_one_list_five = new['5'].tolist()\n",
    "col_list=col_one_list_one+col_one_list_two+col_one_list_three+col_one_list_four+col_one_list_five\n",
    "lst = np.array(col_list, dtype=np.int)\n",
    "lst"
   ]
  },
  {
   "cell_type": "markdown",
   "metadata": {},
   "source": [
    "# Winning Numbers"
   ]
  },
  {
   "cell_type": "code",
   "execution_count": null,
   "metadata": {},
   "outputs": [],
   "source": [
    "# #create a data set that contains all the winning numbers\n",
    "# data=[\n",
    "# [14,19,34,39,59],   \n",
    "# [6,13,34,46,62],\n",
    "# [18,34,44,60,69],\n",
    "# [46,54,57,58,66],\n",
    "# [27,32,50,52,57],\n",
    "# [11,44,45,46,70],\n",
    "# [5,11,25,27, 64],   \n",
    "# [15,16,18,39,59],\n",
    "# [9,38,47,49,68],\n",
    "# [14,39,43,44,67],\n",
    "# [20,36,37,48,67],\n",
    "# [26,29,41,52,64],\n",
    "# [25,28,38,59,62],\n",
    "# [3,15,42,48,56],\n",
    "# [7,10,15,31,57],\n",
    "# [19,22,24,28,53],\n",
    "# [15,25,26,38,47],\n",
    "# [3,9,50,53,64],\n",
    "# [8,10,15,17,57],\n",
    "# [11,15,31,42,63],\n",
    "# [4,18,26,27,58],\n",
    "# [3,24,29,42,47],\n",
    "# [8,22,29,43,56],\n",
    "# [4,44,53,64,70],\n",
    "# [2,22,30,42,62],\n",
    "# [12,35,46,48,69],\n",
    "# [17,20,27,31,34],\n",
    "# [8,33,39,54,58],\n",
    "# [14,25,26,41,43],\n",
    "# [12,13,21,46,57],\n",
    "# [6,26,55,56,64],\n",
    "# [10,15,20,49,53],\n",
    "# [16,20,25,30,43],\n",
    "# [20,40,44,45,50],\n",
    "# [9,16,29,37,53],\n",
    "# [6,20,37,40,48],\n",
    "# [11,34,36,52,66],\n",
    "# [21,23,33,35,42],\n",
    "# [9,14,57,67,70],\n",
    "# [1,5,9,10,23],\n",
    "# [32,35,37,47,55],\n",
    "# [9,20,23,26,29],\n",
    "# [10,13,32,41,51],\n",
    "# [34,52,58,59,62],\n",
    "# [8,10,20,44,46],\n",
    "# [8,19,25,36,66],\n",
    "# [11,17,32,33,46],\n",
    "# [7,16,27,44,52],\n",
    "# [5,20,22,61,70],\n",
    "# [7,13,17,21,45],\n",
    "# [28,30,31,35,66],\n",
    "# [13,19,53,54,63],\n",
    "# [1,27,32,60,67],\n",
    "#      ]"
   ]
  },
  {
   "cell_type": "markdown",
   "metadata": {},
   "source": [
    "#### Determine Which Numbers Are Most Likely To Be Called"
   ]
  },
  {
   "cell_type": "code",
   "execution_count": null,
   "metadata": {},
   "outputs": [],
   "source": [
    "#need to concatonate all the lists of numbers \n",
    "#list=list+x is the same as list+=x\n",
    "#create an empty list and then loop through a sample of 30\n",
    "# sample of 30 is enough for the central limit theorem(large data set normalizes the numbers) \n",
    "#could use ''.join()\n",
    "# lst=[]\n",
    "# for x in data[0:30]:\n",
    "#     lst+=x\n",
    "#count the number of times a # occurs in lst then sort them\n",
    "d={}\n",
    "[ d.update( {i:d.get(i, 0)+1} ) for i in lst ]\n",
    "sorted_d = sorted(d.items())\n",
    "\n",
    "#find the numbers that have not been called in the data set\n",
    "#sort the list, and then look through a range from index 0 to 71\n",
    "#Then if not in list return those numbers\n",
    "lst.sort()\n",
    "def find_missing(lst): \n",
    "    return [x for x in range(lst[0], lst[-1]+1)  if x not in lst]\n",
    "\n",
    "print(\"Numbers have not been choosen\")\n",
    "print(find_missing(lst))\n",
    "\n",
    "###Finding numbers that are repeated exactly twice \n",
    "##there is an initial assumption that numbers repeated only twice are more likely to be called again than any other repetition\n",
    "once=[\n",
    "    item\n",
    "    for item,  count in collections.Counter(lst).items()\n",
    "    if count == 1]\n",
    "repeats = [\n",
    "    item \n",
    "    for item, count in collections.Counter(lst).items() \n",
    "    if count == 2]\n",
    "\n",
    "print(\"Numbers that have been choosen only once\")\n",
    "print(once)\n",
    "print(\"Numbers that have been choosen only twice\")\n",
    "print(repeats)\n",
    "\n",
    "lucky_Numbers=once+repeats+find_missing(lst)\n",
    "lucky_Numbers.sort()\n",
    "print('Lucky Numbers')\n",
    "# Lucky Numbers are the numbers that have never been chose, chosen once, or chosen twice.\n",
    "lucky_Numbers"
   ]
  },
  {
   "cell_type": "markdown",
   "metadata": {},
   "source": [
    "## Statisitics"
   ]
  },
  {
   "cell_type": "code",
   "execution_count": null,
   "metadata": {},
   "outputs": [],
   "source": [
    "stdev = st.pstdev(lst)\n",
    "print('Standard Deviation')\n",
    "print(stdev)\n",
    "variance = st.pvariance(lst)\n",
    "print('Variance')\n",
    "print(variance)"
   ]
  },
  {
   "cell_type": "markdown",
   "metadata": {},
   "source": [
    "## Comparing Lists With and Without Numbers From 60 to 70"
   ]
  },
  {
   "cell_type": "markdown",
   "metadata": {},
   "source": [
    "#### list Without Numbers From 60 to 70"
   ]
  },
  {
   "cell_type": "code",
   "execution_count": null,
   "metadata": {},
   "outputs": [],
   "source": [
    "# Numbers from 60 to 70 are uncommon \n",
    "# The following section analyzes the difference between lists with the numbers from 60 to 70 and lists without the numbers 60 to 70\n",
    "lst_sixty=lst[0:59]\n",
    "print('Mean')\n",
    "print(st.mean(lst_sixty))\n",
    "print('Median')\n",
    "print(st.median(lst_sixty))\n",
    "print('Variance')\n",
    "print(st.variance(lst_sixty))\n",
    "print('Standard Deviation')\n",
    "print(st.stdev(lst_sixty))"
   ]
  },
  {
   "cell_type": "markdown",
   "metadata": {},
   "source": [
    "#### list With Numbers From 60 to 70"
   ]
  },
  {
   "cell_type": "code",
   "execution_count": null,
   "metadata": {},
   "outputs": [],
   "source": [
    "lst\n",
    "print('Mean')\n",
    "print(st.mean(lst))\n",
    "print('Median')\n",
    "print(st.median(lst))\n",
    "print('Variance')\n",
    "print(st.variance(lst))\n",
    "print('Standard Deviation')\n",
    "print(st.stdev(lst))"
   ]
  },
  {
   "cell_type": "markdown",
   "metadata": {},
   "source": [
    "#### Null Hypothesis"
   ]
  },
  {
   "cell_type": "code",
   "execution_count": null,
   "metadata": {},
   "outputs": [],
   "source": [
    "#null hyp: removing the numbers 60 to 70 will not effect the study (if p-value is below 0.05 then we can reject the null hypothesis)\n",
    "#alt hyp: removing the numbers 60 to 70 will have a positive effect on the study\n",
    "stats.ttest_ind(lst, lst_sixty, equal_var = False)"
   ]
  },
  {
   "cell_type": "markdown",
   "metadata": {},
   "source": [
    "## Visualizing Winning Numbers"
   ]
  },
  {
   "cell_type": "markdown",
   "metadata": {},
   "source": [
    "#### example of how to calculate probablility"
   ]
  },
  {
   "cell_type": "code",
   "execution_count": null,
   "metadata": {},
   "outputs": [],
   "source": [
    "probabilitiz=[]\n",
    "for x in lst:\n",
    "    probabilitiz.append(x/len(lst))"
   ]
  },
  {
   "cell_type": "markdown",
   "metadata": {},
   "source": [
    "#### Scatter Plot of Mega Millions Winning Numbers"
   ]
  },
  {
   "cell_type": "code",
   "execution_count": null,
   "metadata": {
    "scrolled": false
   },
   "outputs": [],
   "source": [
    "#unpack the list ofr x and y values using zip(data)\n",
    "x, y = zip(*sorted_d)\n",
    "#plot the # vs the number of occurces\n",
    "fig = plt.figure(figsize = (20, 10))\n",
    "plt.scatter(*zip(*sorted_d))\n",
    "plt.xticks(np.arange(min(x), max(x)+1, 1.0))\n",
    "\n",
    "plt.xlabel(\"Mega Millions Number\") \n",
    "plt.ylabel(\"No. of Occurences\") \n",
    "plt.title(\"Scatter Plot of Occurences of Mega Millions Winning Numbers\") \n",
    "plt.grid()\n",
    " # Call save fig beforee plt.show \n",
    "plt.savefig(\"Images/MegaMillions_Scatter.png\", bbox_inches='tight')\n",
    "plt.show()"
   ]
  },
  {
   "cell_type": "markdown",
   "metadata": {},
   "source": [
    "#### Frequency"
   ]
  },
  {
   "cell_type": "code",
   "execution_count": null,
   "metadata": {},
   "outputs": [],
   "source": [
    "fig = plt.figure(figsize = (15, 5))\n",
    "plt.hist(lst, bins=[0,10,20,30,40,50,60,70])  \n",
    "plt.xlabel(\"Bin of Winning Numbers\") \n",
    "plt.ylabel(\"Frequency of Winning Numbers\") \n",
    "plt.title(\"Occurences of Mega Millions Winning Numbers\")\n",
    "plt.grid()\n",
    "plt.savefig(\"Images/MegaMillions_BinFrequency.png\", bbox_inches='tight')"
   ]
  },
  {
   "cell_type": "markdown",
   "metadata": {},
   "source": [
    "#### Probability"
   ]
  },
  {
   "cell_type": "code",
   "execution_count": null,
   "metadata": {},
   "outputs": [],
   "source": [
    "fig = plt.figure(figsize = (15, 5))\n",
    "plt.hist(lst, bins=[0,10,20,30,40,50,60,70], density=True )    #density=True to convert to probablilities\n",
    "plt.gca().yaxis.set_major_formatter(mtick.PercentFormatter(.1))\n",
    "plt.xlabel(\"Mega Millions Number\") \n",
    "plt.ylabel(\"Probability of Winning Numbers\") \n",
    "plt.title(\"Probability of Mega Millions Winning Numbers\")\n",
    "plt.grid()\n",
    "plt.savefig(\"Images/MegaMillionsBinProbability.png\", bbox_inches='tight')"
   ]
  },
  {
   "cell_type": "markdown",
   "metadata": {},
   "source": [
    "#### Probability of Individual Numbers"
   ]
  },
  {
   "cell_type": "code",
   "execution_count": null,
   "metadata": {},
   "outputs": [],
   "source": [
    "def frequencies(values):\n",
    "    frequencies = {}\n",
    "    for v in values:\n",
    "        if v in frequencies:\n",
    "            frequencies[v] += 1\n",
    "        else:\n",
    "            frequencies[v] = 1\n",
    "    return frequencies\n",
    "def probabilities(sample, freqs):\n",
    "    probs = []\n",
    "    for k,v in freqs.items():\n",
    "        probs.append(round(v/len(sample),3))\n",
    "    return probs\n",
    "sample = lst                                    #lst is the list of numbers that are sorted\n",
    "freqs = frequencies(sample)                     # frequency is how often the number occurs\n",
    "probs = probabilities(sample, freqs)            #probabilility appends (#/length of the sample) to three decimal\n",
    "x_axis = list(set(sample))                      # x_axis just counts the numbers from 1 to 70\n",
    "fig = plt.figure(figsize = (20, 10))\n",
    "plt.bar(x_axis, probs)\n",
    "plt.gca().yaxis.set_major_formatter(mtick.PercentFormatter(.1))\n",
    "plt.xlabel(\"Mega Millions Number\") \n",
    "plt.ylabel(\"Probability of Winning Numbers\") \n",
    "plt.title(\"Bar Char of Mega Millions Winning Numbers\") \n",
    "plt.grid()\n",
    "plt.savefig(\"Images/MegaMillionsProbabilityBar.png\", bbox_inches='tight')\n",
    "plt.show()"
   ]
  },
  {
   "cell_type": "markdown",
   "metadata": {},
   "source": [
    "# Bins and Quartiles Examples"
   ]
  },
  {
   "cell_type": "markdown",
   "metadata": {},
   "source": [
    "#### Equal Amount of Observations"
   ]
  },
  {
   "cell_type": "code",
   "execution_count": null,
   "metadata": {},
   "outputs": [],
   "source": [
    "Qcuts=pd.qcut(lst, q=4)\n",
    "Qcuts.value_counts()"
   ]
  },
  {
   "cell_type": "markdown",
   "metadata": {},
   "source": [
    "#### Defined Number of Bins"
   ]
  },
  {
   "cell_type": "code",
   "execution_count": null,
   "metadata": {},
   "outputs": [],
   "source": [
    "pd.cut(lst, bins=4).value_counts()"
   ]
  },
  {
   "cell_type": "markdown",
   "metadata": {},
   "source": [
    "#### Defining Bin Bounaries"
   ]
  },
  {
   "cell_type": "code",
   "execution_count": null,
   "metadata": {
    "scrolled": true
   },
   "outputs": [],
   "source": [
    "##linespace to provide an array of evenly spaced bins over a specified range\n",
    "cut_bins = [0, 10, 20, 30, 40,50,60,70]\n",
    "Cut_lst = pd.cut(lst, bins=cut_bins)"
   ]
  },
  {
   "cell_type": "markdown",
   "metadata": {},
   "source": [
    "#### Defined Interval Ranges"
   ]
  },
  {
   "cell_type": "code",
   "execution_count": null,
   "metadata": {},
   "outputs": [],
   "source": [
    "interval_range = pd.interval_range(start=0, freq=10, end=70)\n",
    "lst_interval = pd.cut(lst, bins=interval_range, labels=[1,2,3])\n",
    "lst_interval"
   ]
  },
  {
   "cell_type": "markdown",
   "metadata": {},
   "source": [
    "#### Pick Random Numbers"
   ]
  },
  {
   "cell_type": "code",
   "execution_count": null,
   "metadata": {},
   "outputs": [],
   "source": [
    "# Create a list of random numbers that could be choosen.\n",
    "lotteryNumbers = []\n",
    "\n",
    "# Generage Random Numbers\n",
    "for i in range (0,5):\n",
    "  #generate a set of random numbers\n",
    "    number = random.randint(10,60)\n",
    "  #Check if this number has already been picked\n",
    "    while number in lotteryNumbers:\n",
    "  # if it has, pick a new number instead \n",
    "        number = random.randint(10,60)\n",
    " #Now that we have a unique number, let's append it to our list.\n",
    "    lotteryNumbers.append(number)\n",
    "\n",
    "#Sort the list in ascending order\n",
    "lotteryNumbers.sort()\n",
    "\n",
    "#Display the list on screen:\n",
    "print(\"Today's lottery numbers are: \") \n",
    "print(lotteryNumbers)"
   ]
  },
  {
   "cell_type": "markdown",
   "metadata": {},
   "source": [
    "#### Pick Numbers From Lucky Numbers List"
   ]
  },
  {
   "cell_type": "code",
   "execution_count": null,
   "metadata": {},
   "outputs": [],
   "source": [
    "# Create a list of random numbers that could be choosen.\n",
    "lotteryNumbers = []\n",
    "\n",
    "# Generage Random Numbers From Lucky Numbers List\n",
    "for i in range (0,5):\n",
    "  #generate a set of random numbers\n",
    "    number = random.choice(lucky_Numbers)\n",
    "  #Check if this number has already been picked\n",
    "    while number in lotteryNumbers:\n",
    "  # if it has, pick a new number instead \n",
    "        number = random.choice(lucky_Numbers)\n",
    " #Now that we have a unique number, let's append it to our list.\n",
    "    lotteryNumbers.append(number)    \n",
    "\n",
    "#Sort the list in ascending order\n",
    "lotteryNumbers.sort()\n",
    "\n",
    "#Display the list on screen:\n",
    "print(\"Today's lottery numbers are: \") \n",
    "print(lotteryNumbers)"
   ]
  },
  {
   "cell_type": "markdown",
   "metadata": {},
   "source": [
    "# Gold Number"
   ]
  },
  {
   "cell_type": "markdown",
   "metadata": {},
   "source": [
    "#### Determine Which Numbers Are Most Likely To Be Called"
   ]
  },
  {
   "cell_type": "code",
   "execution_count": null,
   "metadata": {},
   "outputs": [],
   "source": [
    "# gold=[11, 1, 22, 10, 12, 25,13,17,25,19,16,12,11,22,13,21,25,22,1,12,14,23,13,9,3,20,23,19,17,15,21,22,22,18,24,11,15,7,6,2,22,22,8,3,4,18,9,25,5,4,14,14,17,18]\n",
    "# #gold_list is 30 samples of winning numbers\n",
    "# gold_list=gold[0:30]\n",
    "#create a dictionary and count occurances in gold_list\n",
    "g={}\n",
    "[ g.update( {i:g.get(i, 0)+1} ) for i in gold_list ]\n",
    "#sort the list\n",
    "sorted_g=sorted(g.items())\n",
    "\n",
    "gold_list.sort()\n",
    "def find_missing(gold_list): \n",
    "    return [x for x in range(gold_list[0], gold_list[-1]+1)  if x not in gold_list]\n",
    "print(find_missing(gold_list))\n",
    "\n",
    "###Finding numbers that are repeated exactly twice \n",
    "##there is an initial assumption that numbers repeated only twice are more likely to be called again than any other repetition\n",
    "repeats = [\n",
    "    item \n",
    "    for item, count in collections.Counter(gold_list).items() \n",
    "    if count == 2\n",
    "]\n",
    "print(repeats)"
   ]
  },
  {
   "cell_type": "markdown",
   "metadata": {},
   "source": [
    "#### Statistics"
   ]
  },
  {
   "cell_type": "code",
   "execution_count": null,
   "metadata": {},
   "outputs": [],
   "source": [
    "print('Standard Deviation')\n",
    "stdevg = st.pstdev(gold_list)\n",
    "print(stdevg)\n",
    "print('Variance')\n",
    "varianceg = st.pvariance(gold_list)\n",
    "print(varianceg)"
   ]
  },
  {
   "cell_type": "markdown",
   "metadata": {},
   "source": [
    "# Bins and Quartiles"
   ]
  },
  {
   "cell_type": "markdown",
   "metadata": {},
   "source": [
    "#### Equal Amount of Observations"
   ]
  },
  {
   "cell_type": "code",
   "execution_count": null,
   "metadata": {},
   "outputs": [],
   "source": [
    "Qcutsg=pd.qcut(gold_list, q=4)\n",
    "Qcutsg.value_counts()"
   ]
  },
  {
   "cell_type": "markdown",
   "metadata": {},
   "source": [
    "#### Defined Number of Bins"
   ]
  },
  {
   "cell_type": "code",
   "execution_count": null,
   "metadata": {},
   "outputs": [],
   "source": [
    "pd.cut(gold_list, bins=4).value_counts()"
   ]
  },
  {
   "cell_type": "markdown",
   "metadata": {},
   "source": [
    "#### Defining Bin Bounaries"
   ]
  },
  {
   "cell_type": "code",
   "execution_count": null,
   "metadata": {},
   "outputs": [],
   "source": [
    "cut_binsg = [0, 5,10,15,20,25]\n",
    "Cut_lstg = pd.cut(gold_list, bins=cut_bins)\n",
    "Cut_lstg"
   ]
  },
  {
   "cell_type": "markdown",
   "metadata": {},
   "source": [
    "#### Evenly Spaced Bins"
   ]
  },
  {
   "cell_type": "code",
   "execution_count": null,
   "metadata": {},
   "outputs": [],
   "source": [
    "binz=pd.cut(gold_list, bins=np.linspace(0, 25, 6))\n",
    "binz"
   ]
  },
  {
   "cell_type": "markdown",
   "metadata": {},
   "source": [
    "#### Defined Interval Ranges"
   ]
  },
  {
   "cell_type": "code",
   "execution_count": null,
   "metadata": {},
   "outputs": [],
   "source": [
    "#use interval range for numbers and date ranges but cannot label bins\n",
    "interval_range = pd.interval_range(start=0, freq=5, end=25)\n",
    "lst_interval = pd.cut(gold_list, bins=interval_range, labels=[1,2,3])\n",
    "lst_interval"
   ]
  },
  {
   "cell_type": "markdown",
   "metadata": {},
   "source": [
    "# Visualizing Gold Winning Numbers"
   ]
  },
  {
   "cell_type": "markdown",
   "metadata": {},
   "source": [
    "#### Scatter Plot "
   ]
  },
  {
   "cell_type": "code",
   "execution_count": null,
   "metadata": {},
   "outputs": [],
   "source": [
    "#unpack the list ofr x and y values using zip(data)\n",
    "x, y = zip(*sorted_g)\n",
    "#plot the # vs the number of occurces\n",
    "fig = plt.figure(figsize = (15, 5))\n",
    "plt.scatter(*zip(*sorted_g))\n",
    "plt.xticks(np.arange(min(x), max(x)+1, 1.0))\n",
    "\n",
    "plt.xlabel(\"Mega Millions Number\") \n",
    "plt.ylabel(\"Gold Number\") \n",
    "plt.title(\"Mega Millions Winning Numbers\") \n",
    "plt.grid()\n",
    "plt.show() \n",
    "plt.savefig(\"MegaMillionsGold.png\", bbox_inches='tight')\n",
    "plt.savefig(\"Images/GoldScatter.png\", bbox_inches='tight')\n",
    "plt.show()"
   ]
  },
  {
   "cell_type": "markdown",
   "metadata": {},
   "source": [
    "#### Frequency Of Bins"
   ]
  },
  {
   "cell_type": "code",
   "execution_count": null,
   "metadata": {
    "scrolled": true
   },
   "outputs": [],
   "source": [
    "fig = plt.figure(figsize = (15, 5))\n",
    "plt.hist(gold_list, bins=[0, 5, 10, 15, 20, 25])\n",
    "plt.xlabel(\"Bin of Winning Numbers\") \n",
    "plt.ylabel(\"Frequency of Winning Numbers\") \n",
    "plt.title(\"Occurences of Mega Millions Winning Numbers\")\n",
    "plt.grid()\n",
    "plt.savefig(\"Images/GoldBinFrequency.png\", bbox_inches='tight')\n",
    "plt.show()"
   ]
  },
  {
   "cell_type": "markdown",
   "metadata": {},
   "source": [
    "#### Probability Of Bins"
   ]
  },
  {
   "cell_type": "code",
   "execution_count": null,
   "metadata": {
    "scrolled": true
   },
   "outputs": [],
   "source": [
    "#The probability adds up to 100% because we have to multiply the probability of each of the bins by 5\n",
    "fig = plt.figure(figsize = (15, 5))\n",
    "plt.hist(gold_list, bins=[0, 5, 10, 15, 20, 25], density=True)          #density=True to get probability\n",
    "plt.gca().yaxis.set_major_formatter(mtick.PercentFormatter(.1))\n",
    "plt.xlabel(\"Mega Millions Number\") \n",
    "plt.ylabel(\"Probability of Winning Numbers\") \n",
    "plt.title(\"Probability of Mega Millions Winning Numbers\")\n",
    "plt.grid()\n",
    "plt.savefig(\"Images/GoldBinProbability.png\", bbox_inches='tight')\n",
    "plt.show()"
   ]
  },
  {
   "cell_type": "markdown",
   "metadata": {},
   "source": [
    "#### Probability of Individual Winning Numbers"
   ]
  },
  {
   "cell_type": "code",
   "execution_count": null,
   "metadata": {},
   "outputs": [],
   "source": [
    "def frequenciesg(values):\n",
    "    frequenciesg = {}\n",
    "    for v in values:\n",
    "        if v in frequenciesg:\n",
    "            frequenciesg[v] += 1\n",
    "        else:\n",
    "            frequenciesg[v] = 1\n",
    "    return frequenciesg\n",
    "def probabilitiesg(samp, freqs):\n",
    "    probs = []\n",
    "    for k,v in freqs.items():\n",
    "        probs.append(round(v/len(samp),3))\n",
    "    return probs\n",
    "samp = gold_list                              #lst is the list of numbers that are sorted\n",
    "freqs = frequenciesg(samp)                     # frequency is how often the number occurs\n",
    "probs = probabilitiesg(samp, freqs)            #probabilility appends (#/length of the sample) to three decimal\n",
    "x_axis = list(set(samp))                      # x_axis just counts the numbers from 1 to 25\n",
    "fig = plt.figure(figsize = (15, 5))\n",
    "plt.gca().yaxis.set_major_formatter(mtick.PercentFormatter(.1))\n",
    "plt.bar(x_axis, probs)\n",
    "plt.xticks(np.arange(0, 26, 1.0))\n",
    "plt.grid()\n",
    "plt.savefig(\"Images/GoldBar.png\", bbox_inches='tight')\n",
    "plt.show()"
   ]
  },
  {
   "cell_type": "markdown",
   "metadata": {},
   "source": [
    "#### Numbers That Are Likely To Be Called"
   ]
  },
  {
   "cell_type": "code",
   "execution_count": null,
   "metadata": {},
   "outputs": [],
   "source": [
    "def find_missing(gold_list): \n",
    "    return [x for x in range(gold_list[0], gold_list[-1]+1)  if x not in gold_list]\n",
    "print(\"Numbers have not been choosen\")\n",
    "print(find_missing(gold_list))\n",
    "\n",
    "repeats = [\n",
    "    item \n",
    "    for item, count in collections.Counter(gold_list).items() \n",
    "    if count >= 2]\n",
    "print(\"Numbers that have been choosen twice\")\n",
    "print(repeats)\n"
   ]
  },
  {
   "cell_type": "markdown",
   "metadata": {},
   "source": [
    "#### Pick Random Numbers"
   ]
  },
  {
   "cell_type": "code",
   "execution_count": null,
   "metadata": {},
   "outputs": [],
   "source": [
    "# Create a list of random numbers that could be choosen.\n",
    "GoldNumbers = []\n",
    "\n",
    "for i in range (1):\n",
    "    number = random.randint(10,25)\n",
    "  #Check if this number has already been picked and ...\n",
    "    while number in GoldNumbers:\n",
    "    # ... if it has, pick a new number instead \n",
    "        number = random.randint(10,25)\n",
    "  \n",
    "  #Now that we have a unique number, let's append it to our list.\n",
    "    GoldNumbers.append(number)\n",
    "\n",
    "#Sort the list in ascending order\n",
    "GoldNumbers.sort()\n",
    "\n",
    "#Display the list on screen:\n",
    "print(\"Today's lottery numbers are:\") \n",
    "print(GoldNumbers)"
   ]
  },
  {
   "cell_type": "markdown",
   "metadata": {},
   "source": [
    "#### Pick Numbers From Lucky Numbers List"
   ]
  },
  {
   "cell_type": "code",
   "execution_count": null,
   "metadata": {},
   "outputs": [],
   "source": [
    "once=[\n",
    "    item\n",
    "    for item,  count in collections.Counter(lst).items()\n",
    "    if count == 1]\n",
    "\n",
    "\n",
    "print(\"Numbers that have been choosen only once\")\n",
    "print(once)\n",
    "print(\"Numbers that have been choosen only twice\")\n",
    "print(repeats)\n",
    "\n",
    "lucky_Numbers=once+repeats\n",
    "lucky_Numbers.sort()\n",
    "print('Lucky Numbers')\n",
    "lucky_Numbers"
   ]
  }
 ],
 "metadata": {
  "kernelspec": {
   "display_name": "PythonData",
   "language": "python",
   "name": "pythondata"
  },
  "language_info": {
   "codemirror_mode": {
    "name": "ipython",
    "version": 3
   },
   "file_extension": ".py",
   "mimetype": "text/x-python",
   "name": "python",
   "nbconvert_exporter": "python",
   "pygments_lexer": "ipython3",
   "version": "3.7.7"
  }
 },
 "nbformat": 4,
 "nbformat_minor": 4
}
